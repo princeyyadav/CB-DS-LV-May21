{
 "metadata": {
  "language_info": {
   "codemirror_mode": {
    "name": "ipython",
    "version": 3
   },
   "file_extension": ".py",
   "mimetype": "text/x-python",
   "name": "python",
   "nbconvert_exporter": "python",
   "pygments_lexer": "ipython3",
   "version": "3.9.4"
  },
  "orig_nbformat": 4,
  "kernelspec": {
   "name": "python3",
   "display_name": "Python 3.9.4 64-bit"
  },
  "interpreter": {
   "hash": "d62006d1f3422635846181a997a61e8ec3049f797e5d7dfe0cd1bb84092b7c19"
  }
 },
 "nbformat": 4,
 "nbformat_minor": 2,
 "cells": [
  {
   "source": [
    "# Session 23\n",
    "1. Avoiding Overfitting:\n",
    "    - Early Stopping : Stop when validation loss start to increase or plateaus w.r.t epochs\n",
    "    - Regularization : Constraining the parameter space\n",
    "    \n",
    "\n",
    "2. KNN, Linear, Logistic regression using sklearn\n",
    "3. Polynomial Regression : can be modelled by adding higher degree features in data"
   ],
   "cell_type": "markdown",
   "metadata": {}
  },
  {
   "cell_type": "code",
   "execution_count": 5,
   "metadata": {},
   "outputs": [],
   "source": [
    "import numpy as np\n",
    "import matplotlib.pyplot as plt\n",
    "from sklearn.linear_model import LogisticRegression"
   ]
  },
  {
   "cell_type": "code",
   "execution_count": 6,
   "metadata": {},
   "outputs": [
    {
     "output_type": "stream",
     "name": "stdout",
     "text": [
      "(400, 2) (400, 1)\n"
     ]
    }
   ],
   "source": [
    "# Data Load\n",
    "X = np.load(\"../data/LogR/X.npy\")\n",
    "y = np.load(\"../data/LogR/y.npy\")\n",
    "print(X.shape, y.shape)"
   ]
  },
  {
   "cell_type": "code",
   "execution_count": 9,
   "metadata": {},
   "outputs": [
    {
     "output_type": "stream",
     "name": "stdout",
     "text": [
      "(400,)\n"
     ]
    }
   ],
   "source": [
    "y = y.reshape(-1,)\n",
    "print(y.shape)"
   ]
  },
  {
   "cell_type": "code",
   "execution_count": 10,
   "metadata": {},
   "outputs": [
    {
     "output_type": "execute_result",
     "data": {
      "text/plain": [
       "LogisticRegression()"
      ]
     },
     "metadata": {},
     "execution_count": 10
    }
   ],
   "source": [
    "# model instantiation\n",
    "sk_logr = LogisticRegression(penalty='l2')\n",
    "\n",
    "# model fit\n",
    "sk_logr.fit(X, y)"
   ]
  },
  {
   "cell_type": "code",
   "execution_count": 11,
   "metadata": {},
   "outputs": [
    {
     "output_type": "execute_result",
     "data": {
      "text/plain": [
       "array([[-1.1844501 , -2.09203549]])"
      ]
     },
     "metadata": {},
     "execution_count": 11
    }
   ],
   "source": [
    "# weights\n",
    "sk_logr.coef_"
   ]
  },
  {
   "cell_type": "code",
   "execution_count": 12,
   "metadata": {},
   "outputs": [
    {
     "output_type": "execute_result",
     "data": {
      "text/plain": [
       "array([16.77293059])"
      ]
     },
     "metadata": {},
     "execution_count": 12
    }
   ],
   "source": [
    "# intercept\n",
    "sk_logr.intercept_"
   ]
  },
  {
   "cell_type": "code",
   "execution_count": 14,
   "metadata": {},
   "outputs": [],
   "source": [
    "# prediction on some data\n",
    "ypred = sk_logr.predict(X)"
   ]
  },
  {
   "cell_type": "code",
   "execution_count": 15,
   "metadata": {},
   "outputs": [
    {
     "output_type": "execute_result",
     "data": {
      "text/plain": [
       "0.9975"
      ]
     },
     "metadata": {},
     "execution_count": 15
    }
   ],
   "source": [
    "# evaluate model performance, accuracy of model\n",
    "sk_logr.score(X, y)"
   ]
  },
  {
   "cell_type": "code",
   "execution_count": 19,
   "metadata": {},
   "outputs": [
    {
     "output_type": "execute_result",
     "data": {
      "text/plain": [
       "(array([[-0.65085559, -1.60901988]]), array([11.09149058]))"
      ]
     },
     "metadata": {},
     "execution_count": 19
    }
   ],
   "source": [
    "# model instantiation\n",
    "sk_logr2 = LogisticRegression(penalty='l1', solver=\"liblinear\") # LASSO\n",
    "\n",
    "# model fit\n",
    "sk_logr2.fit(X, y)\n",
    "\n",
    "# weights\n",
    "sk_logr2.coef_, sk_logr2.intercept_"
   ]
  },
  {
   "cell_type": "code",
   "execution_count": 20,
   "metadata": {},
   "outputs": [
    {
     "output_type": "execute_result",
     "data": {
      "text/plain": [
       "0.9975"
      ]
     },
     "metadata": {},
     "execution_count": 20
    }
   ],
   "source": [
    "# predict\n",
    "ypred2 = sk_logr2.predict(X)\n",
    "\n",
    "# accuracy\n",
    "sk_logr2.score(X, y)"
   ]
  },
  {
   "cell_type": "code",
   "execution_count": 21,
   "metadata": {},
   "outputs": [],
   "source": [
    "## Our model\n",
    "import sys\n"
   ]
  },
  {
   "cell_type": "code",
   "execution_count": 22,
   "metadata": {},
   "outputs": [
    {
     "output_type": "execute_result",
     "data": {
      "text/plain": [
       "['e:\\\\CB-DS-LV-May21\\\\DS\\\\S23',\n",
       " 'c:\\\\Users\\\\Dell\\\\.vscode\\\\extensions\\\\ms-toolsai.jupyter-2021.8.1013163132\\\\pythonFiles\\\\vscode_datascience_helpers',\n",
       " 'c:\\\\Users\\\\Dell\\\\.vscode\\\\extensions\\\\ms-toolsai.jupyter-2021.8.1013163132\\\\pythonFiles',\n",
       " 'c:\\\\Users\\\\Dell\\\\.vscode\\\\extensions\\\\ms-toolsai.jupyter-2021.8.1013163132\\\\pythonFiles\\\\lib\\\\python',\n",
       " 'C:\\\\Users\\\\Dell\\\\AppData\\\\Local\\\\Programs\\\\Python\\\\Python39\\\\python39.zip',\n",
       " 'C:\\\\Users\\\\Dell\\\\AppData\\\\Local\\\\Programs\\\\Python\\\\Python39\\\\DLLs',\n",
       " 'C:\\\\Users\\\\Dell\\\\AppData\\\\Local\\\\Programs\\\\Python\\\\Python39\\\\lib',\n",
       " 'C:\\\\Users\\\\Dell\\\\AppData\\\\Local\\\\Programs\\\\Python\\\\Python39',\n",
       " '',\n",
       " 'C:\\\\Users\\\\Dell\\\\AppData\\\\Roaming\\\\Python\\\\Python39\\\\site-packages',\n",
       " 'C:\\\\Users\\\\Dell\\\\AppData\\\\Roaming\\\\Python\\\\Python39\\\\site-packages\\\\win32',\n",
       " 'C:\\\\Users\\\\Dell\\\\AppData\\\\Roaming\\\\Python\\\\Python39\\\\site-packages\\\\win32\\\\lib',\n",
       " 'C:\\\\Users\\\\Dell\\\\AppData\\\\Roaming\\\\Python\\\\Python39\\\\site-packages\\\\Pythonwin',\n",
       " 'C:\\\\Users\\\\Dell\\\\AppData\\\\Local\\\\Programs\\\\Python\\\\Python39\\\\lib\\\\site-packages',\n",
       " 'C:\\\\Users\\\\Dell\\\\AppData\\\\Roaming\\\\Python\\\\Python39\\\\site-packages\\\\IPython\\\\extensions',\n",
       " 'C:\\\\Users\\\\Dell\\\\.ipython']"
      ]
     },
     "metadata": {},
     "execution_count": 22
    }
   ],
   "source": [
    "sys.path"
   ]
  },
  {
   "cell_type": "code",
   "execution_count": 23,
   "metadata": {},
   "outputs": [],
   "source": [
    "package_path = \"E:/CB-DS-LV-May21/DS/S22\" # path to my custom sklearn package\n",
    "sys.path.append(package_path)"
   ]
  },
  {
   "cell_type": "code",
   "execution_count": 24,
   "metadata": {},
   "outputs": [
    {
     "output_type": "execute_result",
     "data": {
      "text/plain": [
       "['e:\\\\CB-DS-LV-May21\\\\DS\\\\S23',\n",
       " 'c:\\\\Users\\\\Dell\\\\.vscode\\\\extensions\\\\ms-toolsai.jupyter-2021.8.1013163132\\\\pythonFiles\\\\vscode_datascience_helpers',\n",
       " 'c:\\\\Users\\\\Dell\\\\.vscode\\\\extensions\\\\ms-toolsai.jupyter-2021.8.1013163132\\\\pythonFiles',\n",
       " 'c:\\\\Users\\\\Dell\\\\.vscode\\\\extensions\\\\ms-toolsai.jupyter-2021.8.1013163132\\\\pythonFiles\\\\lib\\\\python',\n",
       " 'C:\\\\Users\\\\Dell\\\\AppData\\\\Local\\\\Programs\\\\Python\\\\Python39\\\\python39.zip',\n",
       " 'C:\\\\Users\\\\Dell\\\\AppData\\\\Local\\\\Programs\\\\Python\\\\Python39\\\\DLLs',\n",
       " 'C:\\\\Users\\\\Dell\\\\AppData\\\\Local\\\\Programs\\\\Python\\\\Python39\\\\lib',\n",
       " 'C:\\\\Users\\\\Dell\\\\AppData\\\\Local\\\\Programs\\\\Python\\\\Python39',\n",
       " '',\n",
       " 'C:\\\\Users\\\\Dell\\\\AppData\\\\Roaming\\\\Python\\\\Python39\\\\site-packages',\n",
       " 'C:\\\\Users\\\\Dell\\\\AppData\\\\Roaming\\\\Python\\\\Python39\\\\site-packages\\\\win32',\n",
       " 'C:\\\\Users\\\\Dell\\\\AppData\\\\Roaming\\\\Python\\\\Python39\\\\site-packages\\\\win32\\\\lib',\n",
       " 'C:\\\\Users\\\\Dell\\\\AppData\\\\Roaming\\\\Python\\\\Python39\\\\site-packages\\\\Pythonwin',\n",
       " 'C:\\\\Users\\\\Dell\\\\AppData\\\\Local\\\\Programs\\\\Python\\\\Python39\\\\lib\\\\site-packages',\n",
       " 'C:\\\\Users\\\\Dell\\\\AppData\\\\Roaming\\\\Python\\\\Python39\\\\site-packages\\\\IPython\\\\extensions',\n",
       " 'C:\\\\Users\\\\Dell\\\\.ipython',\n",
       " 'E:/CB-DS-LV-May21/DS/S22']"
      ]
     },
     "metadata": {},
     "execution_count": 24
    }
   ],
   "source": [
    "sys.path"
   ]
  },
  {
   "cell_type": "code",
   "execution_count": 25,
   "metadata": {},
   "outputs": [],
   "source": [
    "from mysklearn.linearmodels import LogisticRegression as LogR"
   ]
  },
  {
   "cell_type": "code",
   "execution_count": 26,
   "metadata": {},
   "outputs": [],
   "source": [
    "logr = LogR() # my logistic regression model"
   ]
  },
  {
   "cell_type": "code",
   "execution_count": 28,
   "metadata": {
    "tags": []
   },
   "outputs": [
    {
     "output_type": "stream",
     "name": "stdout",
     "text": [
      "epoch: 299, loss: 13.197827815948909, accuracy: 0.9975"
     ]
    }
   ],
   "source": [
    "losses = logr.fit(X, y.reshape(-1,1), learning_rate=0.001, epochs=300)"
   ]
  },
  {
   "cell_type": "code",
   "execution_count": 29,
   "metadata": {},
   "outputs": [
    {
     "output_type": "execute_result",
     "data": {
      "text/plain": [
       "0.9975"
      ]
     },
     "metadata": {},
     "execution_count": 29
    }
   ],
   "source": [
    "# making prediciton\n",
    "ypred = logr.predict(X)\n",
    "\n",
    "# accuracy\n",
    "logr.accuracy(y.reshape(-1,1), ypred)"
   ]
  },
  {
   "source": [
    "## Linear Regression"
   ],
   "cell_type": "markdown",
   "metadata": {}
  },
  {
   "cell_type": "code",
   "execution_count": null,
   "metadata": {},
   "outputs": [],
   "source": [
    "## Using our model"
   ]
  },
  {
   "cell_type": "code",
   "execution_count": 31,
   "metadata": {},
   "outputs": [],
   "source": [
    "from sklearn.datasets import make_regression"
   ]
  },
  {
   "cell_type": "code",
   "execution_count": 37,
   "metadata": {},
   "outputs": [
    {
     "output_type": "stream",
     "name": "stdout",
     "text": [
      "(200, 3) (200,)\n"
     ]
    }
   ],
   "source": [
    "# Get data\n",
    "X, y, coeff =  make_regression(n_samples=200, n_features=3, coef=True, noise=6, random_state=4)\n",
    "print(X.shape, y.shape)"
   ]
  },
  {
   "cell_type": "code",
   "execution_count": 38,
   "metadata": {},
   "outputs": [
    {
     "output_type": "execute_result",
     "data": {
      "text/plain": [
       "array([53.24247888, 82.95824216, 60.28434187])"
      ]
     },
     "metadata": {},
     "execution_count": 38
    }
   ],
   "source": [
    "coeff"
   ]
  },
  {
   "cell_type": "code",
   "execution_count": 40,
   "metadata": {},
   "outputs": [],
   "source": [
    "## Using our model\n",
    "from mysklearn.linearmodels import LinearRegression"
   ]
  },
  {
   "cell_type": "code",
   "execution_count": 41,
   "metadata": {},
   "outputs": [],
   "source": [
    "lr = LinearRegression()"
   ]
  },
  {
   "cell_type": "code",
   "execution_count": 44,
   "metadata": {},
   "outputs": [
    {
     "output_type": "execute_result",
     "data": {
      "text/plain": [
       "(array([-2.43670919, -2.37977527, -2.07141668]),\n",
       " array([2.70496343, 2.78680359, 2.269572  ]))"
      ]
     },
     "metadata": {},
     "execution_count": 44
    }
   ],
   "source": [
    "X.min(axis=0), X.max(axis=0)"
   ]
  },
  {
   "cell_type": "code",
   "execution_count": 45,
   "metadata": {},
   "outputs": [
    {
     "output_type": "stream",
     "name": "stdout",
     "text": [
      "epoch: 0, loss: 2395788.53691241, r2: 0.06505679335544468\n",
      "epoch: 1, loss: 2213363.2173072775, r2: 0.13624726390698494\n",
      "epoch: 2, loss: 2060585.165870576, r2: 0.19586805226722181\n",
      "epoch: 3, loss: 1923202.9125018034, r2: 0.24948071570628683\n",
      "epoch: 4, loss: 1783091.0985469446, r2: 0.30415857504547705\n",
      "epoch: 5, loss: 1644367.5431731225, r2: 0.3582946741627576\n",
      "epoch: 6, loss: 1516500.5395606812, r2: 0.40819406408784487\n",
      "epoch: 7, loss: 1401971.5320005277, r2: 0.45288837493053147\n",
      "epoch: 8, loss: 1299034.781547201, r2: 0.49305887164491746\n",
      "epoch: 9, loss: 1202384.3778388328, r2: 0.5307761563611421\n",
      "epoch: 10, loss: 1103104.1429959293, r2: 0.5695197181114094\n",
      "epoch: 11, loss: 1012042.3745361352, r2: 0.6050560688764255\n",
      "epoch: 12, loss: 935118.0791317131, r2: 0.635075349086761\n",
      "epoch: 13, loss: 881651.0199368814, r2: 0.6559405727921442\n",
      "epoch: 14, loss: 809398.4168353737, r2: 0.684136750957016\n",
      "epoch: 15, loss: 755020.5231159953, r2: 0.7053574227906384\n",
      "epoch: 16, loss: 697666.9436539214, r2: 0.7277393395035052\n",
      "epoch: 17, loss: 642067.1637638393, r2: 0.7494368456474148\n",
      "epoch: 18, loss: 592437.1595733942, r2: 0.7688046798901635\n",
      "epoch: 19, loss: 548474.260379569, r2: 0.7859609577971602\n",
      "epoch: 20, loss: 507611.82111122477, r2: 0.8019072983911845\n",
      "epoch: 21, loss: 462394.3350033383, r2: 0.8195531718924394\n",
      "epoch: 22, loss: 423335.77916208806, r2: 0.8347955569704588\n",
      "epoch: 23, loss: 386490.8472016858, r2: 0.8491740875898823\n",
      "epoch: 24, loss: 358821.67403951567, r2: 0.8599718291613409\n",
      "epoch: 25, loss: 332450.26135914086, r2: 0.8702631268928643\n",
      "epoch: 26, loss: 309642.48395801056, r2: 0.8791637356950625\n",
      "epoch: 27, loss: 286977.2341892075, r2: 0.8880087238781824\n",
      "epoch: 28, loss: 264803.7139372651, r2: 0.8966618173409577\n",
      "epoch: 29, loss: 245285.12089825212, r2: 0.9042788401641002\n",
      "epoch: 30, loss: 229435.17518143484, r2: 0.9104641936898004\n",
      "epoch: 31, loss: 212249.7998482971, r2: 0.9171706912265408\n",
      "epoch: 32, loss: 196998.94376104226, r2: 0.9231222533425649\n",
      "epoch: 33, loss: 181971.8067649583, r2: 0.9289865103224035\n",
      "epoch: 34, loss: 169494.28457972995, r2: 0.9338557942442101\n",
      "epoch: 35, loss: 158984.00993452338, r2: 0.9379573707097892\n",
      "epoch: 36, loss: 146959.28198458249, r2: 0.9426499541892289\n",
      "epoch: 37, loss: 135534.01580447084, r2: 0.9471086010333146\n",
      "epoch: 38, loss: 127091.31184714157, r2: 0.9504033194898895\n",
      "epoch: 39, loss: 117211.9425015211, r2: 0.9542586886567878\n",
      "epoch: 40, loss: 108226.63236079684, r2: 0.9577651561710248\n",
      "epoch: 41, loss: 101712.62288343628, r2: 0.960307212289519\n",
      "epoch: 42, loss: 95218.61721712843, r2: 0.9628414620315477\n",
      "epoch: 43, loss: 89125.98914252972, r2: 0.9652190763915777\n",
      "epoch: 44, loss: 83646.71547708992, r2: 0.9673573325907042\n",
      "epoch: 45, loss: 78810.91246470157, r2: 0.9692444779315574\n",
      "epoch: 46, loss: 74258.17309348701, r2: 0.9710211592542863\n",
      "epoch: 47, loss: 69346.32786987383, r2: 0.9729379796468844\n",
      "epoch: 48, loss: 64650.38564179132, r2: 0.9747705450913285\n",
      "epoch: 49, loss: 60834.474484597435, r2: 0.9762596832847084\n",
      "epoch: 50, loss: 57449.37049556781, r2: 0.9775807013668832\n",
      "epoch: 51, loss: 54770.2611692471, r2: 0.9786262089423263\n",
      "epoch: 52, loss: 51225.74586743153, r2: 0.9800094364063624\n",
      "epoch: 53, loss: 47894.11104312613, r2: 0.9813095884431607\n",
      "epoch: 54, loss: 44876.500383796345, r2: 0.9824871942889064\n",
      "epoch: 55, loss: 42231.530607037224, r2: 0.9835193790942266\n",
      "epoch: 56, loss: 39443.63607754854, r2: 0.9846073394926622\n",
      "epoch: 57, loss: 37174.02486145866, r2: 0.9854930426987316\n",
      "epoch: 58, loss: 35473.74298103007, r2: 0.9861565682849823\n",
      "epoch: 59, loss: 33283.90534450923, r2: 0.9870111402934778\n",
      "epoch: 60, loss: 31464.08430513528, r2: 0.9877213153743989\n",
      "epoch: 61, loss: 29791.91510760369, r2: 0.9883738701418606\n",
      "epoch: 62, loss: 28118.543995251857, r2: 0.9890268939499238\n",
      "epoch: 63, loss: 26723.81775961024, r2: 0.9895711781382197\n",
      "epoch: 64, loss: 25543.563708134257, r2: 0.9900317657445717\n",
      "epoch: 65, loss: 24413.28755254893, r2: 0.990472849753872\n",
      "epoch: 66, loss: 23410.95692196423, r2: 0.9908640037307103\n",
      "epoch: 67, loss: 22358.066763809857, r2: 0.9912748882831416\n",
      "epoch: 68, loss: 21386.86229486297, r2: 0.9916538954478036\n",
      "epoch: 69, loss: 20197.361737271785, r2: 0.9921180914519522\n",
      "epoch: 70, loss: 19178.952897670788, r2: 0.9925155198608044\n",
      "epoch: 71, loss: 18327.865435612366, r2: 0.9928476520288368\n",
      "epoch: 72, loss: 17509.11161841487, r2: 0.9931671661710532\n",
      "epoch: 73, loss: 16849.11971627127, r2: 0.9934247243552762\n",
      "epoch: 74, loss: 16146.549147690215, r2: 0.9936988986282401\n",
      "epoch: 75, loss: 15523.40380388757, r2: 0.9939420776471577\n",
      "epoch: 76, loss: 15069.504852121836, r2: 0.9941192091990114\n",
      "epoch: 77, loss: 14509.78914337531, r2: 0.9943376351541748\n",
      "epoch: 78, loss: 14044.20684258275, r2: 0.9945193260682741\n",
      "epoch: 79, loss: 13537.342771850495, r2: 0.9947171269644391\n",
      "epoch: 80, loss: 13133.354585804074, r2: 0.9948747811164185\n",
      "epoch: 81, loss: 12723.97474952757, r2: 0.9950345393300366\n",
      "epoch: 82, loss: 12372.769875503926, r2: 0.9951715950868574\n",
      "epoch: 83, loss: 12111.43092016546, r2: 0.9952735811666639\n",
      "epoch: 84, loss: 11763.869541004822, r2: 0.9954092150697951\n",
      "epoch: 85, loss: 11414.69545262678, r2: 0.9955454783237657\n",
      "epoch: 86, loss: 11116.261577390607, r2: 0.9956619404905996\n",
      "epoch: 87, loss: 10901.661158059273, r2: 0.9957456871156066\n",
      "epoch: 88, loss: 10611.223952104941, r2: 0.9958590286265456\n",
      "epoch: 89, loss: 10394.479874744482, r2: 0.9959436118022251\n",
      "epoch: 90, loss: 10230.27440938008, r2: 0.996007692075576\n",
      "epoch: 91, loss: 10029.161596079859, r2: 0.996086175237035\n",
      "epoch: 92, loss: 9834.919490793389, r2: 0.9961619771427475\n",
      "epoch: 93, loss: 9619.362223974334, r2: 0.9962460971721867\n",
      "epoch: 94, loss: 9485.863509958512, r2: 0.9962981943059036\n",
      "epoch: 95, loss: 9270.093883453086, r2: 0.9963823972075343\n",
      "epoch: 96, loss: 9119.520229995374, r2: 0.996441157741793\n",
      "epoch: 97, loss: 8973.10997743894, r2: 0.9964982935319104\n",
      "epoch: 98, loss: 8812.307333758647, r2: 0.9965610458729468\n",
      "epoch: 99, loss: 8641.555941848577, r2: 0.9966276806578753\n",
      "epoch: 100, loss: 8555.01330256295, r2: 0.9966614534435109\n",
      "epoch: 101, loss: 8464.583906858024, r2: 0.9966967430143109\n",
      "epoch: 102, loss: 8339.011648824231, r2: 0.9967457468924842\n",
      "epoch: 103, loss: 8225.281779019531, r2: 0.996790129344244\n",
      "epoch: 104, loss: 8172.369753441749, r2: 0.9968107779691546\n",
      "epoch: 105, loss: 8077.1082108086175, r2: 0.9968479532585289\n",
      "epoch: 106, loss: 7990.070796307176, r2: 0.9968819191274519\n",
      "epoch: 107, loss: 7948.342593063988, r2: 0.9968982033276418\n",
      "epoch: 108, loss: 7869.111331782479, r2: 0.9969291228885078\n",
      "epoch: 109, loss: 7799.2693630148915, r2: 0.996956378329976\n",
      "epoch: 110, loss: 7747.5825898187, r2: 0.9969765488069311\n",
      "epoch: 111, loss: 7704.941135149205, r2: 0.9969931893984317\n",
      "epoch: 112, loss: 7649.495441093637, r2: 0.9970148267734322\n",
      "epoch: 113, loss: 7596.9562547600835, r2: 0.9970353298998929\n",
      "epoch: 114, loss: 7557.469761197573, r2: 0.9970507392852963\n",
      "epoch: 115, loss: 7511.175383429127, r2: 0.9970688054098034\n",
      "epoch: 116, loss: 7486.650207148708, r2: 0.9970783762240057\n",
      "epoch: 117, loss: 7455.152320037303, r2: 0.9970906680999893\n",
      "epoch: 118, loss: 7436.100669635656, r2: 0.9970981029010345\n",
      "epoch: 119, loss: 7411.652621388713, r2: 0.9971076436164491\n",
      "epoch: 120, loss: 7375.412113524233, r2: 0.9971217862739129\n",
      "epoch: 121, loss: 7345.593955348438, r2: 0.9971334226449831\n",
      "epoch: 122, loss: 7322.844086245235, r2: 0.9971423006553927\n",
      "epoch: 123, loss: 7301.733075779994, r2: 0.9971505391102963\n",
      "epoch: 124, loss: 7286.656218115682, r2: 0.9971564227704915\n",
      "epoch: 125, loss: 7264.021442662512, r2: 0.9971652558662417\n",
      "epoch: 126, loss: 7237.345556596767, r2: 0.9971756659830255\n",
      "epoch: 127, loss: 7222.8168036221305, r2: 0.9971813357484014\n",
      "epoch: 128, loss: 7205.984219267561, r2: 0.9971879045712129\n",
      "epoch: 129, loss: 7200.239997547146, r2: 0.9971901462219229\n",
      "epoch: 130, loss: 7189.016268729131, r2: 0.9971945262199278\n",
      "epoch: 131, loss: 7171.257506539985, r2: 0.9972014564785091\n",
      "epoch: 132, loss: 7156.930408287143, r2: 0.9972070475492468\n",
      "epoch: 133, loss: 7146.633891316392, r2: 0.9972110657079639\n",
      "epoch: 134, loss: 7139.08169437637, r2: 0.9972140129109893\n",
      "epoch: 135, loss: 7127.5367019620535, r2: 0.9972185182803331\n",
      "epoch: 136, loss: 7121.491976285882, r2: 0.9972208772010476\n",
      "epoch: 137, loss: 7118.061973187621, r2: 0.9972222157407584\n",
      "epoch: 138, loss: 7116.373583216131, r2: 0.9972228746255931\n",
      "epoch: 139, loss: 7109.845687326839, r2: 0.9972254221008069\n",
      "epoch: 140, loss: 7101.977364653141, r2: 0.9972284926701489\n",
      "epoch: 141, loss: 7098.093446578451, r2: 0.9972300083476652\n",
      "epoch: 142, loss: 7089.244460202091, r2: 0.9972334616155855\n",
      "epoch: 143, loss: 7087.309540886824, r2: 0.9972342167071311\n",
      "epoch: 144, loss: 7080.669802910608, r2: 0.9972368078280999\n",
      "epoch: 145, loss: 7071.289820587412, r2: 0.9972404683142473\n",
      "epoch: 146, loss: 7064.631655686904, r2: 0.9972430666262212\n",
      "epoch: 147, loss: 7061.080022130252, r2: 0.9972444526315447\n",
      "epoch: 148, loss: 7060.429117191323, r2: 0.9972447066435919\n",
      "epoch: 149, loss: 7060.330314810436, r2: 0.9972447452006737\n",
      "epoch: 150, loss: 7063.491889056703, r2: 0.9972435114138356\n",
      "epoch: 151, loss: 7062.426144694896, r2: 0.9972439273146698\n",
      "epoch: 152, loss: 7055.9925516575995, r2: 0.997246437988718\n",
      "epoch: 153, loss: 7059.938656443934, r2: 0.997244898043182\n",
      "epoch: 154, loss: 7055.94658657863, r2: 0.9972464559263355\n",
      "epoch: 155, loss: 7050.924792192036, r2: 0.99724841565378\n",
      "epoch: 156, loss: 7053.773620049396, r2: 0.9972473039144878\n",
      "epoch: 157, loss: 7046.794777496535, r2: 0.9972500273691394\n",
      "epoch: 158, loss: 7042.989595381016, r2: 0.9972515123203837\n",
      "epoch: 159, loss: 7042.8698141702935, r2: 0.9972515590643377\n",
      "epoch: 160, loss: 7039.576365672813, r2: 0.997252844314372\n",
      "epoch: 161, loss: 7034.077311648339, r2: 0.9972549902897466\n",
      "epoch: 162, loss: 7031.458981017553, r2: 0.9972560120787728\n",
      "epoch: 163, loss: 7025.854605726101, r2: 0.9972581991551885\n",
      "epoch: 164, loss: 7024.700769480679, r2: 0.9972586494333925\n",
      "epoch: 165, loss: 7024.268221644125, r2: 0.9972588182327898\n",
      "epoch: 166, loss: 7023.4756230253215, r2: 0.9972591275400108\n",
      "epoch: 167, loss: 7023.638995120658, r2: 0.9972590637849554\n",
      "epoch: 168, loss: 7023.017222475415, r2: 0.9972593064282863\n",
      "epoch: 169, loss: 7021.6338129190235, r2: 0.9972598462962032\n",
      "epoch: 170, loss: 7019.301758006635, r2: 0.9972607563677159\n",
      "epoch: 171, loss: 7017.258862508389, r2: 0.9972615535963688\n",
      "epoch: 172, loss: 7016.240925974169, r2: 0.9972619508404631\n",
      "epoch: 173, loss: 7014.63300798638, r2: 0.9972625783215519\n",
      "epoch: 174, loss: 7013.7688841248655, r2: 0.9972629155411026\n",
      "epoch: 175, loss: 7011.670995790805, r2: 0.9972637342304052\n",
      "epoch: 176, loss: 7009.728896237353, r2: 0.9972644921239988\n",
      "epoch: 177, loss: 7008.529229438796, r2: 0.9972649602873223\n",
      "epoch: 178, loss: 7007.900930863935, r2: 0.9972652054773611\n",
      "epoch: 179, loss: 7007.820224993042, r2: 0.9972652369723801\n",
      "epoch: 180, loss: 7007.358590405554, r2: 0.997265417122721\n",
      "epoch: 181, loss: 7005.57269759326, r2: 0.9972661140574992\n",
      "epoch: 182, loss: 7004.073934415907, r2: 0.9972666989415278\n",
      "epoch: 183, loss: 7004.626079281246, r2: 0.9972664834700523\n",
      "epoch: 184, loss: 7002.649592666972, r2: 0.997267254783006\n",
      "epoch: 185, loss: 7003.567618889603, r2: 0.9972668965283575\n",
      "epoch: 186, loss: 7002.988008837103, r2: 0.9972671227179701\n",
      "epoch: 187, loss: 7002.527741045035, r2: 0.9972673023349267\n",
      "epoch: 188, loss: 7002.734616935651, r2: 0.9972672216027562\n",
      "epoch: 189, loss: 7002.588429516618, r2: 0.9972672786515867\n",
      "epoch: 190, loss: 7002.125387981594, r2: 0.997267459350981\n",
      "epoch: 191, loss: 7001.739875208221, r2: 0.9972676097952056\n",
      "epoch: 192, loss: 7001.250998624577, r2: 0.9972678005765845\n",
      "epoch: 193, loss: 7000.154474494724, r2: 0.9972682284890527\n",
      "epoch: 194, loss: 7000.527876472914, r2: 0.997268082770999\n",
      "epoch: 195, loss: 7000.694516668727, r2: 0.9972680177405856\n",
      "epoch: 196, loss: 7001.183418734214, r2: 0.9972678269492624\n",
      "epoch: 197, loss: 7001.625018733879, r2: 0.9972676546173085\n",
      "epoch: 198, loss: 7001.2458013788355, r2: 0.9972678026047809\n",
      "epoch: 199, loss: 7001.542645440846, r2: 0.9972676867630299\n",
      "epoch: 200, loss: 7001.393080116543, r2: 0.9972677451300692\n",
      "epoch: 201, loss: 6999.939501751953, r2: 0.9972683123809749\n",
      "epoch: 202, loss: 7000.123364573241, r2: 0.9972682406295272\n",
      "epoch: 203, loss: 6999.564030928868, r2: 0.9972684589063839\n",
      "epoch: 204, loss: 7000.183217934578, r2: 0.9972682172720846\n",
      "epoch: 205, loss: 7000.042818413551, r2: 0.99726827206222\n",
      "epoch: 206, loss: 6999.209703440619, r2: 0.9972685971807237\n",
      "epoch: 207, loss: 6999.4314281583165, r2: 0.9972685106538807\n",
      "epoch: 208, loss: 6999.923986359439, r2: 0.9972683184357709\n",
      "epoch: 209, loss: 6999.94791120173, r2: 0.9972683090992337\n",
      "epoch: 210, loss: 7000.096158744807, r2: 0.9972682512464511\n",
      "epoch: 211, loss: 6999.8028236222535, r2: 0.997268365718858\n",
      "epoch: 212, loss: 7002.471728977935, r2: 0.9972673241933255\n",
      "epoch: 213, loss: 7002.664133906644, r2: 0.9972672491083678\n",
      "epoch: 214, loss: 7003.264384661028, r2: 0.9972670148638356\n",
      "epoch: 215, loss: 7005.518565654567, r2: 0.9972661351821884\n",
      "epoch: 216, loss: 7006.051326531304, r2: 0.9972659272752071\n",
      "epoch: 217, loss: 7005.6696135345155, r2: 0.9972660762365899\n",
      "epoch: 218, loss: 7004.833211486224, r2: 0.9972664026378566\n",
      "epoch: 219, loss: 7003.980764430271, r2: 0.9972667353005986\n",
      "epoch: 220, loss: 7005.659413434861, r2: 0.9972660802171224\n",
      "epoch: 221, loss: 7005.417888179785, r2: 0.9972661744710154\n",
      "epoch: 222, loss: 7006.996581522949, r2: 0.9972655583946823\n",
      "epoch: 223, loss: 7006.708611758439, r2: 0.9972656707732879\n",
      "epoch: 224, loss: 7005.645979942623, r2: 0.9972660854594683\n",
      "epoch: 225, loss: 7004.3162445989055, r2: 0.997266604381321\n",
      "epoch: 226, loss: 7004.874338315596, r2: 0.9972663865883392\n",
      "epoch: 227, loss: 7005.441966533127, r2: 0.9972661650745713\n",
      "epoch: 228, loss: 7007.218275243567, r2: 0.9972654718799357\n",
      "epoch: 229, loss: 7003.756575950152, r2: 0.9972668227889112\n",
      "epoch: 230, loss: 7004.438272530755, r2: 0.9972665567605965\n",
      "epoch: 231, loss: 7003.638462176208, r2: 0.9972668688821573\n",
      "epoch: 232, loss: 7002.032584405913, r2: 0.9972674955670624\n",
      "epoch: 233, loss: 7003.63797892575, r2: 0.9972668690707431\n",
      "epoch: 234, loss: 7002.6401221706765, r2: 0.9972672584788148\n",
      "epoch: 235, loss: 7002.024002316339, r2: 0.9972674989161754\n",
      "epoch: 236, loss: 7001.375229914157, r2: 0.9972677520960119\n",
      "epoch: 237, loss: 7000.619854826413, r2: 0.9972680468769559\n",
      "epoch: 238, loss: 7002.069115725271, r2: 0.9972674813109174\n",
      "epoch: 239, loss: 7001.714651382492, r2: 0.9972676196386638\n",
      "epoch: 240, loss: 7001.8820405799615, r2: 0.9972675543159567\n",
      "epoch: 241, loss: 7000.75673802982, r2: 0.997267993459044\n",
      "epoch: 242, loss: 7001.231614366647, r2: 0.9972678081411839\n",
      "epoch: 243, loss: 7001.2279037343105, r2: 0.9972678095892376\n",
      "epoch: 244, loss: 7000.726618927366, r2: 0.997268005212857\n",
      "epoch: 245, loss: 7000.1045478749365, r2: 0.9972682479726396\n",
      "epoch: 246, loss: 6999.677990485685, r2: 0.9972684144342981\n",
      "epoch: 247, loss: 6999.907770724955, r2: 0.9972683247638324\n",
      "epoch: 248, loss: 6999.877602273884, r2: 0.9972683365369034\n",
      "epoch: 249, loss: 6999.221496101318, r2: 0.9972685925787032\n",
      "epoch: 250, loss: 6999.204835933629, r2: 0.9972685990802413\n",
      "epoch: 251, loss: 6999.007402463859, r2: 0.9972686761275593\n",
      "epoch: 252, loss: 6998.4551300820385, r2: 0.9972688916487974\n",
      "epoch: 253, loss: 6998.443764996495, r2: 0.9972688960839591\n",
      "epoch: 254, loss: 6998.3326290094665, r2: 0.9972689394541625\n",
      "epoch: 255, loss: 6998.378555338529, r2: 0.9972689215316669\n",
      "epoch: 256, loss: 6998.484912007163, r2: 0.9972688800265661\n",
      "epoch: 257, loss: 6998.628634646568, r2: 0.9972688239396021\n",
      "epoch: 258, loss: 6998.9801150832645, r2: 0.9972686867763085\n",
      "epoch: 259, loss: 6999.849940029241, r2: 0.9972683473319411\n",
      "epoch: 260, loss: 6999.343618941451, r2: 0.9972685449209412\n",
      "epoch: 261, loss: 6999.436254710419, r2: 0.9972685087703455\n",
      "epoch: 262, loss: 6999.348021127915, r2: 0.9972685432030123\n",
      "epoch: 263, loss: 6998.811824932046, r2: 0.9972687524506079\n",
      "epoch: 264, loss: 6998.713627948843, r2: 0.9972687907714367\n",
      "epoch: 265, loss: 6999.353985574413, r2: 0.9972685408754202\n",
      "epoch: 266, loss: 6999.818120659269, r2: 0.997268359749274\n",
      "epoch: 267, loss: 7000.484239610254, r2: 0.9972680998000429\n",
      "epoch: 268, loss: 7000.481748373777, r2: 0.9972681007722342\n",
      "epoch: 269, loss: 7000.439230555513, r2: 0.9972681173645772\n",
      "epoch: 270, loss: 7001.526390695789, r2: 0.9972676931063541\n",
      "epoch: 271, loss: 7002.804259253784, r2: 0.9972671944252273\n",
      "epoch: 272, loss: 7002.001439907877, r2: 0.9972675077210303\n",
      "epoch: 273, loss: 7002.62366575222, r2: 0.9972672649008409\n",
      "epoch: 274, loss: 7003.840258538502, r2: 0.9972667901322446\n",
      "epoch: 275, loss: 7004.215170126285, r2: 0.997266643825074\n",
      "epoch: 276, loss: 7004.197703905289, r2: 0.99726665064117\n",
      "epoch: 277, loss: 7003.0285084984735, r2: 0.9972671069132016\n",
      "epoch: 278, loss: 7002.730438924017, r2: 0.997267223233202\n",
      "epoch: 279, loss: 7001.309311027721, r2: 0.9972677778204921\n",
      "epoch: 280, loss: 7001.026461449048, r2: 0.9972678882009736\n",
      "epoch: 281, loss: 7001.065470041984, r2: 0.9972678729780863\n",
      "epoch: 282, loss: 7001.469146917526, r2: 0.9972677154454215\n",
      "epoch: 283, loss: 7000.922700376452, r2: 0.9972679286931575\n",
      "epoch: 284, loss: 7001.715501626643, r2: 0.9972676193068608\n",
      "epoch: 285, loss: 7000.5739099596785, r2: 0.9972680648066857\n",
      "epoch: 286, loss: 7000.143630188944, r2: 0.997268232720983\n",
      "epoch: 287, loss: 7000.239700790243, r2: 0.997268195229963\n",
      "epoch: 288, loss: 7000.09665181224, r2: 0.9972682510540343\n",
      "epoch: 289, loss: 7000.818970503904, r2: 0.9972679691731657\n",
      "epoch: 290, loss: 6999.765261990243, r2: 0.9972683803770769\n",
      "epoch: 291, loss: 6999.634496522748, r2: 0.9972684314075763\n",
      "epoch: 292, loss: 6999.670587920416, r2: 0.9972684173231082\n",
      "epoch: 293, loss: 6999.537798306215, r2: 0.9972684691435196\n",
      "epoch: 294, loss: 6999.785986128804, r2: 0.9972683722895965\n",
      "epoch: 295, loss: 6999.231900625765, r2: 0.9972685885183952\n",
      "epoch: 296, loss: 6999.402353727919, r2: 0.9972685220000161\n",
      "epoch: 297, loss: 6998.857536351189, r2: 0.9972687346119797\n",
      "epoch: 298, loss: 6998.8639490061105, r2: 0.9972687321094766\n",
      "epoch: 299, loss: 6998.48344778183, r2: 0.9972688805979719\n"
     ]
    }
   ],
   "source": [
    "losses = lr.fit(X, y.reshape(-1,1), learning_rate=0.0001, epochs=300)"
   ]
  },
  {
   "cell_type": "code",
   "execution_count": 46,
   "metadata": {},
   "outputs": [
    {
     "output_type": "execute_result",
     "data": {
      "text/plain": [
       "array([[ 0.82757693],\n",
       "       [52.25435921],\n",
       "       [82.82652791],\n",
       "       [60.35428837]])"
      ]
     },
     "metadata": {},
     "execution_count": 46
    }
   ],
   "source": [
    "lr.w"
   ]
  },
  {
   "cell_type": "code",
   "execution_count": 48,
   "metadata": {},
   "outputs": [],
   "source": [
    "x = X.copy()\n",
    "ones_column = np.ones((len(X),1))\n",
    "x = np.concatenate([ones_column, x], axis=1)\n",
    "ypred = lr.predict(x) # make prediction on some data"
   ]
  },
  {
   "cell_type": "code",
   "execution_count": 49,
   "metadata": {},
   "outputs": [
    {
     "output_type": "execute_result",
     "data": {
      "text/plain": [
       "0.9972619623935062"
      ]
     },
     "metadata": {},
     "execution_count": 49
    }
   ],
   "source": [
    "# model performance\n",
    "lr.r_squared(ypred, y.reshape(-1,1))"
   ]
  },
  {
   "cell_type": "code",
   "execution_count": 59,
   "metadata": {},
   "outputs": [],
   "source": [
    "## Sklearn package\n",
    "from sklearn.linear_model import LinearRegression, Ridge, Lasso"
   ]
  },
  {
   "cell_type": "code",
   "execution_count": 53,
   "metadata": {},
   "outputs": [],
   "source": [
    "sklr  = LinearRegression()"
   ]
  },
  {
   "cell_type": "code",
   "execution_count": 54,
   "metadata": {},
   "outputs": [
    {
     "output_type": "execute_result",
     "data": {
      "text/plain": [
       "LinearRegression()"
      ]
     },
     "metadata": {},
     "execution_count": 54
    }
   ],
   "source": [
    "# training\n",
    "sklr.fit(X, y)"
   ]
  },
  {
   "cell_type": "code",
   "execution_count": 57,
   "metadata": {},
   "outputs": [
    {
     "output_type": "execute_result",
     "data": {
      "text/plain": [
       "(array([52.25095981, 82.80261827, 60.3725894 ]), 0.822487710856393)"
      ]
     },
     "metadata": {},
     "execution_count": 57
    }
   ],
   "source": [
    "# model parameters\n",
    "sklr.coef_, sklr.intercept_"
   ]
  },
  {
   "cell_type": "code",
   "execution_count": 58,
   "metadata": {},
   "outputs": [
    {
     "output_type": "execute_result",
     "data": {
      "text/plain": [
       "0.9972689470044341"
      ]
     },
     "metadata": {},
     "execution_count": 58
    }
   ],
   "source": [
    "# accuracy\n",
    "sklr.score(X, y)"
   ]
  },
  {
   "cell_type": "code",
   "execution_count": 65,
   "metadata": {},
   "outputs": [],
   "source": [
    "r = Ridge(alpha=2)"
   ]
  },
  {
   "cell_type": "code",
   "execution_count": 66,
   "metadata": {},
   "outputs": [
    {
     "output_type": "execute_result",
     "data": {
      "text/plain": [
       "Ridge(alpha=2)"
      ]
     },
     "metadata": {},
     "execution_count": 66
    }
   ],
   "source": [
    "r.fit(X, y)"
   ]
  },
  {
   "cell_type": "code",
   "execution_count": 68,
   "metadata": {},
   "outputs": [
    {
     "output_type": "execute_result",
     "data": {
      "text/plain": [
       "(array([51.7329517 , 82.01326273, 59.63369453]), 0.9861248263559546)"
      ]
     },
     "metadata": {},
     "execution_count": 68
    }
   ],
   "source": [
    "\n",
    "r.coef_, r.intercept_"
   ]
  },
  {
   "source": [
    "## KNN"
   ],
   "cell_type": "markdown",
   "metadata": {}
  },
  {
   "cell_type": "code",
   "execution_count": 69,
   "metadata": {},
   "outputs": [],
   "source": [
    "from sklearn.neighbors import KNeighborsClassifier"
   ]
  },
  {
   "cell_type": "code",
   "execution_count": 70,
   "metadata": {},
   "outputs": [
    {
     "output_type": "stream",
     "name": "stdout",
     "text": [
      "(500, 2) (500,)\n"
     ]
    }
   ],
   "source": [
    "# data\n",
    "X = np.load(\"E:/CB-DS-LV-May21/DS/data/knn/classification/X_data.npy\")\n",
    "y = np.load(\"E:/CB-DS-LV-May21/DS/data/knn/classification/y_data.npy\")\n",
    "print(X.shape, y.shape)"
   ]
  },
  {
   "cell_type": "code",
   "execution_count": 72,
   "metadata": {},
   "outputs": [],
   "source": [
    "knn = KNeighborsClassifier()"
   ]
  },
  {
   "cell_type": "code",
   "execution_count": 73,
   "metadata": {},
   "outputs": [
    {
     "output_type": "execute_result",
     "data": {
      "text/plain": [
       "KNeighborsClassifier()"
      ]
     },
     "metadata": {},
     "execution_count": 73
    }
   ],
   "source": [
    "knn.fit(X, y)"
   ]
  },
  {
   "cell_type": "code",
   "execution_count": 75,
   "metadata": {},
   "outputs": [],
   "source": [
    "ypred = knn.predict(X)"
   ]
  },
  {
   "cell_type": "code",
   "execution_count": 76,
   "metadata": {},
   "outputs": [
    {
     "output_type": "execute_result",
     "data": {
      "text/plain": [
       "1.0"
      ]
     },
     "metadata": {},
     "execution_count": 76
    }
   ],
   "source": [
    "knn.score(X, y)"
   ]
  },
  {
   "source": [
    "## Polynomial Regression"
   ],
   "cell_type": "markdown",
   "metadata": {}
  },
  {
   "cell_type": "code",
   "execution_count": 78,
   "metadata": {},
   "outputs": [
    {
     "output_type": "stream",
     "name": "stdout",
     "text": [
      "(50,)\n"
     ]
    }
   ],
   "source": [
    "noise = np.random.randn(50)\n",
    "print(noise.shape)"
   ]
  },
  {
   "cell_type": "code",
   "execution_count": 83,
   "metadata": {},
   "outputs": [],
   "source": [
    "x = np.linspace(-5, 5, 50)\n",
    "y = 30*(x**2) + 4 + 20*noise"
   ]
  },
  {
   "cell_type": "code",
   "execution_count": 84,
   "metadata": {},
   "outputs": [
    {
     "output_type": "display_data",
     "data": {
      "text/plain": "<Figure size 432x288 with 1 Axes>",
      "image/svg+xml": "<?xml version=\"1.0\" encoding=\"utf-8\" standalone=\"no\"?>\r\n<!DOCTYPE svg PUBLIC \"-//W3C//DTD SVG 1.1//EN\"\r\n  \"http://www.w3.org/Graphics/SVG/1.1/DTD/svg11.dtd\">\r\n<svg height=\"250.658243pt\" version=\"1.1\" viewBox=\"0 0 375.2875 250.658243\" width=\"375.2875pt\" xmlns=\"http://www.w3.org/2000/svg\" xmlns:xlink=\"http://www.w3.org/1999/xlink\">\r\n <metadata>\r\n  <rdf:RDF xmlns:cc=\"http://creativecommons.org/ns#\" xmlns:dc=\"http://purl.org/dc/elements/1.1/\" xmlns:rdf=\"http://www.w3.org/1999/02/22-rdf-syntax-ns#\">\r\n   <cc:Work>\r\n    <dc:type rdf:resource=\"http://purl.org/dc/dcmitype/StillImage\"/>\r\n    <dc:date>2021-07-20T13:35:19.398669</dc:date>\r\n    <dc:format>image/svg+xml</dc:format>\r\n    <dc:creator>\r\n     <cc:Agent>\r\n      <dc:title>Matplotlib v3.4.1, https://matplotlib.org/</dc:title>\r\n     </cc:Agent>\r\n    </dc:creator>\r\n   </cc:Work>\r\n  </rdf:RDF>\r\n </metadata>\r\n <defs>\r\n  <style type=\"text/css\">*{stroke-linecap:butt;stroke-linejoin:round;}</style>\r\n </defs>\r\n <g id=\"figure_1\">\r\n  <g id=\"patch_1\">\r\n   <path d=\"M 0 250.658243 \r\nL 375.2875 250.658243 \r\nL 375.2875 0 \r\nL 0 0 \r\nz\r\n\" style=\"fill:none;\"/>\r\n  </g>\r\n  <g id=\"axes_1\">\r\n   <g id=\"patch_2\">\r\n    <path d=\"M 33.2875 226.780118 \r\nL 368.0875 226.780118 \r\nL 368.0875 9.340118 \r\nL 33.2875 9.340118 \r\nz\r\n\" style=\"fill:#ffffff;\"/>\r\n   </g>\r\n   <g id=\"PathCollection_1\">\r\n    <defs>\r\n     <path d=\"M 0 3 \r\nC 0.795609 3 1.55874 2.683901 2.12132 2.12132 \r\nC 2.683901 1.55874 3 0.795609 3 0 \r\nC 3 -0.795609 2.683901 -1.55874 2.12132 -2.12132 \r\nC 1.55874 -2.683901 0.795609 -3 0 -3 \r\nC -0.795609 -3 -1.55874 -2.683901 -2.12132 -2.12132 \r\nC -2.683901 -1.55874 -3 -0.795609 -3 0 \r\nC -3 0.795609 -2.683901 1.55874 -2.12132 2.12132 \r\nC -1.55874 2.683901 -0.795609 3 0 3 \r\nz\r\n\" id=\"mcdcc5d825b\" style=\"stroke:#1f77b4;\"/>\r\n    </defs>\r\n    <g clip-path=\"url(#pacad74909f)\">\r\n     <use style=\"fill:#1f77b4;stroke:#1f77b4;\" x=\"48.505682\" xlink:href=\"#mcdcc5d825b\" y=\"19.223754\"/>\r\n     <use style=\"fill:#1f77b4;stroke:#1f77b4;\" x=\"54.717185\" xlink:href=\"#mcdcc5d825b\" y=\"41.701161\"/>\r\n     <use style=\"fill:#1f77b4;stroke:#1f77b4;\" x=\"60.928687\" xlink:href=\"#mcdcc5d825b\" y=\"51.918812\"/>\r\n     <use style=\"fill:#1f77b4;stroke:#1f77b4;\" x=\"67.14019\" xlink:href=\"#mcdcc5d825b\" y=\"61.229126\"/>\r\n     <use style=\"fill:#1f77b4;stroke:#1f77b4;\" x=\"73.351693\" xlink:href=\"#mcdcc5d825b\" y=\"83.247923\"/>\r\n     <use style=\"fill:#1f77b4;stroke:#1f77b4;\" x=\"79.563196\" xlink:href=\"#mcdcc5d825b\" y=\"88.779666\"/>\r\n     <use style=\"fill:#1f77b4;stroke:#1f77b4;\" x=\"85.774699\" xlink:href=\"#mcdcc5d825b\" y=\"105.697199\"/>\r\n     <use style=\"fill:#1f77b4;stroke:#1f77b4;\" x=\"91.986201\" xlink:href=\"#mcdcc5d825b\" y=\"104.84093\"/>\r\n     <use style=\"fill:#1f77b4;stroke:#1f77b4;\" x=\"98.197704\" xlink:href=\"#mcdcc5d825b\" y=\"125.086768\"/>\r\n     <use style=\"fill:#1f77b4;stroke:#1f77b4;\" x=\"104.409207\" xlink:href=\"#mcdcc5d825b\" y=\"138.066048\"/>\r\n     <use style=\"fill:#1f77b4;stroke:#1f77b4;\" x=\"110.62071\" xlink:href=\"#mcdcc5d825b\" y=\"151.277687\"/>\r\n     <use style=\"fill:#1f77b4;stroke:#1f77b4;\" x=\"116.832212\" xlink:href=\"#mcdcc5d825b\" y=\"152.889975\"/>\r\n     <use style=\"fill:#1f77b4;stroke:#1f77b4;\" x=\"123.043715\" xlink:href=\"#mcdcc5d825b\" y=\"161.266572\"/>\r\n     <use style=\"fill:#1f77b4;stroke:#1f77b4;\" x=\"129.255218\" xlink:href=\"#mcdcc5d825b\" y=\"170.315773\"/>\r\n     <use style=\"fill:#1f77b4;stroke:#1f77b4;\" x=\"135.466721\" xlink:href=\"#mcdcc5d825b\" y=\"182.82614\"/>\r\n     <use style=\"fill:#1f77b4;stroke:#1f77b4;\" x=\"141.678224\" xlink:href=\"#mcdcc5d825b\" y=\"174.818227\"/>\r\n     <use style=\"fill:#1f77b4;stroke:#1f77b4;\" x=\"147.889726\" xlink:href=\"#mcdcc5d825b\" y=\"184.743613\"/>\r\n     <use style=\"fill:#1f77b4;stroke:#1f77b4;\" x=\"154.101229\" xlink:href=\"#mcdcc5d825b\" y=\"198.808229\"/>\r\n     <use style=\"fill:#1f77b4;stroke:#1f77b4;\" x=\"160.312732\" xlink:href=\"#mcdcc5d825b\" y=\"208.007078\"/>\r\n     <use style=\"fill:#1f77b4;stroke:#1f77b4;\" x=\"166.524235\" xlink:href=\"#mcdcc5d825b\" y=\"192.975603\"/>\r\n     <use style=\"fill:#1f77b4;stroke:#1f77b4;\" x=\"172.735737\" xlink:href=\"#mcdcc5d825b\" y=\"216.896482\"/>\r\n     <use style=\"fill:#1f77b4;stroke:#1f77b4;\" x=\"178.94724\" xlink:href=\"#mcdcc5d825b\" y=\"206.280513\"/>\r\n     <use style=\"fill:#1f77b4;stroke:#1f77b4;\" x=\"185.158743\" xlink:href=\"#mcdcc5d825b\" y=\"212.745175\"/>\r\n     <use style=\"fill:#1f77b4;stroke:#1f77b4;\" x=\"191.370246\" xlink:href=\"#mcdcc5d825b\" y=\"205.144599\"/>\r\n     <use style=\"fill:#1f77b4;stroke:#1f77b4;\" x=\"197.581749\" xlink:href=\"#mcdcc5d825b\" y=\"212.301371\"/>\r\n     <use style=\"fill:#1f77b4;stroke:#1f77b4;\" x=\"203.793251\" xlink:href=\"#mcdcc5d825b\" y=\"204.970532\"/>\r\n     <use style=\"fill:#1f77b4;stroke:#1f77b4;\" x=\"210.004754\" xlink:href=\"#mcdcc5d825b\" y=\"207.908688\"/>\r\n     <use style=\"fill:#1f77b4;stroke:#1f77b4;\" x=\"216.216257\" xlink:href=\"#mcdcc5d825b\" y=\"214.236185\"/>\r\n     <use style=\"fill:#1f77b4;stroke:#1f77b4;\" x=\"222.42776\" xlink:href=\"#mcdcc5d825b\" y=\"204.331465\"/>\r\n     <use style=\"fill:#1f77b4;stroke:#1f77b4;\" x=\"228.639263\" xlink:href=\"#mcdcc5d825b\" y=\"209.080803\"/>\r\n     <use style=\"fill:#1f77b4;stroke:#1f77b4;\" x=\"234.850765\" xlink:href=\"#mcdcc5d825b\" y=\"201.342874\"/>\r\n     <use style=\"fill:#1f77b4;stroke:#1f77b4;\" x=\"241.062268\" xlink:href=\"#mcdcc5d825b\" y=\"196.804535\"/>\r\n     <use style=\"fill:#1f77b4;stroke:#1f77b4;\" x=\"247.273771\" xlink:href=\"#mcdcc5d825b\" y=\"200.133739\"/>\r\n     <use style=\"fill:#1f77b4;stroke:#1f77b4;\" x=\"253.485274\" xlink:href=\"#mcdcc5d825b\" y=\"198.313407\"/>\r\n     <use style=\"fill:#1f77b4;stroke:#1f77b4;\" x=\"259.696776\" xlink:href=\"#mcdcc5d825b\" y=\"191.418849\"/>\r\n     <use style=\"fill:#1f77b4;stroke:#1f77b4;\" x=\"265.908279\" xlink:href=\"#mcdcc5d825b\" y=\"181.043762\"/>\r\n     <use style=\"fill:#1f77b4;stroke:#1f77b4;\" x=\"272.119782\" xlink:href=\"#mcdcc5d825b\" y=\"175.102957\"/>\r\n     <use style=\"fill:#1f77b4;stroke:#1f77b4;\" x=\"278.331285\" xlink:href=\"#mcdcc5d825b\" y=\"159.044747\"/>\r\n     <use style=\"fill:#1f77b4;stroke:#1f77b4;\" x=\"284.542788\" xlink:href=\"#mcdcc5d825b\" y=\"155.964467\"/>\r\n     <use style=\"fill:#1f77b4;stroke:#1f77b4;\" x=\"290.75429\" xlink:href=\"#mcdcc5d825b\" y=\"144.384697\"/>\r\n     <use style=\"fill:#1f77b4;stroke:#1f77b4;\" x=\"296.965793\" xlink:href=\"#mcdcc5d825b\" y=\"140.796887\"/>\r\n     <use style=\"fill:#1f77b4;stroke:#1f77b4;\" x=\"303.177296\" xlink:href=\"#mcdcc5d825b\" y=\"126.528115\"/>\r\n     <use style=\"fill:#1f77b4;stroke:#1f77b4;\" x=\"309.388799\" xlink:href=\"#mcdcc5d825b\" y=\"114.456668\"/>\r\n     <use style=\"fill:#1f77b4;stroke:#1f77b4;\" x=\"315.600301\" xlink:href=\"#mcdcc5d825b\" y=\"95.865597\"/>\r\n     <use style=\"fill:#1f77b4;stroke:#1f77b4;\" x=\"321.811804\" xlink:href=\"#mcdcc5d825b\" y=\"80.774283\"/>\r\n     <use style=\"fill:#1f77b4;stroke:#1f77b4;\" x=\"328.023307\" xlink:href=\"#mcdcc5d825b\" y=\"77.322988\"/>\r\n     <use style=\"fill:#1f77b4;stroke:#1f77b4;\" x=\"334.23481\" xlink:href=\"#mcdcc5d825b\" y=\"63.45881\"/>\r\n     <use style=\"fill:#1f77b4;stroke:#1f77b4;\" x=\"340.446313\" xlink:href=\"#mcdcc5d825b\" y=\"55.009226\"/>\r\n     <use style=\"fill:#1f77b4;stroke:#1f77b4;\" x=\"346.657815\" xlink:href=\"#mcdcc5d825b\" y=\"39.218284\"/>\r\n     <use style=\"fill:#1f77b4;stroke:#1f77b4;\" x=\"352.869318\" xlink:href=\"#mcdcc5d825b\" y=\"23.290833\"/>\r\n    </g>\r\n   </g>\r\n   <g id=\"matplotlib.axis_1\">\r\n    <g id=\"xtick_1\">\r\n     <g id=\"line2d_1\">\r\n      <defs>\r\n       <path d=\"M 0 0 \r\nL 0 3.5 \r\n\" id=\"m2faf9f633e\" style=\"stroke:#000000;stroke-width:0.8;\"/>\r\n      </defs>\r\n      <g>\r\n       <use style=\"stroke:#000000;stroke-width:0.8;\" x=\"78.942045\" xlink:href=\"#m2faf9f633e\" y=\"226.780118\"/>\r\n      </g>\r\n     </g>\r\n     <g id=\"text_1\">\r\n      <!-- −4 -->\r\n      <g transform=\"translate(71.570952 241.378556)scale(0.1 -0.1)\">\r\n       <defs>\r\n        <path d=\"M 678 2272 \r\nL 4684 2272 \r\nL 4684 1741 \r\nL 678 1741 \r\nL 678 2272 \r\nz\r\n\" id=\"DejaVuSans-2212\" transform=\"scale(0.015625)\"/>\r\n        <path d=\"M 2419 4116 \r\nL 825 1625 \r\nL 2419 1625 \r\nL 2419 4116 \r\nz\r\nM 2253 4666 \r\nL 3047 4666 \r\nL 3047 1625 \r\nL 3713 1625 \r\nL 3713 1100 \r\nL 3047 1100 \r\nL 3047 0 \r\nL 2419 0 \r\nL 2419 1100 \r\nL 313 1100 \r\nL 313 1709 \r\nL 2253 4666 \r\nz\r\n\" id=\"DejaVuSans-34\" transform=\"scale(0.015625)\"/>\r\n       </defs>\r\n       <use xlink:href=\"#DejaVuSans-2212\"/>\r\n       <use x=\"83.789062\" xlink:href=\"#DejaVuSans-34\"/>\r\n      </g>\r\n     </g>\r\n    </g>\r\n    <g id=\"xtick_2\">\r\n     <g id=\"line2d_2\">\r\n      <g>\r\n       <use style=\"stroke:#000000;stroke-width:0.8;\" x=\"139.814773\" xlink:href=\"#m2faf9f633e\" y=\"226.780118\"/>\r\n      </g>\r\n     </g>\r\n     <g id=\"text_2\">\r\n      <!-- −2 -->\r\n      <g transform=\"translate(132.443679 241.378556)scale(0.1 -0.1)\">\r\n       <defs>\r\n        <path d=\"M 1228 531 \r\nL 3431 531 \r\nL 3431 0 \r\nL 469 0 \r\nL 469 531 \r\nQ 828 903 1448 1529 \r\nQ 2069 2156 2228 2338 \r\nQ 2531 2678 2651 2914 \r\nQ 2772 3150 2772 3378 \r\nQ 2772 3750 2511 3984 \r\nQ 2250 4219 1831 4219 \r\nQ 1534 4219 1204 4116 \r\nQ 875 4013 500 3803 \r\nL 500 4441 \r\nQ 881 4594 1212 4672 \r\nQ 1544 4750 1819 4750 \r\nQ 2544 4750 2975 4387 \r\nQ 3406 4025 3406 3419 \r\nQ 3406 3131 3298 2873 \r\nQ 3191 2616 2906 2266 \r\nQ 2828 2175 2409 1742 \r\nQ 1991 1309 1228 531 \r\nz\r\n\" id=\"DejaVuSans-32\" transform=\"scale(0.015625)\"/>\r\n       </defs>\r\n       <use xlink:href=\"#DejaVuSans-2212\"/>\r\n       <use x=\"83.789062\" xlink:href=\"#DejaVuSans-32\"/>\r\n      </g>\r\n     </g>\r\n    </g>\r\n    <g id=\"xtick_3\">\r\n     <g id=\"line2d_3\">\r\n      <g>\r\n       <use style=\"stroke:#000000;stroke-width:0.8;\" x=\"200.6875\" xlink:href=\"#m2faf9f633e\" y=\"226.780118\"/>\r\n      </g>\r\n     </g>\r\n     <g id=\"text_3\">\r\n      <!-- 0 -->\r\n      <g transform=\"translate(197.50625 241.378556)scale(0.1 -0.1)\">\r\n       <defs>\r\n        <path d=\"M 2034 4250 \r\nQ 1547 4250 1301 3770 \r\nQ 1056 3291 1056 2328 \r\nQ 1056 1369 1301 889 \r\nQ 1547 409 2034 409 \r\nQ 2525 409 2770 889 \r\nQ 3016 1369 3016 2328 \r\nQ 3016 3291 2770 3770 \r\nQ 2525 4250 2034 4250 \r\nz\r\nM 2034 4750 \r\nQ 2819 4750 3233 4129 \r\nQ 3647 3509 3647 2328 \r\nQ 3647 1150 3233 529 \r\nQ 2819 -91 2034 -91 \r\nQ 1250 -91 836 529 \r\nQ 422 1150 422 2328 \r\nQ 422 3509 836 4129 \r\nQ 1250 4750 2034 4750 \r\nz\r\n\" id=\"DejaVuSans-30\" transform=\"scale(0.015625)\"/>\r\n       </defs>\r\n       <use xlink:href=\"#DejaVuSans-30\"/>\r\n      </g>\r\n     </g>\r\n    </g>\r\n    <g id=\"xtick_4\">\r\n     <g id=\"line2d_4\">\r\n      <g>\r\n       <use style=\"stroke:#000000;stroke-width:0.8;\" x=\"261.560227\" xlink:href=\"#m2faf9f633e\" y=\"226.780118\"/>\r\n      </g>\r\n     </g>\r\n     <g id=\"text_4\">\r\n      <!-- 2 -->\r\n      <g transform=\"translate(258.378977 241.378556)scale(0.1 -0.1)\">\r\n       <use xlink:href=\"#DejaVuSans-32\"/>\r\n      </g>\r\n     </g>\r\n    </g>\r\n    <g id=\"xtick_5\">\r\n     <g id=\"line2d_5\">\r\n      <g>\r\n       <use style=\"stroke:#000000;stroke-width:0.8;\" x=\"322.432955\" xlink:href=\"#m2faf9f633e\" y=\"226.780118\"/>\r\n      </g>\r\n     </g>\r\n     <g id=\"text_5\">\r\n      <!-- 4 -->\r\n      <g transform=\"translate(319.251705 241.378556)scale(0.1 -0.1)\">\r\n       <use xlink:href=\"#DejaVuSans-34\"/>\r\n      </g>\r\n     </g>\r\n    </g>\r\n   </g>\r\n   <g id=\"matplotlib.axis_2\">\r\n    <g id=\"ytick_1\">\r\n     <g id=\"line2d_6\">\r\n      <defs>\r\n       <path d=\"M 0 0 \r\nL -3.5 0 \r\n\" id=\"m61009d0dad\" style=\"stroke:#000000;stroke-width:0.8;\"/>\r\n      </defs>\r\n      <g>\r\n       <use style=\"stroke:#000000;stroke-width:0.8;\" x=\"33.2875\" xlink:href=\"#m61009d0dad\" y=\"212.642466\"/>\r\n      </g>\r\n     </g>\r\n     <g id=\"text_6\">\r\n      <!-- 0 -->\r\n      <g transform=\"translate(19.925 216.441685)scale(0.1 -0.1)\">\r\n       <use xlink:href=\"#DejaVuSans-30\"/>\r\n      </g>\r\n     </g>\r\n    </g>\r\n    <g id=\"ytick_2\">\r\n     <g id=\"line2d_7\">\r\n      <g>\r\n       <use style=\"stroke:#000000;stroke-width:0.8;\" x=\"33.2875\" xlink:href=\"#m61009d0dad\" y=\"187.437061\"/>\r\n      </g>\r\n     </g>\r\n     <g id=\"text_7\">\r\n      <!-- 100 -->\r\n      <g transform=\"translate(7.2 191.236279)scale(0.1 -0.1)\">\r\n       <defs>\r\n        <path d=\"M 794 531 \r\nL 1825 531 \r\nL 1825 4091 \r\nL 703 3866 \r\nL 703 4441 \r\nL 1819 4666 \r\nL 2450 4666 \r\nL 2450 531 \r\nL 3481 531 \r\nL 3481 0 \r\nL 794 0 \r\nL 794 531 \r\nz\r\n\" id=\"DejaVuSans-31\" transform=\"scale(0.015625)\"/>\r\n       </defs>\r\n       <use xlink:href=\"#DejaVuSans-31\"/>\r\n       <use x=\"63.623047\" xlink:href=\"#DejaVuSans-30\"/>\r\n       <use x=\"127.246094\" xlink:href=\"#DejaVuSans-30\"/>\r\n      </g>\r\n     </g>\r\n    </g>\r\n    <g id=\"ytick_3\">\r\n     <g id=\"line2d_8\">\r\n      <g>\r\n       <use style=\"stroke:#000000;stroke-width:0.8;\" x=\"33.2875\" xlink:href=\"#m61009d0dad\" y=\"162.231655\"/>\r\n      </g>\r\n     </g>\r\n     <g id=\"text_8\">\r\n      <!-- 200 -->\r\n      <g transform=\"translate(7.2 166.030873)scale(0.1 -0.1)\">\r\n       <use xlink:href=\"#DejaVuSans-32\"/>\r\n       <use x=\"63.623047\" xlink:href=\"#DejaVuSans-30\"/>\r\n       <use x=\"127.246094\" xlink:href=\"#DejaVuSans-30\"/>\r\n      </g>\r\n     </g>\r\n    </g>\r\n    <g id=\"ytick_4\">\r\n     <g id=\"line2d_9\">\r\n      <g>\r\n       <use style=\"stroke:#000000;stroke-width:0.8;\" x=\"33.2875\" xlink:href=\"#m61009d0dad\" y=\"137.026249\"/>\r\n      </g>\r\n     </g>\r\n     <g id=\"text_9\">\r\n      <!-- 300 -->\r\n      <g transform=\"translate(7.2 140.825467)scale(0.1 -0.1)\">\r\n       <defs>\r\n        <path d=\"M 2597 2516 \r\nQ 3050 2419 3304 2112 \r\nQ 3559 1806 3559 1356 \r\nQ 3559 666 3084 287 \r\nQ 2609 -91 1734 -91 \r\nQ 1441 -91 1130 -33 \r\nQ 819 25 488 141 \r\nL 488 750 \r\nQ 750 597 1062 519 \r\nQ 1375 441 1716 441 \r\nQ 2309 441 2620 675 \r\nQ 2931 909 2931 1356 \r\nQ 2931 1769 2642 2001 \r\nQ 2353 2234 1838 2234 \r\nL 1294 2234 \r\nL 1294 2753 \r\nL 1863 2753 \r\nQ 2328 2753 2575 2939 \r\nQ 2822 3125 2822 3475 \r\nQ 2822 3834 2567 4026 \r\nQ 2313 4219 1838 4219 \r\nQ 1578 4219 1281 4162 \r\nQ 984 4106 628 3988 \r\nL 628 4550 \r\nQ 988 4650 1302 4700 \r\nQ 1616 4750 1894 4750 \r\nQ 2613 4750 3031 4423 \r\nQ 3450 4097 3450 3541 \r\nQ 3450 3153 3228 2886 \r\nQ 3006 2619 2597 2516 \r\nz\r\n\" id=\"DejaVuSans-33\" transform=\"scale(0.015625)\"/>\r\n       </defs>\r\n       <use xlink:href=\"#DejaVuSans-33\"/>\r\n       <use x=\"63.623047\" xlink:href=\"#DejaVuSans-30\"/>\r\n       <use x=\"127.246094\" xlink:href=\"#DejaVuSans-30\"/>\r\n      </g>\r\n     </g>\r\n    </g>\r\n    <g id=\"ytick_5\">\r\n     <g id=\"line2d_10\">\r\n      <g>\r\n       <use style=\"stroke:#000000;stroke-width:0.8;\" x=\"33.2875\" xlink:href=\"#m61009d0dad\" y=\"111.820843\"/>\r\n      </g>\r\n     </g>\r\n     <g id=\"text_10\">\r\n      <!-- 400 -->\r\n      <g transform=\"translate(7.2 115.620061)scale(0.1 -0.1)\">\r\n       <use xlink:href=\"#DejaVuSans-34\"/>\r\n       <use x=\"63.623047\" xlink:href=\"#DejaVuSans-30\"/>\r\n       <use x=\"127.246094\" xlink:href=\"#DejaVuSans-30\"/>\r\n      </g>\r\n     </g>\r\n    </g>\r\n    <g id=\"ytick_6\">\r\n     <g id=\"line2d_11\">\r\n      <g>\r\n       <use style=\"stroke:#000000;stroke-width:0.8;\" x=\"33.2875\" xlink:href=\"#m61009d0dad\" y=\"86.615437\"/>\r\n      </g>\r\n     </g>\r\n     <g id=\"text_11\">\r\n      <!-- 500 -->\r\n      <g transform=\"translate(7.2 90.414655)scale(0.1 -0.1)\">\r\n       <defs>\r\n        <path d=\"M 691 4666 \r\nL 3169 4666 \r\nL 3169 4134 \r\nL 1269 4134 \r\nL 1269 2991 \r\nQ 1406 3038 1543 3061 \r\nQ 1681 3084 1819 3084 \r\nQ 2600 3084 3056 2656 \r\nQ 3513 2228 3513 1497 \r\nQ 3513 744 3044 326 \r\nQ 2575 -91 1722 -91 \r\nQ 1428 -91 1123 -41 \r\nQ 819 9 494 109 \r\nL 494 744 \r\nQ 775 591 1075 516 \r\nQ 1375 441 1709 441 \r\nQ 2250 441 2565 725 \r\nQ 2881 1009 2881 1497 \r\nQ 2881 1984 2565 2268 \r\nQ 2250 2553 1709 2553 \r\nQ 1456 2553 1204 2497 \r\nQ 953 2441 691 2322 \r\nL 691 4666 \r\nz\r\n\" id=\"DejaVuSans-35\" transform=\"scale(0.015625)\"/>\r\n       </defs>\r\n       <use xlink:href=\"#DejaVuSans-35\"/>\r\n       <use x=\"63.623047\" xlink:href=\"#DejaVuSans-30\"/>\r\n       <use x=\"127.246094\" xlink:href=\"#DejaVuSans-30\"/>\r\n      </g>\r\n     </g>\r\n    </g>\r\n    <g id=\"ytick_7\">\r\n     <g id=\"line2d_12\">\r\n      <g>\r\n       <use style=\"stroke:#000000;stroke-width:0.8;\" x=\"33.2875\" xlink:href=\"#m61009d0dad\" y=\"61.410031\"/>\r\n      </g>\r\n     </g>\r\n     <g id=\"text_12\">\r\n      <!-- 600 -->\r\n      <g transform=\"translate(7.2 65.209249)scale(0.1 -0.1)\">\r\n       <defs>\r\n        <path d=\"M 2113 2584 \r\nQ 1688 2584 1439 2293 \r\nQ 1191 2003 1191 1497 \r\nQ 1191 994 1439 701 \r\nQ 1688 409 2113 409 \r\nQ 2538 409 2786 701 \r\nQ 3034 994 3034 1497 \r\nQ 3034 2003 2786 2293 \r\nQ 2538 2584 2113 2584 \r\nz\r\nM 3366 4563 \r\nL 3366 3988 \r\nQ 3128 4100 2886 4159 \r\nQ 2644 4219 2406 4219 \r\nQ 1781 4219 1451 3797 \r\nQ 1122 3375 1075 2522 \r\nQ 1259 2794 1537 2939 \r\nQ 1816 3084 2150 3084 \r\nQ 2853 3084 3261 2657 \r\nQ 3669 2231 3669 1497 \r\nQ 3669 778 3244 343 \r\nQ 2819 -91 2113 -91 \r\nQ 1303 -91 875 529 \r\nQ 447 1150 447 2328 \r\nQ 447 3434 972 4092 \r\nQ 1497 4750 2381 4750 \r\nQ 2619 4750 2861 4703 \r\nQ 3103 4656 3366 4563 \r\nz\r\n\" id=\"DejaVuSans-36\" transform=\"scale(0.015625)\"/>\r\n       </defs>\r\n       <use xlink:href=\"#DejaVuSans-36\"/>\r\n       <use x=\"63.623047\" xlink:href=\"#DejaVuSans-30\"/>\r\n       <use x=\"127.246094\" xlink:href=\"#DejaVuSans-30\"/>\r\n      </g>\r\n     </g>\r\n    </g>\r\n    <g id=\"ytick_8\">\r\n     <g id=\"line2d_13\">\r\n      <g>\r\n       <use style=\"stroke:#000000;stroke-width:0.8;\" x=\"33.2875\" xlink:href=\"#m61009d0dad\" y=\"36.204625\"/>\r\n      </g>\r\n     </g>\r\n     <g id=\"text_13\">\r\n      <!-- 700 -->\r\n      <g transform=\"translate(7.2 40.003843)scale(0.1 -0.1)\">\r\n       <defs>\r\n        <path d=\"M 525 4666 \r\nL 3525 4666 \r\nL 3525 4397 \r\nL 1831 0 \r\nL 1172 0 \r\nL 2766 4134 \r\nL 525 4134 \r\nL 525 4666 \r\nz\r\n\" id=\"DejaVuSans-37\" transform=\"scale(0.015625)\"/>\r\n       </defs>\r\n       <use xlink:href=\"#DejaVuSans-37\"/>\r\n       <use x=\"63.623047\" xlink:href=\"#DejaVuSans-30\"/>\r\n       <use x=\"127.246094\" xlink:href=\"#DejaVuSans-30\"/>\r\n      </g>\r\n     </g>\r\n    </g>\r\n    <g id=\"ytick_9\">\r\n     <g id=\"line2d_14\">\r\n      <g>\r\n       <use style=\"stroke:#000000;stroke-width:0.8;\" x=\"33.2875\" xlink:href=\"#m61009d0dad\" y=\"10.999219\"/>\r\n      </g>\r\n     </g>\r\n     <g id=\"text_14\">\r\n      <!-- 800 -->\r\n      <g transform=\"translate(7.2 14.798437)scale(0.1 -0.1)\">\r\n       <defs>\r\n        <path d=\"M 2034 2216 \r\nQ 1584 2216 1326 1975 \r\nQ 1069 1734 1069 1313 \r\nQ 1069 891 1326 650 \r\nQ 1584 409 2034 409 \r\nQ 2484 409 2743 651 \r\nQ 3003 894 3003 1313 \r\nQ 3003 1734 2745 1975 \r\nQ 2488 2216 2034 2216 \r\nz\r\nM 1403 2484 \r\nQ 997 2584 770 2862 \r\nQ 544 3141 544 3541 \r\nQ 544 4100 942 4425 \r\nQ 1341 4750 2034 4750 \r\nQ 2731 4750 3128 4425 \r\nQ 3525 4100 3525 3541 \r\nQ 3525 3141 3298 2862 \r\nQ 3072 2584 2669 2484 \r\nQ 3125 2378 3379 2068 \r\nQ 3634 1759 3634 1313 \r\nQ 3634 634 3220 271 \r\nQ 2806 -91 2034 -91 \r\nQ 1263 -91 848 271 \r\nQ 434 634 434 1313 \r\nQ 434 1759 690 2068 \r\nQ 947 2378 1403 2484 \r\nz\r\nM 1172 3481 \r\nQ 1172 3119 1398 2916 \r\nQ 1625 2713 2034 2713 \r\nQ 2441 2713 2670 2916 \r\nQ 2900 3119 2900 3481 \r\nQ 2900 3844 2670 4047 \r\nQ 2441 4250 2034 4250 \r\nQ 1625 4250 1398 4047 \r\nQ 1172 3844 1172 3481 \r\nz\r\n\" id=\"DejaVuSans-38\" transform=\"scale(0.015625)\"/>\r\n       </defs>\r\n       <use xlink:href=\"#DejaVuSans-38\"/>\r\n       <use x=\"63.623047\" xlink:href=\"#DejaVuSans-30\"/>\r\n       <use x=\"127.246094\" xlink:href=\"#DejaVuSans-30\"/>\r\n      </g>\r\n     </g>\r\n    </g>\r\n   </g>\r\n   <g id=\"patch_3\">\r\n    <path d=\"M 33.2875 226.780118 \r\nL 33.2875 9.340118 \r\n\" style=\"fill:none;stroke:#000000;stroke-linecap:square;stroke-linejoin:miter;stroke-width:0.8;\"/>\r\n   </g>\r\n   <g id=\"patch_4\">\r\n    <path d=\"M 368.0875 226.780118 \r\nL 368.0875 9.340118 \r\n\" style=\"fill:none;stroke:#000000;stroke-linecap:square;stroke-linejoin:miter;stroke-width:0.8;\"/>\r\n   </g>\r\n   <g id=\"patch_5\">\r\n    <path d=\"M 33.2875 226.780118 \r\nL 368.0875 226.780118 \r\n\" style=\"fill:none;stroke:#000000;stroke-linecap:square;stroke-linejoin:miter;stroke-width:0.8;\"/>\r\n   </g>\r\n   <g id=\"patch_6\">\r\n    <path d=\"M 33.2875 9.340118 \r\nL 368.0875 9.340118 \r\n\" style=\"fill:none;stroke:#000000;stroke-linecap:square;stroke-linejoin:miter;stroke-width:0.8;\"/>\r\n   </g>\r\n  </g>\r\n </g>\r\n <defs>\r\n  <clipPath id=\"pacad74909f\">\r\n   <rect height=\"217.44\" width=\"334.8\" x=\"33.2875\" y=\"9.340118\"/>\r\n  </clipPath>\r\n </defs>\r\n</svg>\r\n",
      "image/png": "[encoded data removed]"
     },
     "metadata": {
      "needs_background": "light"
     }
    }
   ],
   "source": [
    "plt.scatter(x, y)\n",
    "plt.show()"
   ]
  },
  {
   "cell_type": "code",
   "execution_count": 85,
   "metadata": {},
   "outputs": [
    {
     "output_type": "execute_result",
     "data": {
      "text/plain": [
       "<matplotlib.collections.PathCollection at 0x2ac040393a0>"
      ]
     },
     "metadata": {},
     "execution_count": 85
    },
    {
     "output_type": "display_data",
     "data": {
      "text/plain": "<Figure size 432x288 with 1 Axes>",
      "image/svg+xml": "<?xml version=\"1.0\" encoding=\"utf-8\" standalone=\"no\"?>\r\n<!DOCTYPE svg PUBLIC \"-//W3C//DTD SVG 1.1//EN\"\r\n  \"http://www.w3.org/Graphics/SVG/1.1/DTD/svg11.dtd\">\r\n<svg height=\"250.658243pt\" version=\"1.1\" viewBox=\"0 0 375.2875 250.658243\" width=\"375.2875pt\" xmlns=\"http://www.w3.org/2000/svg\" xmlns:xlink=\"http://www.w3.org/1999/xlink\">\r\n <metadata>\r\n  <rdf:RDF xmlns:cc=\"http://creativecommons.org/ns#\" xmlns:dc=\"http://purl.org/dc/elements/1.1/\" xmlns:rdf=\"http://www.w3.org/1999/02/22-rdf-syntax-ns#\">\r\n   <cc:Work>\r\n    <dc:type rdf:resource=\"http://purl.org/dc/dcmitype/StillImage\"/>\r\n    <dc:date>2021-07-20T13:35:46.622668</dc:date>\r\n    <dc:format>image/svg+xml</dc:format>\r\n    <dc:creator>\r\n     <cc:Agent>\r\n      <dc:title>Matplotlib v3.4.1, https://matplotlib.org/</dc:title>\r\n     </cc:Agent>\r\n    </dc:creator>\r\n   </cc:Work>\r\n  </rdf:RDF>\r\n </metadata>\r\n <defs>\r\n  <style type=\"text/css\">*{stroke-linecap:butt;stroke-linejoin:round;}</style>\r\n </defs>\r\n <g id=\"figure_1\">\r\n  <g id=\"patch_1\">\r\n   <path d=\"M 0 250.658243 \r\nL 375.2875 250.658243 \r\nL 375.2875 0 \r\nL 0 0 \r\nz\r\n\" style=\"fill:none;\"/>\r\n  </g>\r\n  <g id=\"axes_1\">\r\n   <g id=\"patch_2\">\r\n    <path d=\"M 33.2875 226.780118 \r\nL 368.0875 226.780118 \r\nL 368.0875 9.340118 \r\nL 33.2875 9.340118 \r\nz\r\n\" style=\"fill:#ffffff;\"/>\r\n   </g>\r\n   <g id=\"PathCollection_1\">\r\n    <defs>\r\n     <path d=\"M 0 3 \r\nC 0.795609 3 1.55874 2.683901 2.12132 2.12132 \r\nC 2.683901 1.55874 3 0.795609 3 0 \r\nC 3 -0.795609 2.683901 -1.55874 2.12132 -2.12132 \r\nC 1.55874 -2.683901 0.795609 -3 0 -3 \r\nC -0.795609 -3 -1.55874 -2.683901 -2.12132 -2.12132 \r\nC -2.683901 -1.55874 -3 -0.795609 -3 0 \r\nC -3 0.795609 -2.683901 1.55874 -2.12132 2.12132 \r\nC -1.55874 2.683901 -0.795609 3 0 3 \r\nz\r\n\" id=\"m302afe3d0c\" style=\"stroke:#1f77b4;\"/>\r\n    </defs>\r\n    <g clip-path=\"url(#peaedb1eb79)\">\r\n     <use style=\"fill:#1f77b4;stroke:#1f77b4;\" x=\"352.869318\" xlink:href=\"#m302afe3d0c\" y=\"19.223754\"/>\r\n     <use style=\"fill:#1f77b4;stroke:#1f77b4;\" x=\"328.520227\" xlink:href=\"#m302afe3d0c\" y=\"41.701161\"/>\r\n     <use style=\"fill:#1f77b4;stroke:#1f77b4;\" x=\"305.185682\" xlink:href=\"#m302afe3d0c\" y=\"51.918812\"/>\r\n     <use style=\"fill:#1f77b4;stroke:#1f77b4;\" x=\"282.865682\" xlink:href=\"#m302afe3d0c\" y=\"61.229126\"/>\r\n     <use style=\"fill:#1f77b4;stroke:#1f77b4;\" x=\"261.560227\" xlink:href=\"#m302afe3d0c\" y=\"83.247923\"/>\r\n     <use style=\"fill:#1f77b4;stroke:#1f77b4;\" x=\"241.269318\" xlink:href=\"#m302afe3d0c\" y=\"88.779666\"/>\r\n     <use style=\"fill:#1f77b4;stroke:#1f77b4;\" x=\"221.992955\" xlink:href=\"#m302afe3d0c\" y=\"105.697199\"/>\r\n     <use style=\"fill:#1f77b4;stroke:#1f77b4;\" x=\"203.731136\" xlink:href=\"#m302afe3d0c\" y=\"104.84093\"/>\r\n     <use style=\"fill:#1f77b4;stroke:#1f77b4;\" x=\"186.483864\" xlink:href=\"#m302afe3d0c\" y=\"125.086768\"/>\r\n     <use style=\"fill:#1f77b4;stroke:#1f77b4;\" x=\"170.251136\" xlink:href=\"#m302afe3d0c\" y=\"138.066048\"/>\r\n     <use style=\"fill:#1f77b4;stroke:#1f77b4;\" x=\"155.032955\" xlink:href=\"#m302afe3d0c\" y=\"151.277687\"/>\r\n     <use style=\"fill:#1f77b4;stroke:#1f77b4;\" x=\"140.829318\" xlink:href=\"#m302afe3d0c\" y=\"152.889975\"/>\r\n     <use style=\"fill:#1f77b4;stroke:#1f77b4;\" x=\"127.640227\" xlink:href=\"#m302afe3d0c\" y=\"161.266572\"/>\r\n     <use style=\"fill:#1f77b4;stroke:#1f77b4;\" x=\"115.465682\" xlink:href=\"#m302afe3d0c\" y=\"170.315773\"/>\r\n     <use style=\"fill:#1f77b4;stroke:#1f77b4;\" x=\"104.305682\" xlink:href=\"#m302afe3d0c\" y=\"182.82614\"/>\r\n     <use style=\"fill:#1f77b4;stroke:#1f77b4;\" x=\"94.160227\" xlink:href=\"#m302afe3d0c\" y=\"174.818227\"/>\r\n     <use style=\"fill:#1f77b4;stroke:#1f77b4;\" x=\"85.029318\" xlink:href=\"#m302afe3d0c\" y=\"184.743613\"/>\r\n     <use style=\"fill:#1f77b4;stroke:#1f77b4;\" x=\"76.912955\" xlink:href=\"#m302afe3d0c\" y=\"198.808229\"/>\r\n     <use style=\"fill:#1f77b4;stroke:#1f77b4;\" x=\"69.811136\" xlink:href=\"#m302afe3d0c\" y=\"208.007078\"/>\r\n     <use style=\"fill:#1f77b4;stroke:#1f77b4;\" x=\"63.723864\" xlink:href=\"#m302afe3d0c\" y=\"192.975603\"/>\r\n     <use style=\"fill:#1f77b4;stroke:#1f77b4;\" x=\"58.651136\" xlink:href=\"#m302afe3d0c\" y=\"216.896482\"/>\r\n     <use style=\"fill:#1f77b4;stroke:#1f77b4;\" x=\"54.592955\" xlink:href=\"#m302afe3d0c\" y=\"206.280513\"/>\r\n     <use style=\"fill:#1f77b4;stroke:#1f77b4;\" x=\"51.549318\" xlink:href=\"#m302afe3d0c\" y=\"212.745175\"/>\r\n     <use style=\"fill:#1f77b4;stroke:#1f77b4;\" x=\"49.520227\" xlink:href=\"#m302afe3d0c\" y=\"205.144599\"/>\r\n     <use style=\"fill:#1f77b4;stroke:#1f77b4;\" x=\"48.505682\" xlink:href=\"#m302afe3d0c\" y=\"212.301371\"/>\r\n     <use style=\"fill:#1f77b4;stroke:#1f77b4;\" x=\"48.505682\" xlink:href=\"#m302afe3d0c\" y=\"204.970532\"/>\r\n     <use style=\"fill:#1f77b4;stroke:#1f77b4;\" x=\"49.520227\" xlink:href=\"#m302afe3d0c\" y=\"207.908688\"/>\r\n     <use style=\"fill:#1f77b4;stroke:#1f77b4;\" x=\"51.549318\" xlink:href=\"#m302afe3d0c\" y=\"214.236185\"/>\r\n     <use style=\"fill:#1f77b4;stroke:#1f77b4;\" x=\"54.592955\" xlink:href=\"#m302afe3d0c\" y=\"204.331465\"/>\r\n     <use style=\"fill:#1f77b4;stroke:#1f77b4;\" x=\"58.651136\" xlink:href=\"#m302afe3d0c\" y=\"209.080803\"/>\r\n     <use style=\"fill:#1f77b4;stroke:#1f77b4;\" x=\"63.723864\" xlink:href=\"#m302afe3d0c\" y=\"201.342874\"/>\r\n     <use style=\"fill:#1f77b4;stroke:#1f77b4;\" x=\"69.811136\" xlink:href=\"#m302afe3d0c\" y=\"196.804535\"/>\r\n     <use style=\"fill:#1f77b4;stroke:#1f77b4;\" x=\"76.912955\" xlink:href=\"#m302afe3d0c\" y=\"200.133739\"/>\r\n     <use style=\"fill:#1f77b4;stroke:#1f77b4;\" x=\"85.029318\" xlink:href=\"#m302afe3d0c\" y=\"198.313407\"/>\r\n     <use style=\"fill:#1f77b4;stroke:#1f77b4;\" x=\"94.160227\" xlink:href=\"#m302afe3d0c\" y=\"191.418849\"/>\r\n     <use style=\"fill:#1f77b4;stroke:#1f77b4;\" x=\"104.305682\" xlink:href=\"#m302afe3d0c\" y=\"181.043762\"/>\r\n     <use style=\"fill:#1f77b4;stroke:#1f77b4;\" x=\"115.465682\" xlink:href=\"#m302afe3d0c\" y=\"175.102957\"/>\r\n     <use style=\"fill:#1f77b4;stroke:#1f77b4;\" x=\"127.640227\" xlink:href=\"#m302afe3d0c\" y=\"159.044747\"/>\r\n     <use style=\"fill:#1f77b4;stroke:#1f77b4;\" x=\"140.829318\" xlink:href=\"#m302afe3d0c\" y=\"155.964467\"/>\r\n     <use style=\"fill:#1f77b4;stroke:#1f77b4;\" x=\"155.032955\" xlink:href=\"#m302afe3d0c\" y=\"144.384697\"/>\r\n     <use style=\"fill:#1f77b4;stroke:#1f77b4;\" x=\"170.251136\" xlink:href=\"#m302afe3d0c\" y=\"140.796887\"/>\r\n     <use style=\"fill:#1f77b4;stroke:#1f77b4;\" x=\"186.483864\" xlink:href=\"#m302afe3d0c\" y=\"126.528115\"/>\r\n     <use style=\"fill:#1f77b4;stroke:#1f77b4;\" x=\"203.731136\" xlink:href=\"#m302afe3d0c\" y=\"114.456668\"/>\r\n     <use style=\"fill:#1f77b4;stroke:#1f77b4;\" x=\"221.992955\" xlink:href=\"#m302afe3d0c\" y=\"95.865597\"/>\r\n     <use style=\"fill:#1f77b4;stroke:#1f77b4;\" x=\"241.269318\" xlink:href=\"#m302afe3d0c\" y=\"80.774283\"/>\r\n     <use style=\"fill:#1f77b4;stroke:#1f77b4;\" x=\"261.560227\" xlink:href=\"#m302afe3d0c\" y=\"77.322988\"/>\r\n     <use style=\"fill:#1f77b4;stroke:#1f77b4;\" x=\"282.865682\" xlink:href=\"#m302afe3d0c\" y=\"63.45881\"/>\r\n     <use style=\"fill:#1f77b4;stroke:#1f77b4;\" x=\"305.185682\" xlink:href=\"#m302afe3d0c\" y=\"55.009226\"/>\r\n     <use style=\"fill:#1f77b4;stroke:#1f77b4;\" x=\"328.520227\" xlink:href=\"#m302afe3d0c\" y=\"39.218284\"/>\r\n     <use style=\"fill:#1f77b4;stroke:#1f77b4;\" x=\"352.869318\" xlink:href=\"#m302afe3d0c\" y=\"23.290833\"/>\r\n    </g>\r\n   </g>\r\n   <g id=\"matplotlib.axis_1\">\r\n    <g id=\"xtick_1\">\r\n     <g id=\"line2d_1\">\r\n      <defs>\r\n       <path d=\"M 0 0 \r\nL 0 3.5 \r\n\" id=\"mcb4adc61c4\" style=\"stroke:#000000;stroke-width:0.8;\"/>\r\n      </defs>\r\n      <g>\r\n       <use style=\"stroke:#000000;stroke-width:0.8;\" x=\"48.378864\" xlink:href=\"#mcb4adc61c4\" y=\"226.780118\"/>\r\n      </g>\r\n     </g>\r\n     <g id=\"text_1\">\r\n      <!-- 0 -->\r\n      <g transform=\"translate(45.197614 241.378556)scale(0.1 -0.1)\">\r\n       <defs>\r\n        <path d=\"M 2034 4250 \r\nQ 1547 4250 1301 3770 \r\nQ 1056 3291 1056 2328 \r\nQ 1056 1369 1301 889 \r\nQ 1547 409 2034 409 \r\nQ 2525 409 2770 889 \r\nQ 3016 1369 3016 2328 \r\nQ 3016 3291 2770 3770 \r\nQ 2525 4250 2034 4250 \r\nz\r\nM 2034 4750 \r\nQ 2819 4750 3233 4129 \r\nQ 3647 3509 3647 2328 \r\nQ 3647 1150 3233 529 \r\nQ 2819 -91 2034 -91 \r\nQ 1250 -91 836 529 \r\nQ 422 1150 422 2328 \r\nQ 422 3509 836 4129 \r\nQ 1250 4750 2034 4750 \r\nz\r\n\" id=\"DejaVuSans-30\" transform=\"scale(0.015625)\"/>\r\n       </defs>\r\n       <use xlink:href=\"#DejaVuSans-30\"/>\r\n      </g>\r\n     </g>\r\n    </g>\r\n    <g id=\"xtick_2\">\r\n     <g id=\"line2d_2\">\r\n      <g>\r\n       <use style=\"stroke:#000000;stroke-width:0.8;\" x=\"109.276955\" xlink:href=\"#mcb4adc61c4\" y=\"226.780118\"/>\r\n      </g>\r\n     </g>\r\n     <g id=\"text_2\">\r\n      <!-- 5 -->\r\n      <g transform=\"translate(106.095705 241.378556)scale(0.1 -0.1)\">\r\n       <defs>\r\n        <path d=\"M 691 4666 \r\nL 3169 4666 \r\nL 3169 4134 \r\nL 1269 4134 \r\nL 1269 2991 \r\nQ 1406 3038 1543 3061 \r\nQ 1681 3084 1819 3084 \r\nQ 2600 3084 3056 2656 \r\nQ 3513 2228 3513 1497 \r\nQ 3513 744 3044 326 \r\nQ 2575 -91 1722 -91 \r\nQ 1428 -91 1123 -41 \r\nQ 819 9 494 109 \r\nL 494 744 \r\nQ 775 591 1075 516 \r\nQ 1375 441 1709 441 \r\nQ 2250 441 2565 725 \r\nQ 2881 1009 2881 1497 \r\nQ 2881 1984 2565 2268 \r\nQ 2250 2553 1709 2553 \r\nQ 1456 2553 1204 2497 \r\nQ 953 2441 691 2322 \r\nL 691 4666 \r\nz\r\n\" id=\"DejaVuSans-35\" transform=\"scale(0.015625)\"/>\r\n       </defs>\r\n       <use xlink:href=\"#DejaVuSans-35\"/>\r\n      </g>\r\n     </g>\r\n    </g>\r\n    <g id=\"xtick_3\">\r\n     <g id=\"line2d_3\">\r\n      <g>\r\n       <use style=\"stroke:#000000;stroke-width:0.8;\" x=\"170.175045\" xlink:href=\"#mcb4adc61c4\" y=\"226.780118\"/>\r\n      </g>\r\n     </g>\r\n     <g id=\"text_3\">\r\n      <!-- 10 -->\r\n      <g transform=\"translate(163.812545 241.378556)scale(0.1 -0.1)\">\r\n       <defs>\r\n        <path d=\"M 794 531 \r\nL 1825 531 \r\nL 1825 4091 \r\nL 703 3866 \r\nL 703 4441 \r\nL 1819 4666 \r\nL 2450 4666 \r\nL 2450 531 \r\nL 3481 531 \r\nL 3481 0 \r\nL 794 0 \r\nL 794 531 \r\nz\r\n\" id=\"DejaVuSans-31\" transform=\"scale(0.015625)\"/>\r\n       </defs>\r\n       <use xlink:href=\"#DejaVuSans-31\"/>\r\n       <use x=\"63.623047\" xlink:href=\"#DejaVuSans-30\"/>\r\n      </g>\r\n     </g>\r\n    </g>\r\n    <g id=\"xtick_4\">\r\n     <g id=\"line2d_4\">\r\n      <g>\r\n       <use style=\"stroke:#000000;stroke-width:0.8;\" x=\"231.073136\" xlink:href=\"#mcb4adc61c4\" y=\"226.780118\"/>\r\n      </g>\r\n     </g>\r\n     <g id=\"text_4\">\r\n      <!-- 15 -->\r\n      <g transform=\"translate(224.710636 241.378556)scale(0.1 -0.1)\">\r\n       <use xlink:href=\"#DejaVuSans-31\"/>\r\n       <use x=\"63.623047\" xlink:href=\"#DejaVuSans-35\"/>\r\n      </g>\r\n     </g>\r\n    </g>\r\n    <g id=\"xtick_5\">\r\n     <g id=\"line2d_5\">\r\n      <g>\r\n       <use style=\"stroke:#000000;stroke-width:0.8;\" x=\"291.971227\" xlink:href=\"#mcb4adc61c4\" y=\"226.780118\"/>\r\n      </g>\r\n     </g>\r\n     <g id=\"text_5\">\r\n      <!-- 20 -->\r\n      <g transform=\"translate(285.608727 241.378556)scale(0.1 -0.1)\">\r\n       <defs>\r\n        <path d=\"M 1228 531 \r\nL 3431 531 \r\nL 3431 0 \r\nL 469 0 \r\nL 469 531 \r\nQ 828 903 1448 1529 \r\nQ 2069 2156 2228 2338 \r\nQ 2531 2678 2651 2914 \r\nQ 2772 3150 2772 3378 \r\nQ 2772 3750 2511 3984 \r\nQ 2250 4219 1831 4219 \r\nQ 1534 4219 1204 4116 \r\nQ 875 4013 500 3803 \r\nL 500 4441 \r\nQ 881 4594 1212 4672 \r\nQ 1544 4750 1819 4750 \r\nQ 2544 4750 2975 4387 \r\nQ 3406 4025 3406 3419 \r\nQ 3406 3131 3298 2873 \r\nQ 3191 2616 2906 2266 \r\nQ 2828 2175 2409 1742 \r\nQ 1991 1309 1228 531 \r\nz\r\n\" id=\"DejaVuSans-32\" transform=\"scale(0.015625)\"/>\r\n       </defs>\r\n       <use xlink:href=\"#DejaVuSans-32\"/>\r\n       <use x=\"63.623047\" xlink:href=\"#DejaVuSans-30\"/>\r\n      </g>\r\n     </g>\r\n    </g>\r\n    <g id=\"xtick_6\">\r\n     <g id=\"line2d_6\">\r\n      <g>\r\n       <use style=\"stroke:#000000;stroke-width:0.8;\" x=\"352.869318\" xlink:href=\"#mcb4adc61c4\" y=\"226.780118\"/>\r\n      </g>\r\n     </g>\r\n     <g id=\"text_6\">\r\n      <!-- 25 -->\r\n      <g transform=\"translate(346.506818 241.378556)scale(0.1 -0.1)\">\r\n       <use xlink:href=\"#DejaVuSans-32\"/>\r\n       <use x=\"63.623047\" xlink:href=\"#DejaVuSans-35\"/>\r\n      </g>\r\n     </g>\r\n    </g>\r\n   </g>\r\n   <g id=\"matplotlib.axis_2\">\r\n    <g id=\"ytick_1\">\r\n     <g id=\"line2d_7\">\r\n      <defs>\r\n       <path d=\"M 0 0 \r\nL -3.5 0 \r\n\" id=\"m2b9957404f\" style=\"stroke:#000000;stroke-width:0.8;\"/>\r\n      </defs>\r\n      <g>\r\n       <use style=\"stroke:#000000;stroke-width:0.8;\" x=\"33.2875\" xlink:href=\"#m2b9957404f\" y=\"212.642466\"/>\r\n      </g>\r\n     </g>\r\n     <g id=\"text_7\">\r\n      <!-- 0 -->\r\n      <g transform=\"translate(19.925 216.441685)scale(0.1 -0.1)\">\r\n       <use xlink:href=\"#DejaVuSans-30\"/>\r\n      </g>\r\n     </g>\r\n    </g>\r\n    <g id=\"ytick_2\">\r\n     <g id=\"line2d_8\">\r\n      <g>\r\n       <use style=\"stroke:#000000;stroke-width:0.8;\" x=\"33.2875\" xlink:href=\"#m2b9957404f\" y=\"187.437061\"/>\r\n      </g>\r\n     </g>\r\n     <g id=\"text_8\">\r\n      <!-- 100 -->\r\n      <g transform=\"translate(7.2 191.236279)scale(0.1 -0.1)\">\r\n       <use xlink:href=\"#DejaVuSans-31\"/>\r\n       <use x=\"63.623047\" xlink:href=\"#DejaVuSans-30\"/>\r\n       <use x=\"127.246094\" xlink:href=\"#DejaVuSans-30\"/>\r\n      </g>\r\n     </g>\r\n    </g>\r\n    <g id=\"ytick_3\">\r\n     <g id=\"line2d_9\">\r\n      <g>\r\n       <use style=\"stroke:#000000;stroke-width:0.8;\" x=\"33.2875\" xlink:href=\"#m2b9957404f\" y=\"162.231655\"/>\r\n      </g>\r\n     </g>\r\n     <g id=\"text_9\">\r\n      <!-- 200 -->\r\n      <g transform=\"translate(7.2 166.030873)scale(0.1 -0.1)\">\r\n       <use xlink:href=\"#DejaVuSans-32\"/>\r\n       <use x=\"63.623047\" xlink:href=\"#DejaVuSans-30\"/>\r\n       <use x=\"127.246094\" xlink:href=\"#DejaVuSans-30\"/>\r\n      </g>\r\n     </g>\r\n    </g>\r\n    <g id=\"ytick_4\">\r\n     <g id=\"line2d_10\">\r\n      <g>\r\n       <use style=\"stroke:#000000;stroke-width:0.8;\" x=\"33.2875\" xlink:href=\"#m2b9957404f\" y=\"137.026249\"/>\r\n      </g>\r\n     </g>\r\n     <g id=\"text_10\">\r\n      <!-- 300 -->\r\n      <g transform=\"translate(7.2 140.825467)scale(0.1 -0.1)\">\r\n       <defs>\r\n        <path d=\"M 2597 2516 \r\nQ 3050 2419 3304 2112 \r\nQ 3559 1806 3559 1356 \r\nQ 3559 666 3084 287 \r\nQ 2609 -91 1734 -91 \r\nQ 1441 -91 1130 -33 \r\nQ 819 25 488 141 \r\nL 488 750 \r\nQ 750 597 1062 519 \r\nQ 1375 441 1716 441 \r\nQ 2309 441 2620 675 \r\nQ 2931 909 2931 1356 \r\nQ 2931 1769 2642 2001 \r\nQ 2353 2234 1838 2234 \r\nL 1294 2234 \r\nL 1294 2753 \r\nL 1863 2753 \r\nQ 2328 2753 2575 2939 \r\nQ 2822 3125 2822 3475 \r\nQ 2822 3834 2567 4026 \r\nQ 2313 4219 1838 4219 \r\nQ 1578 4219 1281 4162 \r\nQ 984 4106 628 3988 \r\nL 628 4550 \r\nQ 988 4650 1302 4700 \r\nQ 1616 4750 1894 4750 \r\nQ 2613 4750 3031 4423 \r\nQ 3450 4097 3450 3541 \r\nQ 3450 3153 3228 2886 \r\nQ 3006 2619 2597 2516 \r\nz\r\n\" id=\"DejaVuSans-33\" transform=\"scale(0.015625)\"/>\r\n       </defs>\r\n       <use xlink:href=\"#DejaVuSans-33\"/>\r\n       <use x=\"63.623047\" xlink:href=\"#DejaVuSans-30\"/>\r\n       <use x=\"127.246094\" xlink:href=\"#DejaVuSans-30\"/>\r\n      </g>\r\n     </g>\r\n    </g>\r\n    <g id=\"ytick_5\">\r\n     <g id=\"line2d_11\">\r\n      <g>\r\n       <use style=\"stroke:#000000;stroke-width:0.8;\" x=\"33.2875\" xlink:href=\"#m2b9957404f\" y=\"111.820843\"/>\r\n      </g>\r\n     </g>\r\n     <g id=\"text_11\">\r\n      <!-- 400 -->\r\n      <g transform=\"translate(7.2 115.620061)scale(0.1 -0.1)\">\r\n       <defs>\r\n        <path d=\"M 2419 4116 \r\nL 825 1625 \r\nL 2419 1625 \r\nL 2419 4116 \r\nz\r\nM 2253 4666 \r\nL 3047 4666 \r\nL 3047 1625 \r\nL 3713 1625 \r\nL 3713 1100 \r\nL 3047 1100 \r\nL 3047 0 \r\nL 2419 0 \r\nL 2419 1100 \r\nL 313 1100 \r\nL 313 1709 \r\nL 2253 4666 \r\nz\r\n\" id=\"DejaVuSans-34\" transform=\"scale(0.015625)\"/>\r\n       </defs>\r\n       <use xlink:href=\"#DejaVuSans-34\"/>\r\n       <use x=\"63.623047\" xlink:href=\"#DejaVuSans-30\"/>\r\n       <use x=\"127.246094\" xlink:href=\"#DejaVuSans-30\"/>\r\n      </g>\r\n     </g>\r\n    </g>\r\n    <g id=\"ytick_6\">\r\n     <g id=\"line2d_12\">\r\n      <g>\r\n       <use style=\"stroke:#000000;stroke-width:0.8;\" x=\"33.2875\" xlink:href=\"#m2b9957404f\" y=\"86.615437\"/>\r\n      </g>\r\n     </g>\r\n     <g id=\"text_12\">\r\n      <!-- 500 -->\r\n      <g transform=\"translate(7.2 90.414655)scale(0.1 -0.1)\">\r\n       <use xlink:href=\"#DejaVuSans-35\"/>\r\n       <use x=\"63.623047\" xlink:href=\"#DejaVuSans-30\"/>\r\n       <use x=\"127.246094\" xlink:href=\"#DejaVuSans-30\"/>\r\n      </g>\r\n     </g>\r\n    </g>\r\n    <g id=\"ytick_7\">\r\n     <g id=\"line2d_13\">\r\n      <g>\r\n       <use style=\"stroke:#000000;stroke-width:0.8;\" x=\"33.2875\" xlink:href=\"#m2b9957404f\" y=\"61.410031\"/>\r\n      </g>\r\n     </g>\r\n     <g id=\"text_13\">\r\n      <!-- 600 -->\r\n      <g transform=\"translate(7.2 65.209249)scale(0.1 -0.1)\">\r\n       <defs>\r\n        <path d=\"M 2113 2584 \r\nQ 1688 2584 1439 2293 \r\nQ 1191 2003 1191 1497 \r\nQ 1191 994 1439 701 \r\nQ 1688 409 2113 409 \r\nQ 2538 409 2786 701 \r\nQ 3034 994 3034 1497 \r\nQ 3034 2003 2786 2293 \r\nQ 2538 2584 2113 2584 \r\nz\r\nM 3366 4563 \r\nL 3366 3988 \r\nQ 3128 4100 2886 4159 \r\nQ 2644 4219 2406 4219 \r\nQ 1781 4219 1451 3797 \r\nQ 1122 3375 1075 2522 \r\nQ 1259 2794 1537 2939 \r\nQ 1816 3084 2150 3084 \r\nQ 2853 3084 3261 2657 \r\nQ 3669 2231 3669 1497 \r\nQ 3669 778 3244 343 \r\nQ 2819 -91 2113 -91 \r\nQ 1303 -91 875 529 \r\nQ 447 1150 447 2328 \r\nQ 447 3434 972 4092 \r\nQ 1497 4750 2381 4750 \r\nQ 2619 4750 2861 4703 \r\nQ 3103 4656 3366 4563 \r\nz\r\n\" id=\"DejaVuSans-36\" transform=\"scale(0.015625)\"/>\r\n       </defs>\r\n       <use xlink:href=\"#DejaVuSans-36\"/>\r\n       <use x=\"63.623047\" xlink:href=\"#DejaVuSans-30\"/>\r\n       <use x=\"127.246094\" xlink:href=\"#DejaVuSans-30\"/>\r\n      </g>\r\n     </g>\r\n    </g>\r\n    <g id=\"ytick_8\">\r\n     <g id=\"line2d_14\">\r\n      <g>\r\n       <use style=\"stroke:#000000;stroke-width:0.8;\" x=\"33.2875\" xlink:href=\"#m2b9957404f\" y=\"36.204625\"/>\r\n      </g>\r\n     </g>\r\n     <g id=\"text_14\">\r\n      <!-- 700 -->\r\n      <g transform=\"translate(7.2 40.003843)scale(0.1 -0.1)\">\r\n       <defs>\r\n        <path d=\"M 525 4666 \r\nL 3525 4666 \r\nL 3525 4397 \r\nL 1831 0 \r\nL 1172 0 \r\nL 2766 4134 \r\nL 525 4134 \r\nL 525 4666 \r\nz\r\n\" id=\"DejaVuSans-37\" transform=\"scale(0.015625)\"/>\r\n       </defs>\r\n       <use xlink:href=\"#DejaVuSans-37\"/>\r\n       <use x=\"63.623047\" xlink:href=\"#DejaVuSans-30\"/>\r\n       <use x=\"127.246094\" xlink:href=\"#DejaVuSans-30\"/>\r\n      </g>\r\n     </g>\r\n    </g>\r\n    <g id=\"ytick_9\">\r\n     <g id=\"line2d_15\">\r\n      <g>\r\n       <use style=\"stroke:#000000;stroke-width:0.8;\" x=\"33.2875\" xlink:href=\"#m2b9957404f\" y=\"10.999219\"/>\r\n      </g>\r\n     </g>\r\n     <g id=\"text_15\">\r\n      <!-- 800 -->\r\n      <g transform=\"translate(7.2 14.798437)scale(0.1 -0.1)\">\r\n       <defs>\r\n        <path d=\"M 2034 2216 \r\nQ 1584 2216 1326 1975 \r\nQ 1069 1734 1069 1313 \r\nQ 1069 891 1326 650 \r\nQ 1584 409 2034 409 \r\nQ 2484 409 2743 651 \r\nQ 3003 894 3003 1313 \r\nQ 3003 1734 2745 1975 \r\nQ 2488 2216 2034 2216 \r\nz\r\nM 1403 2484 \r\nQ 997 2584 770 2862 \r\nQ 544 3141 544 3541 \r\nQ 544 4100 942 4425 \r\nQ 1341 4750 2034 4750 \r\nQ 2731 4750 3128 4425 \r\nQ 3525 4100 3525 3541 \r\nQ 3525 3141 3298 2862 \r\nQ 3072 2584 2669 2484 \r\nQ 3125 2378 3379 2068 \r\nQ 3634 1759 3634 1313 \r\nQ 3634 634 3220 271 \r\nQ 2806 -91 2034 -91 \r\nQ 1263 -91 848 271 \r\nQ 434 634 434 1313 \r\nQ 434 1759 690 2068 \r\nQ 947 2378 1403 2484 \r\nz\r\nM 1172 3481 \r\nQ 1172 3119 1398 2916 \r\nQ 1625 2713 2034 2713 \r\nQ 2441 2713 2670 2916 \r\nQ 2900 3119 2900 3481 \r\nQ 2900 3844 2670 4047 \r\nQ 2441 4250 2034 4250 \r\nQ 1625 4250 1398 4047 \r\nQ 1172 3844 1172 3481 \r\nz\r\n\" id=\"DejaVuSans-38\" transform=\"scale(0.015625)\"/>\r\n       </defs>\r\n       <use xlink:href=\"#DejaVuSans-38\"/>\r\n       <use x=\"63.623047\" xlink:href=\"#DejaVuSans-30\"/>\r\n       <use x=\"127.246094\" xlink:href=\"#DejaVuSans-30\"/>\r\n      </g>\r\n     </g>\r\n    </g>\r\n   </g>\r\n   <g id=\"patch_3\">\r\n    <path d=\"M 33.2875 226.780118 \r\nL 33.2875 9.340118 \r\n\" style=\"fill:none;stroke:#000000;stroke-linecap:square;stroke-linejoin:miter;stroke-width:0.8;\"/>\r\n   </g>\r\n   <g id=\"patch_4\">\r\n    <path d=\"M 368.0875 226.780118 \r\nL 368.0875 9.340118 \r\n\" style=\"fill:none;stroke:#000000;stroke-linecap:square;stroke-linejoin:miter;stroke-width:0.8;\"/>\r\n   </g>\r\n   <g id=\"patch_5\">\r\n    <path d=\"M 33.2875 226.780118 \r\nL 368.0875 226.780118 \r\n\" style=\"fill:none;stroke:#000000;stroke-linecap:square;stroke-linejoin:miter;stroke-width:0.8;\"/>\r\n   </g>\r\n   <g id=\"patch_6\">\r\n    <path d=\"M 33.2875 9.340118 \r\nL 368.0875 9.340118 \r\n\" style=\"fill:none;stroke:#000000;stroke-linecap:square;stroke-linejoin:miter;stroke-width:0.8;\"/>\r\n   </g>\r\n  </g>\r\n </g>\r\n <defs>\r\n  <clipPath id=\"peaedb1eb79\">\r\n   <rect height=\"217.44\" width=\"334.8\" x=\"33.2875\" y=\"9.340118\"/>\r\n  </clipPath>\r\n </defs>\r\n</svg>\r\n",
      "image/png": "[encoded data removed]"
     },
     "metadata": {
      "needs_background": "light"
     }
    }
   ],
   "source": [
    "plt.scatter(x**2, y)"
   ]
  },
  {
   "cell_type": "code",
   "execution_count": 86,
   "metadata": {},
   "outputs": [],
   "source": [
    "from sklearn.preprocessing import PolynomialFeatures"
   ]
  },
  {
   "cell_type": "code",
   "execution_count": 88,
   "metadata": {},
   "outputs": [
    {
     "output_type": "execute_result",
     "data": {
      "text/plain": [
       "array([[ 1.00000000e+00, -5.00000000e+00,  2.50000000e+01],\n",
       "       [ 1.00000000e+00, -4.79591837e+00,  2.30008330e+01],\n",
       "       [ 1.00000000e+00, -4.59183673e+00,  2.10849646e+01],\n",
       "       [ 1.00000000e+00, -4.38775510e+00,  1.92523948e+01],\n",
       "       [ 1.00000000e+00, -4.18367347e+00,  1.75031237e+01],\n",
       "       [ 1.00000000e+00, -3.97959184e+00,  1.58371512e+01],\n",
       "       [ 1.00000000e+00, -3.77551020e+00,  1.42544773e+01],\n",
       "       [ 1.00000000e+00, -3.57142857e+00,  1.27551020e+01],\n",
       "       [ 1.00000000e+00, -3.36734694e+00,  1.13390254e+01],\n",
       "       [ 1.00000000e+00, -3.16326531e+00,  1.00062474e+01],\n",
       "       [ 1.00000000e+00, -2.95918367e+00,  8.75676801e+00],\n",
       "       [ 1.00000000e+00, -2.75510204e+00,  7.59058726e+00],\n",
       "       [ 1.00000000e+00, -2.55102041e+00,  6.50770512e+00],\n",
       "       [ 1.00000000e+00, -2.34693878e+00,  5.50812162e+00],\n",
       "       [ 1.00000000e+00, -2.14285714e+00,  4.59183673e+00],\n",
       "       [ 1.00000000e+00, -1.93877551e+00,  3.75885048e+00],\n",
       "       [ 1.00000000e+00, -1.73469388e+00,  3.00916285e+00],\n",
       "       [ 1.00000000e+00, -1.53061224e+00,  2.34277384e+00],\n",
       "       [ 1.00000000e+00, -1.32653061e+00,  1.75968347e+00],\n",
       "       [ 1.00000000e+00, -1.12244898e+00,  1.25989171e+00],\n",
       "       [ 1.00000000e+00, -9.18367347e-01,  8.43398584e-01],\n",
       "       [ 1.00000000e+00, -7.14285714e-01,  5.10204082e-01],\n",
       "       [ 1.00000000e+00, -5.10204082e-01,  2.60308205e-01],\n",
       "       [ 1.00000000e+00, -3.06122449e-01,  9.37109538e-02],\n",
       "       [ 1.00000000e+00, -1.02040816e-01,  1.04123282e-02],\n",
       "       [ 1.00000000e+00,  1.02040816e-01,  1.04123282e-02],\n",
       "       [ 1.00000000e+00,  3.06122449e-01,  9.37109538e-02],\n",
       "       [ 1.00000000e+00,  5.10204082e-01,  2.60308205e-01],\n",
       "       [ 1.00000000e+00,  7.14285714e-01,  5.10204082e-01],\n",
       "       [ 1.00000000e+00,  9.18367347e-01,  8.43398584e-01],\n",
       "       [ 1.00000000e+00,  1.12244898e+00,  1.25989171e+00],\n",
       "       [ 1.00000000e+00,  1.32653061e+00,  1.75968347e+00],\n",
       "       [ 1.00000000e+00,  1.53061224e+00,  2.34277384e+00],\n",
       "       [ 1.00000000e+00,  1.73469388e+00,  3.00916285e+00],\n",
       "       [ 1.00000000e+00,  1.93877551e+00,  3.75885048e+00],\n",
       "       [ 1.00000000e+00,  2.14285714e+00,  4.59183673e+00],\n",
       "       [ 1.00000000e+00,  2.34693878e+00,  5.50812162e+00],\n",
       "       [ 1.00000000e+00,  2.55102041e+00,  6.50770512e+00],\n",
       "       [ 1.00000000e+00,  2.75510204e+00,  7.59058726e+00],\n",
       "       [ 1.00000000e+00,  2.95918367e+00,  8.75676801e+00],\n",
       "       [ 1.00000000e+00,  3.16326531e+00,  1.00062474e+01],\n",
       "       [ 1.00000000e+00,  3.36734694e+00,  1.13390254e+01],\n",
       "       [ 1.00000000e+00,  3.57142857e+00,  1.27551020e+01],\n",
       "       [ 1.00000000e+00,  3.77551020e+00,  1.42544773e+01],\n",
       "       [ 1.00000000e+00,  3.97959184e+00,  1.58371512e+01],\n",
       "       [ 1.00000000e+00,  4.18367347e+00,  1.75031237e+01],\n",
       "       [ 1.00000000e+00,  4.38775510e+00,  1.92523948e+01],\n",
       "       [ 1.00000000e+00,  4.59183673e+00,  2.10849646e+01],\n",
       "       [ 1.00000000e+00,  4.79591837e+00,  2.30008330e+01],\n",
       "       [ 1.00000000e+00,  5.00000000e+00,  2.50000000e+01]])"
      ]
     },
     "metadata": {},
     "execution_count": 88
    }
   ],
   "source": [
    "poly = PolynomialFeatures(2, interaction_only=False)\n",
    "x_ = poly.fit_transform(x.reshape(-1,1))\n",
    "x_"
   ]
  },
  {
   "cell_type": "code",
   "execution_count": null,
   "metadata": {},
   "outputs": [],
   "source": []
  },
  {
   "cell_type": "code",
   "execution_count": 90,
   "metadata": {},
   "outputs": [
    {
     "output_type": "execute_result",
     "data": {
      "text/plain": [
       "LinearRegression()"
      ]
     },
     "metadata": {},
     "execution_count": 90
    }
   ],
   "source": [
    "sklr.fit(x_, y)"
   ]
  },
  {
   "cell_type": "code",
   "execution_count": 91,
   "metadata": {},
   "outputs": [
    {
     "output_type": "execute_result",
     "data": {
      "text/plain": [
       "(array([ 0.        , -0.1908746 , 30.41780358]), -0.37396829169347257)"
      ]
     },
     "metadata": {},
     "execution_count": 91
    }
   ],
   "source": [
    "sklr.coef_, sklr.intercept_"
   ]
  },
  {
   "cell_type": "code",
   "execution_count": 93,
   "metadata": {},
   "outputs": [
    {
     "output_type": "execute_result",
     "data": {
      "text/plain": [
       "0.9927704046681767"
      ]
     },
     "metadata": {},
     "execution_count": 93
    }
   ],
   "source": [
    "sklr.score(x_, y)"
   ]
  },
  {
   "cell_type": "code",
   "execution_count": null,
   "metadata": {},
   "outputs": [],
   "source": []
  }
 ]
}