{
 "cells": [
  {
   "cell_type": "markdown",
   "id": "d2a4f3a3",
   "metadata": {},
   "source": [
    "## Generators"
   ]
  },
  {
   "cell_type": "code",
   "execution_count": 2,
   "id": "1e432c7b",
   "metadata": {},
   "outputs": [
    {
     "name": "stdout",
     "output_type": "stream",
     "text": [
      "1\n",
      "2\n",
      "3\n",
      "4\n",
      "5\n",
      "6\n",
      "7\n",
      "8\n",
      "9\n",
      "10\n"
     ]
    }
   ],
   "source": [
    "def print_num(n):\n",
    "    for i in range(1, n+1):\n",
    "        print(i)\n",
    "        \n",
    "n = 10\n",
    "print_num(n)\n"
   ]
  },
  {
   "cell_type": "code",
   "execution_count": 29,
   "id": "6a39db37",
   "metadata": {},
   "outputs": [],
   "source": [
    "def print_num(n):\n",
    "    for i in range(1, n+1):\n",
    "        print(\"inside print_num\")\n",
    "        yield i"
   ]
  },
  {
   "cell_type": "code",
   "execution_count": 30,
   "id": "a9210966",
   "metadata": {},
   "outputs": [
    {
     "name": "stdout",
     "output_type": "stream",
     "text": [
      "inside print_num\n",
      "1\n",
      "inside print_num\n",
      "2\n",
      "inside print_num\n",
      "3\n",
      "inside print_num\n",
      "4\n",
      "inside print_num\n",
      "5\n",
      "inside print_num\n",
      "6\n",
      "inside print_num\n",
      "7\n",
      "inside print_num\n",
      "8\n",
      "inside print_num\n",
      "9\n",
      "inside print_num\n",
      "10\n",
      "inside print_num\n",
      "11\n",
      "inside print_num\n",
      "12\n",
      "inside print_num\n",
      "13\n",
      "inside print_num\n",
      "14\n"
     ]
    }
   ],
   "source": [
    "for i in print_num(14):\n",
    "    print(i)"
   ]
  },
  {
   "cell_type": "code",
   "execution_count": 34,
   "id": "94553c3a",
   "metadata": {},
   "outputs": [
    {
     "name": "stdout",
     "output_type": "stream",
     "text": [
      "1 1 2 3 5 8 13 21 34 55 "
     ]
    }
   ],
   "source": [
    "def fibonacci(n):\n",
    "    \n",
    "    a = 1\n",
    "    b = 1\n",
    "    if n == 1:\n",
    "        print(1)\n",
    "    elif n >= 2:\n",
    "        print(1, 1, end=\" \")\n",
    "    i = 3\n",
    "    while i<=n:\n",
    "        c = a+b\n",
    "        print(c, end=\" \")\n",
    "        b, a = c, b\n",
    "        i += 1\n",
    "fibonacci(10)\n"
   ]
  },
  {
   "cell_type": "code",
   "execution_count": 50,
   "id": "27043038",
   "metadata": {},
   "outputs": [],
   "source": [
    "# constraint: n>2\n",
    "def fibonacci(n):\n",
    "    a = 1\n",
    "    b = 1\n",
    "    i = 3\n",
    "    print(\"inside fibonaaci for the first time\")\n",
    "    while i<=n:\n",
    "        print(f\"inside fibonacci for {i-2} times\")\n",
    "        c = a+b\n",
    "        yield c # temporary return\n",
    "        b, a = c, b\n",
    "        i += 1"
   ]
  },
  {
   "cell_type": "code",
   "execution_count": 52,
   "id": "8f52be6a",
   "metadata": {},
   "outputs": [
    {
     "name": "stdout",
     "output_type": "stream",
     "text": [
      "inside fibonaaci for the first time\n",
      "inside fibonacci for 1 times\n",
      "2\n",
      "inside fibonacci for 2 times\n",
      "3\n",
      "inside fibonacci for 3 times\n",
      "5\n",
      "inside fibonacci for 4 times\n",
      "8\n",
      "inside fibonacci for 5 times\n",
      "13\n"
     ]
    }
   ],
   "source": [
    "for i in fibonacci(7): # i = next(iter(fibonacci))\n",
    "    print(i)"
   ]
  },
  {
   "cell_type": "code",
   "execution_count": 60,
   "id": "f8960701",
   "metadata": {},
   "outputs": [],
   "source": [
    "it1 = iter(fibonacci(7))"
   ]
  },
  {
   "cell_type": "code",
   "execution_count": 66,
   "id": "c88efe20",
   "metadata": {},
   "outputs": [
    {
     "ename": "StopIteration",
     "evalue": "",
     "output_type": "error",
     "traceback": [
      "\u001b[1;31m---------------------------------------------------------------------------\u001b[0m",
      "\u001b[1;31mStopIteration\u001b[0m                             Traceback (most recent call last)",
      "\u001b[1;32m<ipython-input-66-2488cfd6da6f>\u001b[0m in \u001b[0;36m<module>\u001b[1;34m\u001b[0m\n\u001b[1;32m----> 1\u001b[1;33m \u001b[0mnext\u001b[0m\u001b[1;33m(\u001b[0m\u001b[0mit1\u001b[0m\u001b[1;33m)\u001b[0m\u001b[1;33m\u001b[0m\u001b[1;33m\u001b[0m\u001b[0m\n\u001b[0m",
      "\u001b[1;31mStopIteration\u001b[0m: "
     ]
    }
   ],
   "source": [
    "next(it1)"
   ]
  },
  {
   "cell_type": "code",
   "execution_count": 45,
   "id": "5b956fde",
   "metadata": {},
   "outputs": [
    {
     "data": {
      "text/plain": [
       "generator"
      ]
     },
     "execution_count": 45,
     "metadata": {},
     "output_type": "execute_result"
    }
   ],
   "source": [
    "it = iter(print_num(10))\n",
    "type(it)"
   ]
  },
  {
   "cell_type": "code",
   "execution_count": 27,
   "id": "0707102d",
   "metadata": {},
   "outputs": [
    {
     "ename": "StopIteration",
     "evalue": "",
     "output_type": "error",
     "traceback": [
      "\u001b[1;31m---------------------------------------------------------------------------\u001b[0m",
      "\u001b[1;31mStopIteration\u001b[0m                             Traceback (most recent call last)",
      "\u001b[1;32m<ipython-input-27-bc1ab118995a>\u001b[0m in \u001b[0;36m<module>\u001b[1;34m\u001b[0m\n\u001b[1;32m----> 1\u001b[1;33m \u001b[0mnext\u001b[0m\u001b[1;33m(\u001b[0m\u001b[0mit\u001b[0m\u001b[1;33m)\u001b[0m\u001b[1;33m\u001b[0m\u001b[1;33m\u001b[0m\u001b[0m\n\u001b[0m",
      "\u001b[1;31mStopIteration\u001b[0m: "
     ]
    }
   ],
   "source": [
    "next(it)"
   ]
  },
  {
   "cell_type": "code",
   "execution_count": null,
   "id": "66bf9cda",
   "metadata": {},
   "outputs": [],
   "source": []
  },
  {
   "cell_type": "code",
   "execution_count": null,
   "id": "c81da27f",
   "metadata": {},
   "outputs": [],
   "source": []
  }
 ],
 "metadata": {
  "kernelspec": {
   "display_name": "Python 3",
   "language": "python",
   "name": "python3"
  },
  "language_info": {
   "codemirror_mode": {
    "name": "ipython",
    "version": 3
   },
   "file_extension": ".py",
   "mimetype": "text/x-python",
   "name": "python",
   "nbconvert_exporter": "python",
   "pygments_lexer": "ipython3",
   "version": "3.9.4"
  }
 },
 "nbformat": 4,
 "nbformat_minor": 5
}
