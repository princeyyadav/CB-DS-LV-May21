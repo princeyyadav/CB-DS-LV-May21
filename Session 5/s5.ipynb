{
 "metadata": {
  "language_info": {
   "codemirror_mode": {
    "name": "ipython",
    "version": 3
   },
   "file_extension": ".py",
   "mimetype": "text/x-python",
   "name": "python",
   "nbconvert_exporter": "python",
   "pygments_lexer": "ipython3",
   "version": "3.9.4"
  },
  "orig_nbformat": 2,
  "kernelspec": {
   "name": "python394jvsc74a57bd0d62006d1f3422635846181a997a61e8ec3049f797e5d7dfe0cd1bb84092b7c19",
   "display_name": "Python 3.9.4 64-bit"
  },
  "metadata": {
   "interpreter": {
    "hash": "d62006d1f3422635846181a997a61e8ec3049f797e5d7dfe0cd1bb84092b7c19"
   }
  }
 },
 "nbformat": 4,
 "nbformat_minor": 2,
 "cells": [
  {
   "source": [
    "## Patterns"
   ],
   "cell_type": "markdown",
   "metadata": {}
  },
  {
   "source": [
    "## 1. n = 11\n",
    "```\n",
    "* * * * * * * * * * * \n",
    "* * * * * * * * * * * \n",
    "* * * * * * * * * * * \n",
    "* * * * * * * * * * * \n",
    "* * * * * * * * * * * \n",
    "* * * * * * * * * * * \n",
    "* * * * * * * * * * * \n",
    "* * * * * * * * * * * \n",
    "* * * * * * * * * * * \n",
    "* * * * * * * * * * * \n",
    "* * * * * * * * * * *\n",
    "```"
   ],
   "cell_type": "markdown",
   "metadata": {}
  },
  {
   "cell_type": "code",
   "execution_count": 1,
   "metadata": {},
   "outputs": [
    {
     "output_type": "stream",
     "name": "stdout",
     "text": [
      "* * * * * * * * * * * \n* * * * * * * * * * * \n* * * * * * * * * * * \n* * * * * * * * * * * \n* * * * * * * * * * * \n* * * * * * * * * * * \n* * * * * * * * * * * \n* * * * * * * * * * * \n* * * * * * * * * * * \n* * * * * * * * * * * \n* * * * * * * * * * * \n"
     ]
    }
   ],
   "source": [
    "n = 11\n",
    "for i in range(n):\n",
    "    for j in range(n):\n",
    "        print(\"*\", end=\" \")\n",
    "    print()"
   ]
  },
  {
   "source": [
    "### 2. n = 5\n",
    "```\n",
    "*\n",
    "* *\n",
    "* * *\n",
    "* * * *\n",
    "* * * * *\n",
    "```"
   ],
   "cell_type": "markdown",
   "metadata": {}
  },
  {
   "cell_type": "code",
   "execution_count": 3,
   "metadata": {},
   "outputs": [
    {
     "output_type": "stream",
     "name": "stdout",
     "text": [
      "* \n* * \n* * * \n* * * * \n* * * * * \n* * * * * * \n"
     ]
    }
   ],
   "source": [
    "n = 6\n",
    "for i in range(n):\n",
    "    for j in range(i+1):\n",
    "        print(\"*\", end=\" \")\n",
    "    print()"
   ]
  },
  {
   "source": [
    "### 3. n = 5\n",
    "```\n",
    "        *\n",
    "      * *\n",
    "    * * *\n",
    "  * * * *\n",
    "* * * * *\n",
    "```"
   ],
   "cell_type": "markdown",
   "metadata": {}
  },
  {
   "cell_type": "code",
   "execution_count": 5,
   "metadata": {},
   "outputs": [
    {
     "output_type": "stream",
     "name": "stdout",
     "text": [
      "        * \n      * * \n    * * * \n  * * * * \n* * * * * \n"
     ]
    }
   ],
   "source": [
    "n=5\n",
    "\n",
    "for i in range(n):\n",
    "    # print spaces\n",
    "    for j in range(n-i-1):\n",
    "        print(\" \", end=\" \")\n",
    "\n",
    "    # print stars\n",
    "    for j in range(i+1):\n",
    "        print(\"*\", end=\" \")\n",
    "    print()"
   ]
  },
  {
   "cell_type": "code",
   "execution_count": 7,
   "metadata": {},
   "outputs": [
    {
     "output_type": "stream",
     "name": "stdout",
     "text": [
      "        * \n      * * \n    * * * \n  * * * * \n* * * * * \n"
     ]
    }
   ],
   "source": [
    "num_spaces = n-1\n",
    "num_stars = 1\n",
    "\n",
    "for i in range(n):\n",
    "    # print spaces\n",
    "    for j in range(num_spaces):\n",
    "        print(\" \", end=\" \")\n",
    "    # print stars\n",
    "    for j in range(num_stars):\n",
    "        print(\"*\", end= \" \")\n",
    "    # next row\n",
    "    print()\n",
    "    num_spaces = num_spaces - 1\n",
    "    num_stars += 1 # num_stars = num_stars-1\n"
   ]
  },
  {
   "cell_type": "code",
   "execution_count": 9,
   "metadata": {},
   "outputs": [
    {
     "output_type": "stream",
     "name": "stdout",
     "text": [
      "        * \n      * * \n    * * * \n  * * * * \n* * * * * \n"
     ]
    }
   ],
   "source": [
    "n = 5\n",
    "for i in range(n):\n",
    "    for j in range(n):\n",
    "        # figure out the condition for which u have to print *\n",
    "        if j>=n-1-i:\n",
    "            print(\"*\", end=\" \")\n",
    "        else:\n",
    "            print(\" \", end=\" \")\n",
    "    print()"
   ]
  },
  {
   "source": [
    "### 4. n = 8\n",
    "```\n",
    "* * * * * * * * \n",
    "  * * * * * * * \n",
    "    * * * * * * \n",
    "      * * * * * \n",
    "        * * * * \n",
    "          * * * \n",
    "            * * \n",
    "              *\n",
    "```"
   ],
   "cell_type": "markdown",
   "metadata": {}
  },
  {
   "cell_type": "code",
   "execution_count": 10,
   "metadata": {},
   "outputs": [
    {
     "output_type": "stream",
     "name": "stdout",
     "text": [
      "* * * * * * * * \n  * * * * * * * \n    * * * * * * \n      * * * * * \n        * * * * \n          * * * \n            * * \n              * \n"
     ]
    }
   ],
   "source": [
    "n = 8\n",
    "for i in range(n):\n",
    "    # print spaces\n",
    "    for j in range(i):\n",
    "        print(\" \", end=\" \")\n",
    "    # print stars\n",
    "    for j in range(n-i):\n",
    "        print(\"*\", end=\" \")\n",
    "    print()"
   ]
  },
  {
   "cell_type": "code",
   "execution_count": 12,
   "metadata": {},
   "outputs": [
    {
     "output_type": "stream",
     "name": "stdout",
     "text": [
      "* * * * * * * * \n  * * * * * * * \n    * * * * * * \n      * * * * * \n        * * * * \n          * * * \n            * * \n              * \n"
     ]
    }
   ],
   "source": [
    "for i in range(n):\n",
    "    for j in range(n):\n",
    "        if j>=i:\n",
    "            print(\"*\", end=\" \")\n",
    "        else:\n",
    "            print(\" \", end=\" \")\n",
    "    print()"
   ]
  },
  {
   "source": [
    "### 5. n = 8\n",
    "``` \n",
    "* * * * * * * * \n",
    "* * * * * * *   \n",
    "* * * * * *     \n",
    "* * * * *       \n",
    "* * * *         \n",
    "* * *           \n",
    "* *             \n",
    "* \n",
    "```"
   ],
   "cell_type": "markdown",
   "metadata": {}
  },
  {
   "cell_type": "code",
   "execution_count": 13,
   "metadata": {},
   "outputs": [
    {
     "output_type": "stream",
     "name": "stdout",
     "text": [
      "* * * * * * * * \n* * * * * * * \n* * * * * * \n* * * * * \n* * * * \n* * * \n* * \n* \n"
     ]
    }
   ],
   "source": [
    "for i in range(n):\n",
    "    for j in range(n-i):\n",
    "        print(\"*\", end=\" \")\n",
    "    print()"
   ]
  },
  {
   "cell_type": "code",
   "execution_count": 15,
   "metadata": {},
   "outputs": [
    {
     "output_type": "stream",
     "name": "stdout",
     "text": [
      "* * * * * * * * \n* * * * * * *   \n* * * * * *     \n* * * * *       \n* * * *         \n* * *           \n* *             \n*               \n"
     ]
    }
   ],
   "source": [
    "for i in range(n):\n",
    "    for j in range(n):\n",
    "        if j <= n-i-1:\n",
    "            print(\"*\", end=\" \")\n",
    "        else:\n",
    "            print(\" \", end=\" \")\n",
    "    print()"
   ]
  },
  {
   "source": [
    "### 6. n = 11 (odd)\n",
    "```\n",
    "*         * * * * * * \n",
    "*         *           \n",
    "*         *           \n",
    "*         *           \n",
    "*         *           \n",
    "* * * * * * * * * * * \n",
    "          *         * \n",
    "          *         * \n",
    "          *         * \n",
    "          *         * \n",
    "* * * * * *         *\n",
    "```"
   ],
   "cell_type": "markdown",
   "metadata": {}
  },
  {
   "cell_type": "code",
   "execution_count": 28,
   "metadata": {},
   "outputs": [
    {
     "output_type": "stream",
     "name": "stdout",
     "text": [
      "*         * * * * * * \n*         *           \n*         *           \n*         *           \n*         *           \n* * * * * * * * * * * \n          *         * \n          *         * \n          *         * \n          *         * \n* * * * * *         * \n"
     ]
    }
   ],
   "source": [
    "n = 11\n",
    "for i in range(n):\n",
    "    for j in range(n):\n",
    "        if i==n//2 or j==n//2 or (j==0 and i<n//2) or (j==n-1 and i>n//2) or (i==0 and j>n//2) or (i==n-1 and j<n//2):\n",
    "            print(\"*\", end=\" \")\n",
    "        else:\n",
    "            print(\" \", end=\" \")\n",
    "    print()"
   ]
  },
  {
   "cell_type": "code",
   "execution_count": 46,
   "metadata": {},
   "outputs": [
    {
     "output_type": "stream",
     "name": "stdout",
     "text": [
      "5, 5.5\n"
     ]
    }
   ],
   "source": [
    "print(11//2, 11/2, sep=\", \")"
   ]
  },
  {
   "source": [
    "### 7. n = 8 (H.W.)\n",
    "```\n",
    "* * * * * * * * \n",
    "*             * \n",
    "*             * \n",
    "*             * \n",
    "*             * \n",
    "*             * \n",
    "*             * \n",
    "* * * * * * * * \n",
    "```"
   ],
   "cell_type": "markdown",
   "metadata": {}
  },
  {
   "cell_type": "code",
   "execution_count": null,
   "metadata": {},
   "outputs": [],
   "source": []
  },
  {
   "source": [
    "### 8. n = 9 (H.W.)\n",
    "```\n",
    "* * * * * * * * * \n",
    "* *     *     * * \n",
    "*   *   *   *   * \n",
    "*     * * *     * \n",
    "* * * * * * * * * \n",
    "*     * * *     * \n",
    "*   *   *   *   * \n",
    "* *     *     * * \n",
    "* * * * * * * * *\n",
    "```"
   ],
   "cell_type": "markdown",
   "metadata": {}
  },
  {
   "cell_type": "code",
   "execution_count": 31,
   "metadata": {},
   "outputs": [
    {
     "output_type": "stream",
     "name": "stdout",
     "text": [
      "*                   * \n  *               *   \n    *           *     \n      *       *       \n        *   *         \n          *           \n        *   *         \n      *       *       \n    *           *     \n  *               *   \n*                   * \n"
     ]
    }
   ],
   "source": [
    "for i in range(n):\n",
    "    for j in range(n):\n",
    "        if i==j or j==n-i-1:\n",
    "            print(\"*\", end=\" \")\n",
    "        else:\n",
    "            print(\" \", end=\" \")\n",
    "    print()"
   ]
  },
  {
   "source": [
    "### 9. n = 5 (Try)\n",
    "``` \n",
    "5 5 5 5 5\n",
    "5 4 4 4 5\n",
    "5 4 3 4 5\n",
    "5 4 4 4 5\n",
    "5 5 5 5 5\n",
    "```"
   ],
   "cell_type": "markdown",
   "metadata": {}
  },
  {
   "cell_type": "code",
   "execution_count": null,
   "metadata": {},
   "outputs": [],
   "source": []
  },
  {
   "source": [
    "## Scope"
   ],
   "cell_type": "markdown",
   "metadata": {}
  },
  {
   "cell_type": "code",
   "execution_count": 32,
   "metadata": {},
   "outputs": [
    {
     "output_type": "stream",
     "name": "stdout",
     "text": [
      "40\n40\n"
     ]
    }
   ],
   "source": [
    "x = 40 # global\n",
    "def func():\n",
    "    print(x)\n",
    "\n",
    "print(x)\n",
    "func()"
   ]
  },
  {
   "cell_type": "code",
   "execution_count": 34,
   "metadata": {},
   "outputs": [
    {
     "output_type": "stream",
     "name": "stdout",
     "text": [
      "40\n30 10\n40\n"
     ]
    },
    {
     "output_type": "error",
     "ename": "NameError",
     "evalue": "name 'y' is not defined",
     "traceback": [
      "\u001b[1;31m---------------------------------------------------------------------------\u001b[0m",
      "\u001b[1;31mNameError\u001b[0m                                 Traceback (most recent call last)",
      "\u001b[1;32m<ipython-input-34-185a5fe68b1f>\u001b[0m in \u001b[0;36m<module>\u001b[1;34m\u001b[0m\n\u001b[0;32m      8\u001b[0m \u001b[0mfunc\u001b[0m\u001b[1;33m(\u001b[0m\u001b[1;33m)\u001b[0m\u001b[1;33m\u001b[0m\u001b[1;33m\u001b[0m\u001b[0m\n\u001b[0;32m      9\u001b[0m \u001b[0mprint\u001b[0m\u001b[1;33m(\u001b[0m\u001b[0mx\u001b[0m\u001b[1;33m)\u001b[0m\u001b[1;33m\u001b[0m\u001b[1;33m\u001b[0m\u001b[0m\n\u001b[1;32m---> 10\u001b[1;33m \u001b[0mprint\u001b[0m\u001b[1;33m(\u001b[0m\u001b[0my\u001b[0m\u001b[1;33m)\u001b[0m\u001b[1;33m\u001b[0m\u001b[1;33m\u001b[0m\u001b[0m\n\u001b[0m",
      "\u001b[1;31mNameError\u001b[0m: name 'y' is not defined"
     ]
    }
   ],
   "source": [
    "x = 40 # global\n",
    "def func():\n",
    "    x = 30 # local\n",
    "    y = 10 # local\n",
    "    print(x, y)\n",
    "\n",
    "print(x) # global  \n",
    "func()\n",
    "print(x) # global\n",
    "print(y) # nameerror that y has not been defined in global scope"
   ]
  },
  {
   "cell_type": "code",
   "execution_count": 36,
   "metadata": {},
   "outputs": [
    {
     "output_type": "stream",
     "name": "stdout",
     "text": [
      "10\n30\n"
     ]
    }
   ],
   "source": [
    "x = 10\n",
    "def func():\n",
    "    x = 30 # local\n",
    "    \n",
    "    def func2():\n",
    "        x = 40\n",
    "        print(x)\n",
    "    \n",
    "    print(x) # local\n",
    "\n",
    "print(x) # global\n",
    "func()"
   ]
  },
  {
   "cell_type": "code",
   "execution_count": 37,
   "metadata": {},
   "outputs": [
    {
     "output_type": "stream",
     "name": "stdout",
     "text": [
      "10\n40\n30\n"
     ]
    }
   ],
   "source": [
    "x = 10\n",
    "def func():\n",
    "    x = 30 # local to func\n",
    "    \n",
    "    def func2():\n",
    "        x = 40 # local to func2\n",
    "        print(x)\n",
    "    \n",
    "    func2()\n",
    "    print(x) # local to func\n",
    "\n",
    "print(x) # global\n",
    "func()"
   ]
  },
  {
   "cell_type": "code",
   "execution_count": 38,
   "metadata": {},
   "outputs": [
    {
     "output_type": "stream",
     "name": "stdout",
     "text": [
      "10\n20\n20\n"
     ]
    }
   ],
   "source": [
    "x = 10 # global\n",
    "\n",
    "def func1():\n",
    "    x = 20\n",
    "\n",
    "    def func2():\n",
    "        print(x)\n",
    "\n",
    "    func2()\n",
    "    print(x)\n",
    "\n",
    "print(x) # global\n",
    "func1()"
   ]
  },
  {
   "cell_type": "code",
   "execution_count": 39,
   "metadata": {},
   "outputs": [
    {
     "output_type": "stream",
     "name": "stdout",
     "text": [
      "10\n30\n20\n"
     ]
    }
   ],
   "source": [
    "x = 10 # global\n",
    "\n",
    "def func1():\n",
    "    x = 20\n",
    "\n",
    "    def func2():\n",
    "        x = 30\n",
    "        print(x)\n",
    "\n",
    "    func2()\n",
    "    print(x) \n",
    "\n",
    "print(x) # global\n",
    "func1()"
   ]
  },
  {
   "cell_type": "code",
   "execution_count": 40,
   "metadata": {},
   "outputs": [
    {
     "output_type": "stream",
     "name": "stdout",
     "text": [
      "10\n30\n30\n"
     ]
    }
   ],
   "source": [
    "x = 10 # global\n",
    "\n",
    "def func1():\n",
    "    x = 20\n",
    "\n",
    "    def func2():\n",
    "        nonlocal x\n",
    "        x = 30 # this modifies my x which is local to func1\n",
    "        print(x)\n",
    "\n",
    "    func2()\n",
    "    print(x) \n",
    "\n",
    "print(x) # global\n",
    "func1()"
   ]
  },
  {
   "cell_type": "code",
   "execution_count": 35,
   "metadata": {},
   "outputs": [
    {
     "output_type": "stream",
     "name": "stdout",
     "text": [
      "20\n10\n10\n"
     ]
    }
   ],
   "source": [
    "# changing the value of global variable from inside a function\n",
    "\n",
    "x = 20 # global\n",
    "\n",
    "def func():\n",
    "    global x \n",
    "    x = 10\n",
    "    print(x)\n",
    "\n",
    "print(x)\n",
    "func()\n",
    "print(x)"
   ]
  },
  {
   "cell_type": "code",
   "execution_count": 43,
   "metadata": {},
   "outputs": [
    {
     "output_type": "error",
     "ename": "SyntaxError",
     "evalue": "name 'x' is used prior to global declaration (<ipython-input-43-de8e651ecc01>, line 5)",
     "traceback": [
      "\u001b[1;36m  File \u001b[1;32m\"<ipython-input-43-de8e651ecc01>\"\u001b[1;36m, line \u001b[1;32m5\u001b[0m\n\u001b[1;33m    global x\u001b[0m\n\u001b[1;37m    ^\u001b[0m\n\u001b[1;31mSyntaxError\u001b[0m\u001b[1;31m:\u001b[0m name 'x' is used prior to global declaration\n"
     ]
    }
   ],
   "source": [
    "x = 40\n",
    "\n",
    "def func1():\n",
    "    print(x)\n",
    "    global x\n",
    "    x = 50\n",
    "\n",
    "func1()\n",
    "print(x)"
   ]
  },
  {
   "cell_type": "code",
   "execution_count": 44,
   "metadata": {},
   "outputs": [
    {
     "output_type": "error",
     "ename": "UnboundLocalError",
     "evalue": "local variable 'x' referenced before assignment",
     "traceback": [
      "\u001b[1;31m---------------------------------------------------------------------------\u001b[0m",
      "\u001b[1;31mUnboundLocalError\u001b[0m                         Traceback (most recent call last)",
      "\u001b[1;32m<ipython-input-44-364831698dba>\u001b[0m in \u001b[0;36m<module>\u001b[1;34m\u001b[0m\n\u001b[0;32m      6\u001b[0m     \u001b[0mprint\u001b[0m\u001b[1;33m(\u001b[0m\u001b[0mx\u001b[0m\u001b[1;33m)\u001b[0m\u001b[1;33m\u001b[0m\u001b[1;33m\u001b[0m\u001b[0m\n\u001b[0;32m      7\u001b[0m \u001b[1;33m\u001b[0m\u001b[0m\n\u001b[1;32m----> 8\u001b[1;33m \u001b[0mfunc1\u001b[0m\u001b[1;33m(\u001b[0m\u001b[1;33m)\u001b[0m\u001b[1;33m\u001b[0m\u001b[1;33m\u001b[0m\u001b[0m\n\u001b[0m\u001b[0;32m      9\u001b[0m \u001b[0mprint\u001b[0m\u001b[1;33m(\u001b[0m\u001b[0mx\u001b[0m\u001b[1;33m)\u001b[0m\u001b[1;33m\u001b[0m\u001b[1;33m\u001b[0m\u001b[0m\n",
      "\u001b[1;32m<ipython-input-44-364831698dba>\u001b[0m in \u001b[0;36mfunc1\u001b[1;34m()\u001b[0m\n\u001b[0;32m      2\u001b[0m \u001b[1;33m\u001b[0m\u001b[0m\n\u001b[0;32m      3\u001b[0m \u001b[1;32mdef\u001b[0m \u001b[0mfunc1\u001b[0m\u001b[1;33m(\u001b[0m\u001b[1;33m)\u001b[0m\u001b[1;33m:\u001b[0m\u001b[1;33m\u001b[0m\u001b[1;33m\u001b[0m\u001b[0m\n\u001b[1;32m----> 4\u001b[1;33m     \u001b[0mprint\u001b[0m\u001b[1;33m(\u001b[0m\u001b[0mx\u001b[0m\u001b[1;33m)\u001b[0m\u001b[1;33m\u001b[0m\u001b[1;33m\u001b[0m\u001b[0m\n\u001b[0m\u001b[0;32m      5\u001b[0m     \u001b[0mx\u001b[0m \u001b[1;33m=\u001b[0m \u001b[1;36m50\u001b[0m\u001b[1;33m\u001b[0m\u001b[1;33m\u001b[0m\u001b[0m\n\u001b[0;32m      6\u001b[0m     \u001b[0mprint\u001b[0m\u001b[1;33m(\u001b[0m\u001b[0mx\u001b[0m\u001b[1;33m)\u001b[0m\u001b[1;33m\u001b[0m\u001b[1;33m\u001b[0m\u001b[0m\n",
      "\u001b[1;31mUnboundLocalError\u001b[0m: local variable 'x' referenced before assignment"
     ]
    }
   ],
   "source": [
    "x = 40\n",
    "\n",
    "def func1():\n",
    "    print(x)\n",
    "    x = 50 \n",
    "    print(x)\n",
    "\n",
    "func1()\n",
    "print(x)"
   ]
  }
 ]
}