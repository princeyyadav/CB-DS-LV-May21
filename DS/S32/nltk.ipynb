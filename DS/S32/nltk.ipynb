{
 "cells": [
  {
   "cell_type": "code",
   "execution_count": null,
   "source": [],
   "outputs": [],
   "metadata": {}
  },
  {
   "cell_type": "code",
   "execution_count": null,
   "source": [
    "## Installation\r\n",
    "# !pip install nltk"
   ],
   "outputs": [],
   "metadata": {}
  },
  {
   "cell_type": "code",
   "execution_count": 1,
   "source": [
    "import nltk"
   ],
   "outputs": [],
   "metadata": {}
  },
  {
   "cell_type": "code",
   "execution_count": 4,
   "source": [
    "nltk.download()\r\n",
    "# nltk.download(\"brown\")"
   ],
   "outputs": [
    {
     "output_type": "stream",
     "name": "stdout",
     "text": [
      "showing info https://raw.githubusercontent.com/nltk/nltk_data/gh-pages/index.xml\n"
     ]
    },
    {
     "output_type": "execute_result",
     "data": {
      "text/plain": [
       "True"
      ]
     },
     "metadata": {},
     "execution_count": 4
    }
   ],
   "metadata": {}
  },
  {
   "cell_type": "code",
   "execution_count": 3,
   "source": [
    "## LOAD the data\r\n",
    "from nltk.corpus import brown"
   ],
   "outputs": [],
   "metadata": {}
  },
  {
   "cell_type": "code",
   "execution_count": 6,
   "source": [
    "print(brown.categories())\r\n",
    "print(len(brown.categories()))"
   ],
   "outputs": [
    {
     "output_type": "stream",
     "name": "stdout",
     "text": [
      "['adventure', 'belles_lettres', 'editorial', 'fiction', 'government', 'hobbies', 'humor', 'learned', 'lore', 'mystery', 'news', 'religion', 'reviews', 'romance', 'science_fiction']\n",
      "15\n"
     ]
    }
   ],
   "metadata": {}
  },
  {
   "cell_type": "code",
   "execution_count": 10,
   "source": [
    "brown.words(categories=\"adventure\")\r\n",
    "print(len(brown.words(categories=\"news\")))\r\n",
    "print(brown.words(categories=\"news\")[:10])"
   ],
   "outputs": [
    {
     "output_type": "stream",
     "name": "stdout",
     "text": [
      "100554\n",
      "['The', 'Fulton', 'County', 'Grand', 'Jury', 'said', 'Friday', 'an', 'investigation', 'of']\n"
     ]
    }
   ],
   "metadata": {}
  },
  {
   "cell_type": "code",
   "execution_count": 11,
   "source": [
    "words = brown.words(categories=\"news\")\r\n",
    "words"
   ],
   "outputs": [
    {
     "output_type": "execute_result",
     "data": {
      "text/plain": [
       "['The', 'Fulton', 'County', 'Grand', 'Jury', 'said', ...]"
      ]
     },
     "metadata": {},
     "execution_count": 11
    }
   ],
   "metadata": {}
  },
  {
   "cell_type": "code",
   "execution_count": 13,
   "source": [
    "for i, cat in enumerate(brown.categories()):\r\n",
    "    # print the no. of sentences, no. of words\r\n",
    "    print(str(i+1)+\".\", cat, len(brown.sents(categories=cat)), len(brown.words(categories=cat)) )"
   ],
   "outputs": [
    {
     "output_type": "stream",
     "name": "stdout",
     "text": [
      "1. adventure 4637 69342\n",
      "2. belles_lettres 7209 173096\n",
      "3. editorial 2997 61604\n",
      "4. fiction 4249 68488\n",
      "5. government 3032 70117\n",
      "6. hobbies 4193 82345\n",
      "7. humor 1053 21695\n",
      "8. learned 7734 181888\n",
      "9. lore 4881 110299\n",
      "10. mystery 3886 57169\n",
      "11. news 4623 100554\n",
      "12. religion 1716 39399\n",
      "13. reviews 1751 40704\n",
      "14. romance 4431 70022\n",
      "15. science_fiction 948 14470\n"
     ]
    }
   ],
   "metadata": {}
  },
  {
   "cell_type": "markdown",
   "source": [
    "##  Tokenization"
   ],
   "metadata": {}
  },
  {
   "cell_type": "code",
   "execution_count": 14,
   "source": [
    "from nltk.tokenize import word_tokenize, sent_tokenize, RegexpTokenizer"
   ],
   "outputs": [],
   "metadata": {}
  },
  {
   "cell_type": "code",
   "execution_count": 15,
   "source": [
    "text = \"\"\" The Brown Corpus is a convenient resource for studying systematic differences between genres, a kind of linguistic inquiry known as stylistics. Let's compare genres in their usage of modal verbs. The first step is to produce the counts for a particular genre. Remember to import nltk before doing the following:\"\"\""
   ],
   "outputs": [],
   "metadata": {}
  },
  {
   "cell_type": "code",
   "execution_count": 17,
   "source": [
    "sentences = sent_tokenize(text)\r\n",
    "for sentence in sentences:\r\n",
    "    print(sentence)"
   ],
   "outputs": [
    {
     "output_type": "stream",
     "name": "stdout",
     "text": [
      " The Brown Corpus is a convenient resource for studying systematic differences between genres, a kind of linguistic inquiry known as stylistics.\n",
      "Let's compare genres in their usage of modal verbs.\n",
      "The first step is to produce the counts for a particular genre.\n",
      "Remember to import nltk before doing the following:\n"
     ]
    }
   ],
   "metadata": {}
  },
  {
   "cell_type": "code",
   "execution_count": 18,
   "source": [
    "words = word_tokenize(text)\r\n",
    "print(words)"
   ],
   "outputs": [
    {
     "output_type": "stream",
     "name": "stdout",
     "text": [
      "['The', 'Brown', 'Corpus', 'is', 'a', 'convenient', 'resource', 'for', 'studying', 'systematic', 'differences', 'between', 'genres', ',', 'a', 'kind', 'of', 'linguistic', 'inquiry', 'known', 'as', 'stylistics', '.', 'Let', \"'s\", 'compare', 'genres', 'in', 'their', 'usage', 'of', 'modal', 'verbs', '.', 'The', 'first', 'step', 'is', 'to', 'produce', 'the', 'counts', 'for', 'a', 'particular', 'genre', '.', 'Remember', 'to', 'import', 'nltk', 'before', 'doing', 'the', 'following', ':']\n"
     ]
    }
   ],
   "metadata": {}
  },
  {
   "cell_type": "code",
   "execution_count": 20,
   "source": [
    "for word in text.split(\" \"):\r\n",
    "    print(word, end=\", \")"
   ],
   "outputs": [
    {
     "output_type": "stream",
     "name": "stdout",
     "text": [
      ", The, Brown, Corpus, is, a, convenient, resource, for, studying, systematic, differences, between, genres,, a, kind, of, linguistic, inquiry, known, as, stylistics., Let's, compare, genres, in, their, usage, of, modal, verbs., The, first, step, is, to, produce, the, counts, for, a, particular, genre., Remember, to, import, nltk, before, doing, the, following:, "
     ]
    }
   ],
   "metadata": {}
  },
  {
   "cell_type": "code",
   "execution_count": 22,
   "source": [
    "regex = RegexpTokenizer(pattern=\"[a-zA-Z]+\")\r\n",
    "print(regex.tokenize(text))"
   ],
   "outputs": [
    {
     "output_type": "stream",
     "name": "stdout",
     "text": [
      "['The', 'Brown', 'Corpus', 'is', 'a', 'convenient', 'resource', 'for', 'studying', 'systematic', 'differences', 'between', 'genres', 'a', 'kind', 'of', 'linguistic', 'inquiry', 'known', 'as', 'stylistics', 'Let', 's', 'compare', 'genres', 'in', 'their', 'usage', 'of', 'modal', 'verbs', 'The', 'first', 'step', 'is', 'to', 'produce', 'the', 'counts', 'for', 'a', 'particular', 'genre', 'Remember', 'to', 'import', 'nltk', 'before', 'doing', 'the', 'following']\n"
     ]
    }
   ],
   "metadata": {}
  },
  {
   "cell_type": "code",
   "execution_count": 30,
   "source": [
    "print(len(words))\r\n",
    "words = set(regex.tokenize(text))\r\n",
    "print(len(words))\r\n",
    "words = list(words)\r\n",
    "print(words)"
   ],
   "outputs": [
    {
     "output_type": "stream",
     "name": "stdout",
     "text": [
      "42\n",
      "42\n",
      "['a', 'Brown', 'of', 'verbs', 'import', 'usage', 'nltk', 'following', 'inquiry', 'convenient', 'first', 'Corpus', 'counts', 'studying', 'resource', 'in', 'to', 'The', 'kind', 'compare', 'their', 'Let', 'step', 'particular', 'stylistics', 'genres', 'doing', 'as', 'modal', 'between', 'genre', 'Remember', 'known', 'is', 'produce', 'before', 'differences', 'systematic', 'the', 'linguistic', 's', 'for']\n"
     ]
    }
   ],
   "metadata": {}
  },
  {
   "cell_type": "markdown",
   "source": [
    "## Removal of Stopwords"
   ],
   "metadata": {}
  },
  {
   "cell_type": "code",
   "execution_count": 25,
   "source": [
    "from nltk.corpus import stopwords"
   ],
   "outputs": [],
   "metadata": {}
  },
  {
   "cell_type": "code",
   "execution_count": 26,
   "source": [
    "print(stopwords.words(\"english\"))"
   ],
   "outputs": [
    {
     "output_type": "stream",
     "name": "stdout",
     "text": [
      "['i', 'me', 'my', 'myself', 'we', 'our', 'ours', 'ourselves', 'you', \"you're\", \"you've\", \"you'll\", \"you'd\", 'your', 'yours', 'yourself', 'yourselves', 'he', 'him', 'his', 'himself', 'she', \"she's\", 'her', 'hers', 'herself', 'it', \"it's\", 'its', 'itself', 'they', 'them', 'their', 'theirs', 'themselves', 'what', 'which', 'who', 'whom', 'this', 'that', \"that'll\", 'these', 'those', 'am', 'is', 'are', 'was', 'were', 'be', 'been', 'being', 'have', 'has', 'had', 'having', 'do', 'does', 'did', 'doing', 'a', 'an', 'the', 'and', 'but', 'if', 'or', 'because', 'as', 'until', 'while', 'of', 'at', 'by', 'for', 'with', 'about', 'against', 'between', 'into', 'through', 'during', 'before', 'after', 'above', 'below', 'to', 'from', 'up', 'down', 'in', 'out', 'on', 'off', 'over', 'under', 'again', 'further', 'then', 'once', 'here', 'there', 'when', 'where', 'why', 'how', 'all', 'any', 'both', 'each', 'few', 'more', 'most', 'other', 'some', 'such', 'no', 'nor', 'not', 'only', 'own', 'same', 'so', 'than', 'too', 'very', 's', 't', 'can', 'will', 'just', 'don', \"don't\", 'should', \"should've\", 'now', 'd', 'll', 'm', 'o', 're', 've', 'y', 'ain', 'aren', \"aren't\", 'couldn', \"couldn't\", 'didn', \"didn't\", 'doesn', \"doesn't\", 'hadn', \"hadn't\", 'hasn', \"hasn't\", 'haven', \"haven't\", 'isn', \"isn't\", 'ma', 'mightn', \"mightn't\", 'mustn', \"mustn't\", 'needn', \"needn't\", 'shan', \"shan't\", 'shouldn', \"shouldn't\", 'wasn', \"wasn't\", 'weren', \"weren't\", 'won', \"won't\", 'wouldn', \"wouldn't\"]\n"
     ]
    }
   ],
   "metadata": {}
  },
  {
   "cell_type": "code",
   "execution_count": 27,
   "source": [
    "print(stopwords.words(\"french\"))"
   ],
   "outputs": [
    {
     "output_type": "stream",
     "name": "stdout",
     "text": [
      "['au', 'aux', 'avec', 'ce', 'ces', 'dans', 'de', 'des', 'du', 'elle', 'en', 'et', 'eux', 'il', 'ils', 'je', 'la', 'le', 'les', 'leur', 'lui', 'ma', 'mais', 'me', 'même', 'mes', 'moi', 'mon', 'ne', 'nos', 'notre', 'nous', 'on', 'ou', 'par', 'pas', 'pour', 'qu', 'que', 'qui', 'sa', 'se', 'ses', 'son', 'sur', 'ta', 'te', 'tes', 'toi', 'ton', 'tu', 'un', 'une', 'vos', 'votre', 'vous', 'c', 'd', 'j', 'l', 'à', 'm', 'n', 's', 't', 'y', 'été', 'étée', 'étées', 'étés', 'étant', 'étante', 'étants', 'étantes', 'suis', 'es', 'est', 'sommes', 'êtes', 'sont', 'serai', 'seras', 'sera', 'serons', 'serez', 'seront', 'serais', 'serait', 'serions', 'seriez', 'seraient', 'étais', 'était', 'étions', 'étiez', 'étaient', 'fus', 'fut', 'fûmes', 'fûtes', 'furent', 'sois', 'soit', 'soyons', 'soyez', 'soient', 'fusse', 'fusses', 'fût', 'fussions', 'fussiez', 'fussent', 'ayant', 'ayante', 'ayantes', 'ayants', 'eu', 'eue', 'eues', 'eus', 'ai', 'as', 'avons', 'avez', 'ont', 'aurai', 'auras', 'aura', 'aurons', 'aurez', 'auront', 'aurais', 'aurait', 'aurions', 'auriez', 'auraient', 'avais', 'avait', 'avions', 'aviez', 'avaient', 'eut', 'eûmes', 'eûtes', 'eurent', 'aie', 'aies', 'ait', 'ayons', 'ayez', 'aient', 'eusse', 'eusses', 'eût', 'eussions', 'eussiez', 'eussent']\n"
     ]
    }
   ],
   "metadata": {}
  },
  {
   "cell_type": "code",
   "execution_count": 28,
   "source": [
    "stop_words = stopwords.words(\"english\")\r\n",
    "print(len(stop_words))"
   ],
   "outputs": [
    {
     "output_type": "stream",
     "name": "stdout",
     "text": [
      "179\n"
     ]
    }
   ],
   "metadata": {}
  },
  {
   "cell_type": "code",
   "execution_count": 33,
   "source": [
    "s = \"PriNcey\"\r\n",
    "print(s.lower())"
   ],
   "outputs": [
    {
     "output_type": "stream",
     "name": "stdout",
     "text": [
      "princey\n"
     ]
    }
   ],
   "metadata": {}
  },
  {
   "cell_type": "code",
   "execution_count": 35,
   "source": [
    "def remove_stopwords(words, sw):\r\n",
    "    useful_words = []\r\n",
    "    for word in words:\r\n",
    "        if word.lower() not in sw:\r\n",
    "            useful_words.append(word.lower())\r\n",
    "    return useful_words\r\n",
    "\r\n",
    "useful_words = remove_stopwords(words, stop_words)\r\n",
    "print(useful_words)\r\n",
    "print(len(useful_words))"
   ],
   "outputs": [
    {
     "output_type": "stream",
     "name": "stdout",
     "text": [
      "['brown', 'verbs', 'import', 'usage', 'nltk', 'following', 'inquiry', 'convenient', 'first', 'corpus', 'counts', 'studying', 'resource', 'kind', 'compare', 'let', 'step', 'particular', 'stylistics', 'genres', 'modal', 'genre', 'remember', 'known', 'produce', 'differences', 'systematic', 'linguistic']\n",
      "28\n"
     ]
    }
   ],
   "metadata": {}
  },
  {
   "cell_type": "markdown",
   "source": [
    "## Stemming, Lemmatization"
   ],
   "metadata": {}
  },
  {
   "cell_type": "code",
   "execution_count": 36,
   "source": [
    "from nltk.stem import PorterStemmer, SnowballStemmer, LancasterStemmer"
   ],
   "outputs": [],
   "metadata": {}
  },
  {
   "cell_type": "code",
   "execution_count": 37,
   "source": [
    "ps = PorterStemmer()"
   ],
   "outputs": [],
   "metadata": {}
  },
  {
   "cell_type": "code",
   "execution_count": 49,
   "source": [
    "ps.stem(\"establishment\")"
   ],
   "outputs": [
    {
     "output_type": "execute_result",
     "data": {
      "text/plain": [
       "'establish'"
      ]
     },
     "metadata": {},
     "execution_count": 49
    }
   ],
   "metadata": {}
  },
  {
   "cell_type": "code",
   "execution_count": 56,
   "source": [
    "def stemming(words, stemmer):\r\n",
    "    w = []\r\n",
    "    for word in words:\r\n",
    "        w.append(stemmer.stem(word))\r\n",
    "    return w\r\n",
    "\r\n",
    "stemmedwords = stemming(useful_words, ps) # PorterStemmer\r\n",
    "print(stemmedwords)"
   ],
   "outputs": [
    {
     "output_type": "stream",
     "name": "stdout",
     "text": [
      "['brown', 'verb', 'import', 'usag', 'nltk', 'follow', 'inquiri', 'conveni', 'first', 'corpu', 'count', 'studi', 'resourc', 'kind', 'compar', 'let', 'step', 'particular', 'stylist', 'genr', 'modal', 'genr', 'rememb', 'known', 'produc', 'differ', 'systemat', 'linguist']\n"
     ]
    }
   ],
   "metadata": {}
  },
  {
   "cell_type": "code",
   "execution_count": 55,
   "source": [
    "snow_stemmer = SnowballStemmer(\"english\")\r\n",
    "stemmedwords = stemming(useful_words, snow_stemmer) # PorterStemmer\r\n",
    "print(stemmedwords)"
   ],
   "outputs": [
    {
     "output_type": "stream",
     "name": "stdout",
     "text": [
      "['brown', 'verb', 'import', 'usag', 'nltk', 'follow', 'inquiri', 'conveni', 'first', 'corpus', 'count', 'studi', 'resourc', 'kind', 'compar', 'let', 'step', 'particular', 'stylist', 'genr', 'modal', 'genr', 'rememb', 'known', 'produc', 'differ', 'systemat', 'linguist']\n"
     ]
    }
   ],
   "metadata": {}
  },
  {
   "cell_type": "code",
   "execution_count": 54,
   "source": [
    "ls = LancasterStemmer()\r\n",
    "stemmedwords = stemming(useful_words, ls) # LancasterStemmer\r\n",
    "print(stemmedwords)"
   ],
   "outputs": [
    {
     "output_type": "stream",
     "name": "stdout",
     "text": [
      "['brown', 'verb', 'import', 'us', 'nltk', 'follow', 'inquiry', 'conveny', 'first', 'corp', 'count', 'study', 'resourc', 'kind', 'comp', 'let', 'step', 'particul', 'styl', 'genr', 'mod', 'genr', 'rememb', 'known', 'produc', 'diff', 'system', 'lingu']\n"
     ]
    }
   ],
   "metadata": {}
  },
  {
   "cell_type": "code",
   "execution_count": 57,
   "source": [
    "# get unique words\r\n",
    "vocab = list(set(stemmedwords)) \r\n",
    "print(vocab)"
   ],
   "outputs": [
    {
     "output_type": "stream",
     "name": "stdout",
     "text": [
      "['let', 'verb', 'inquiri', 'corpu', 'import', 'nltk', 'stylist', 'first', 'studi', 'kind', 'linguist', 'brown', 'step', 'particular', 'usag', 'conveni', 'modal', 'produc', 'genr', 'known', 'follow', 'rememb', 'compar', 'differ', 'systemat', 'resourc', 'count']\n"
     ]
    }
   ],
   "metadata": {}
  },
  {
   "cell_type": "markdown",
   "source": [
    "## Vectorization"
   ],
   "metadata": {}
  },
  {
   "cell_type": "code",
   "execution_count": 58,
   "source": [
    "from sklearn.feature_extraction.text import CountVectorizer, TfidfVectorizer"
   ],
   "outputs": [],
   "metadata": {}
  },
  {
   "cell_type": "code",
   "execution_count": 59,
   "source": [
    "text"
   ],
   "outputs": [
    {
     "output_type": "execute_result",
     "data": {
      "text/plain": [
       "\" The Brown Corpus is a convenient resource for studying systematic differences between genres, a kind of linguistic inquiry known as stylistics. Let's compare genres in their usage of modal verbs. The first step is to produce the counts for a particular genre. Remember to import nltk before doing the following:\""
      ]
     },
     "metadata": {},
     "execution_count": 59
    }
   ],
   "metadata": {}
  },
  {
   "cell_type": "code",
   "execution_count": 66,
   "source": [
    "cv = CountVectorizer()"
   ],
   "outputs": [],
   "metadata": {}
  },
  {
   "cell_type": "code",
   "execution_count": 73,
   "source": [
    "vectorized_text = cv.fit_transform([text]).toarray()[0] # count of each word\r\n",
    "print(vectorized_text)"
   ],
   "outputs": [
    {
     "output_type": "stream",
     "name": "stdout",
     "text": [
      "[1 1 1 1 1 1 1 1 1 1 1 1 2 1 2 1 1 1 2 1 1 1 1 1 1 2 1 1 1 1 1 1 1 1 4 1 2\n",
      " 1 1]\n"
     ]
    }
   ],
   "metadata": {}
  },
  {
   "cell_type": "code",
   "execution_count": 71,
   "source": [
    "print(cv.vocabulary_)"
   ],
   "outputs": [
    {
     "output_type": "stream",
     "name": "stdout",
     "text": [
      "{'the': 34, 'brown': 3, 'corpus': 6, 'is': 18, 'convenient': 5, 'resource': 29, 'for': 12, 'studying': 31, 'systematic': 33, 'differences': 8, 'between': 2, 'genres': 14, 'kind': 19, 'of': 25, 'linguistic': 22, 'inquiry': 17, 'known': 20, 'as': 0, 'stylistics': 32, 'let': 21, 'compare': 4, 'in': 16, 'their': 35, 'usage': 37, 'modal': 23, 'verbs': 38, 'first': 10, 'step': 30, 'to': 36, 'produce': 27, 'counts': 7, 'particular': 26, 'genre': 13, 'remember': 28, 'import': 15, 'nltk': 24, 'before': 1, 'doing': 9, 'following': 11}\n"
     ]
    }
   ],
   "metadata": {}
  },
  {
   "cell_type": "code",
   "execution_count": 72,
   "source": [
    "len(cv.vocabulary_)"
   ],
   "outputs": [
    {
     "output_type": "execute_result",
     "data": {
      "text/plain": [
       "39"
      ]
     },
     "metadata": {},
     "execution_count": 72
    }
   ],
   "metadata": {}
  },
  {
   "cell_type": "code",
   "execution_count": 74,
   "source": [
    "for key, ix in cv.vocabulary_.items():\r\n",
    "    print(key, \"->\", vectorized_text[ix])"
   ],
   "outputs": [
    {
     "output_type": "stream",
     "name": "stdout",
     "text": [
      "the -> 4\n",
      "brown -> 1\n",
      "corpus -> 1\n",
      "is -> 2\n",
      "convenient -> 1\n",
      "resource -> 1\n",
      "for -> 2\n",
      "studying -> 1\n",
      "systematic -> 1\n",
      "differences -> 1\n",
      "between -> 1\n",
      "genres -> 2\n",
      "kind -> 1\n",
      "of -> 2\n",
      "linguistic -> 1\n",
      "inquiry -> 1\n",
      "known -> 1\n",
      "as -> 1\n",
      "stylistics -> 1\n",
      "let -> 1\n",
      "compare -> 1\n",
      "in -> 1\n",
      "their -> 1\n",
      "usage -> 1\n",
      "modal -> 1\n",
      "verbs -> 1\n",
      "first -> 1\n",
      "step -> 1\n",
      "to -> 2\n",
      "produce -> 1\n",
      "counts -> 1\n",
      "particular -> 1\n",
      "genre -> 1\n",
      "remember -> 1\n",
      "import -> 1\n",
      "nltk -> 1\n",
      "before -> 1\n",
      "doing -> 1\n",
      "following -> 1\n"
     ]
    }
   ],
   "metadata": {}
  },
  {
   "cell_type": "code",
   "execution_count": 76,
   "source": [
    "vocab_dict = {}\r\n",
    "for ix, word in enumerate(vocab):\r\n",
    "    vocab_dict[word] = ix\r\n",
    "print(vocab_dict)"
   ],
   "outputs": [
    {
     "output_type": "stream",
     "name": "stdout",
     "text": [
      "{'let': 0, 'verb': 1, 'inquiri': 2, 'corpu': 3, 'import': 4, 'nltk': 5, 'stylist': 6, 'first': 7, 'studi': 8, 'kind': 9, 'linguist': 10, 'brown': 11, 'step': 12, 'particular': 13, 'usag': 14, 'conveni': 15, 'modal': 16, 'produc': 17, 'genr': 18, 'known': 19, 'follow': 20, 'rememb': 21, 'compar': 22, 'differ': 23, 'systemat': 24, 'resourc': 25, 'count': 26}\n"
     ]
    }
   ],
   "metadata": {}
  },
  {
   "cell_type": "code",
   "execution_count": 83,
   "source": [
    "cv2 = CountVectorizer(token_pattern=\"[a-zA-Z]+\", stop_words=stop_words, vocabulary=vocab_dict)"
   ],
   "outputs": [],
   "metadata": {}
  },
  {
   "cell_type": "code",
   "execution_count": 85,
   "source": [
    "cv2.transform([text]).toarray()"
   ],
   "outputs": [
    {
     "output_type": "execute_result",
     "data": {
      "text/plain": [
       "array([[1, 0, 0, 0, 1, 1, 0, 1, 0, 1, 0, 1, 1, 1, 0, 0, 1, 0, 0, 1, 0, 0,\n",
       "        0, 0, 0, 0, 0]], dtype=int64)"
      ]
     },
     "metadata": {},
     "execution_count": 85
    }
   ],
   "metadata": {}
  },
  {
   "cell_type": "code",
   "execution_count": 87,
   "source": [
    "def stemming(text, stemmer):\r\n",
    "    words = word_tokenize(text)\r\n",
    "    print(words)\r\n",
    "    stw = []\r\n",
    "    for word in words:\r\n",
    "        stw.append(stemmer.stem(word))\r\n",
    "    s = \" \".join(stw)\r\n",
    "    print(s)\r\n",
    "    return s\r\n",
    "\r\n",
    "stemmed_text = stemming(text, ps)\r\n"
   ],
   "outputs": [
    {
     "output_type": "stream",
     "name": "stdout",
     "text": [
      "['The', 'Brown', 'Corpus', 'is', 'a', 'convenient', 'resource', 'for', 'studying', 'systematic', 'differences', 'between', 'genres', ',', 'a', 'kind', 'of', 'linguistic', 'inquiry', 'known', 'as', 'stylistics', '.', 'Let', \"'s\", 'compare', 'genres', 'in', 'their', 'usage', 'of', 'modal', 'verbs', '.', 'The', 'first', 'step', 'is', 'to', 'produce', 'the', 'counts', 'for', 'a', 'particular', 'genre', '.', 'Remember', 'to', 'import', 'nltk', 'before', 'doing', 'the', 'following', ':']\n",
      "the brown corpu is a conveni resourc for studi systemat differ between genr , a kind of linguist inquiri known as stylist . let 's compar genr in their usag of modal verb . the first step is to produc the count for a particular genr . rememb to import nltk befor do the follow :\n"
     ]
    }
   ],
   "metadata": {}
  },
  {
   "cell_type": "code",
   "execution_count": 89,
   "source": [
    "vectorized_text2 = cv2.transform([stemmed_text]).toarray()"
   ],
   "outputs": [],
   "metadata": {}
  },
  {
   "cell_type": "code",
   "execution_count": 90,
   "source": [
    "vectorized_text2"
   ],
   "outputs": [
    {
     "output_type": "execute_result",
     "data": {
      "text/plain": [
       "array([[1, 1, 1, 1, 1, 1, 1, 1, 1, 1, 1, 1, 1, 1, 1, 1, 1, 1, 3, 1, 1, 1,\n",
       "        1, 1, 1, 1, 1]], dtype=int64)"
      ]
     },
     "metadata": {},
     "execution_count": 90
    }
   ],
   "metadata": {}
  },
  {
   "cell_type": "code",
   "execution_count": 92,
   "source": [
    "for key, ix in cv2.vocabulary_.items():\r\n",
    "    for vector in vectorized_text2:\r\n",
    "        print(key, \"->\", vector[ix], end=\", \")"
   ],
   "outputs": [
    {
     "output_type": "stream",
     "name": "stdout",
     "text": [
      "let -> 1, verb -> 1, inquiri -> 1, corpu -> 1, import -> 1, nltk -> 1, stylist -> 1, first -> 1, studi -> 1, kind -> 1, linguist -> 1, brown -> 1, step -> 1, particular -> 1, usag -> 1, conveni -> 1, modal -> 1, produc -> 1, genr -> 3, known -> 1, follow -> 1, rememb -> 1, compar -> 1, differ -> 1, systemat -> 1, resourc -> 1, count -> 1, "
     ]
    }
   ],
   "metadata": {}
  },
  {
   "cell_type": "code",
   "execution_count": 94,
   "source": [
    "tfidf = TfidfVectorizer()\r\n",
    "tfidf.fit([text])"
   ],
   "outputs": [
    {
     "output_type": "execute_result",
     "data": {
      "text/plain": [
       "TfidfVectorizer()"
      ]
     },
     "metadata": {},
     "execution_count": 94
    }
   ],
   "metadata": {}
  },
  {
   "cell_type": "code",
   "execution_count": 98,
   "source": [
    "tfidf.transform([text, text[:20]]).toarray()"
   ],
   "outputs": [
    {
     "output_type": "execute_result",
     "data": {
      "text/plain": [
       "array([[0.12038585, 0.12038585, 0.12038585, 0.12038585, 0.12038585,\n",
       "        0.12038585, 0.12038585, 0.12038585, 0.12038585, 0.12038585,\n",
       "        0.12038585, 0.12038585, 0.24077171, 0.12038585, 0.24077171,\n",
       "        0.12038585, 0.12038585, 0.12038585, 0.24077171, 0.12038585,\n",
       "        0.12038585, 0.12038585, 0.12038585, 0.12038585, 0.12038585,\n",
       "        0.24077171, 0.12038585, 0.12038585, 0.12038585, 0.12038585,\n",
       "        0.12038585, 0.12038585, 0.12038585, 0.12038585, 0.48154341,\n",
       "        0.12038585, 0.24077171, 0.12038585, 0.12038585],\n",
       "       [0.        , 0.        , 0.        , 0.5       , 0.        ,\n",
       "        0.        , 0.5       , 0.        , 0.        , 0.        ,\n",
       "        0.        , 0.        , 0.        , 0.        , 0.        ,\n",
       "        0.        , 0.        , 0.        , 0.5       , 0.        ,\n",
       "        0.        , 0.        , 0.        , 0.        , 0.        ,\n",
       "        0.        , 0.        , 0.        , 0.        , 0.        ,\n",
       "        0.        , 0.        , 0.        , 0.        , 0.5       ,\n",
       "        0.        , 0.        , 0.        , 0.        ]])"
      ]
     },
     "metadata": {},
     "execution_count": 98
    }
   ],
   "metadata": {}
  },
  {
   "cell_type": "code",
   "execution_count": 97,
   "source": [
    "vectorized_text"
   ],
   "outputs": [
    {
     "output_type": "execute_result",
     "data": {
      "text/plain": [
       "array([1, 1, 1, 1, 1, 1, 1, 1, 1, 1, 1, 1, 2, 1, 2, 1, 1, 1, 2, 1, 1, 1,\n",
       "       1, 1, 1, 2, 1, 1, 1, 1, 1, 1, 1, 1, 4, 1, 2, 1, 1], dtype=int64)"
      ]
     },
     "metadata": {},
     "execution_count": 97
    }
   ],
   "metadata": {}
  },
  {
   "cell_type": "code",
   "execution_count": null,
   "source": [
    "cv = CountVectorizer()"
   ],
   "outputs": [],
   "metadata": {}
  },
  {
   "cell_type": "code",
   "execution_count": 106,
   "source": [
    "cv = CountVectorizer(ngram_range=(2, 2), token_pattern=\"[a-zA-Z]+\")\r\n",
    "print(cv.fit_transform([\"I like this movie a lot.\"]).toarray())\r\n",
    "print(cv.transform([\"I like this movie a lot.\", \"I didn't like movie\"]).toarray())\r\n",
    "print(cv.vocabulary_)"
   ],
   "outputs": [
    {
     "output_type": "stream",
     "name": "stdout",
     "text": [
      "[[1 1 1 1 1]]\n",
      "[[1 1 1 1 1]\n",
      " [0 0 0 0 0]]\n",
      "{'i like': 1, 'like this': 2, 'this movie': 4, 'movie a': 3, 'a lot': 0}\n"
     ]
    }
   ],
   "metadata": {}
  },
  {
   "cell_type": "code",
   "execution_count": 108,
   "source": [
    "cv = CountVectorizer(ngram_range=(1, 3), token_pattern=\"[a-zA-Z]+\")\r\n",
    "print(cv.fit_transform([\"I like this movie a lot.\"]).toarray())\r\n",
    "print(cv.transform([\"I like this movie a lot.\", \"I didn't like movie\"]).toarray())\r\n",
    "print(cv.vocabulary_)"
   ],
   "outputs": [
    {
     "output_type": "stream",
     "name": "stdout",
     "text": [
      "[[1 1 1 1 1 1 1 1 1 1 1 1 1 1 1]]\n",
      "[[1 1 1 1 1 1 1 1 1 1 1 1 1 1 1]\n",
      " [0 0 1 0 0 1 0 0 0 1 0 0 0 0 0]]\n",
      "{'i': 2, 'like': 5, 'this': 12, 'movie': 9, 'a': 0, 'lot': 8, 'i like': 3, 'like this': 6, 'this movie': 13, 'movie a': 10, 'a lot': 1, 'i like this': 4, 'like this movie': 7, 'this movie a': 14, 'movie a lot': 11}\n"
     ]
    }
   ],
   "metadata": {}
  },
  {
   "cell_type": "code",
   "execution_count": null,
   "source": [],
   "outputs": [],
   "metadata": {}
  }
 ],
 "metadata": {
  "orig_nbformat": 4,
  "language_info": {
   "name": "python",
   "version": "3.9.4",
   "mimetype": "text/x-python",
   "codemirror_mode": {
    "name": "ipython",
    "version": 3
   },
   "pygments_lexer": "ipython3",
   "nbconvert_exporter": "python",
   "file_extension": ".py"
  },
  "kernelspec": {
   "name": "python3",
   "display_name": "Python 3.9.4 64-bit"
  },
  "interpreter": {
   "hash": "d62006d1f3422635846181a997a61e8ec3049f797e5d7dfe0cd1bb84092b7c19"
  }
 },
 "nbformat": 4,
 "nbformat_minor": 2
}