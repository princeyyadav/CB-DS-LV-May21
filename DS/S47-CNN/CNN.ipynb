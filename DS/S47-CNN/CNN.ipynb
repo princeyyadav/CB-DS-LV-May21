{
 "cells": [
  {
   "cell_type": "code",
   "execution_count": 1,
   "id": "5a4490b6",
   "metadata": {},
   "outputs": [],
   "source": [
    "import numpy as np"
   ]
  },
  {
   "cell_type": "code",
   "execution_count": 96,
   "id": "33b35f53",
   "metadata": {},
   "outputs": [],
   "source": [
    "def _rotate(inp):\n",
    "    return np.flip(inp, axis=(0,1))\n",
    "    \n",
    "def _convolution_op(inp, kernel, stride=1):\n",
    "    # inp shape -> 4 dim\n",
    "    assert len(inp.shape)==4, f\"No. of dim in inp not equal to 4, got {inp.shape}\"\n",
    "    # no. of chanels in kernel and that in inp it should be same\n",
    "    assert inp.shape[-1] == kernel.shape[-1], f\"Mismatch in no. of channels in inp and kernel, got inp {inp.shape[-1]}, kernel {kernel.shape[-1]}\"\n",
    "    # non-square kernels are not allowed\n",
    "    assert kernel.shape[0] == kernel.shape[1], f\"dim 0 of kernel doesn't match dim 1, got {kernel.shape}\"\n",
    "    # inp shape square\n",
    "    assert inp.shape[1] == inp.shape[2], f\"Inp map dim 1 != dim 2, got {inp.shape}\"\n",
    "    \n",
    "    # flip the kernel\n",
    "    kernel = _rotate(kernel)\n",
    "    \n",
    "    oup = []\n",
    "    start_rloc = 0\n",
    "    end_rloc = kernel.shape[0]\n",
    "    while end_rloc <= inp.shape[1]:\n",
    "        output = []\n",
    "        start_cloc = 0\n",
    "        end_cloc = kernel.shape[1]\n",
    "        while end_cloc <= inp.shape[2]:\n",
    "            conv = (inp[:,start_rloc:end_rloc, start_cloc:end_cloc]*kernel).sum(axis=(1,2,3))\n",
    "            output.append(conv)\n",
    "            \n",
    "            start_cloc += stride\n",
    "            end_cloc += stride\n",
    "        oup.append(output)\n",
    "        start_rloc += stride\n",
    "        end_rloc += stride\n",
    "    return np.moveaxis(oup, -1, 0)\n",
    "        \n",
    "def _pad(inp, pad_width):   \n",
    "    assert inp.shape[1] == inp.shape[2], f\"Inp map dim 1 != dim 2, got {inp.shape}\"\n",
    "    return np.pad(inp, ((0,0), (pad_width,pad_width), (pad_width,pad_width), (0,0)))\n",
    "\n",
    "def _inside_pad(inp, pad_width):\n",
    "    assert inp.shape[1] == inp.shape[2], f\"Inp map dim 1 != dim 2, got {inp.shape}\"\n",
    "    ix = np.repeat(np.arange(1, inp.shape[1]), pad_width)\n",
    "    inp = np.insert(inp, ix, 0, axis=1)\n",
    "    return np.insert(inp, ix, 0, axis=2)\n"
   ]
  },
  {
   "cell_type": "code",
   "execution_count": null,
   "id": "cc178451",
   "metadata": {},
   "outputs": [],
   "source": []
  }
 ],
 "metadata": {
  "kernelspec": {
   "display_name": "Python 3",
   "language": "python",
   "name": "python3"
  },
  "language_info": {
   "codemirror_mode": {
    "name": "ipython",
    "version": 3
   },
   "file_extension": ".py",
   "mimetype": "text/x-python",
   "name": "python",
   "nbconvert_exporter": "python",
   "pygments_lexer": "ipython3",
   "version": "3.9.4"
  }
 },
 "nbformat": 4,
 "nbformat_minor": 5
}
