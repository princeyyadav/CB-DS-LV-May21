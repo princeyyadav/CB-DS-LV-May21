{
 "metadata": {
  "language_info": {
   "codemirror_mode": {
    "name": "ipython",
    "version": 3
   },
   "file_extension": ".py",
   "mimetype": "text/x-python",
   "name": "python",
   "nbconvert_exporter": "python",
   "pygments_lexer": "ipython3",
   "version": "3.9.4"
  },
  "orig_nbformat": 2,
  "kernelspec": {
   "name": "python394jvsc74a57bd0d62006d1f3422635846181a997a61e8ec3049f797e5d7dfe0cd1bb84092b7c19",
   "display_name": "Python 3.9.4 64-bit"
  },
  "metadata": {
   "interpreter": {
    "hash": "d62006d1f3422635846181a997a61e8ec3049f797e5d7dfe0cd1bb84092b7c19"
   }
  }
 },
 "nbformat": 4,
 "nbformat_minor": 2,
 "cells": [
  {
   "cell_type": "code",
   "execution_count": 9,
   "metadata": {},
   "outputs": [
    {
     "output_type": "stream",
     "name": "stdout",
     "text": [
      "1 \n1 2 \n1 2 3 \n1 2 3 4 \n"
     ]
    }
   ],
   "source": [
    "1\n",
    "12\n",
    "123\n",
    "1234\n",
    "n = 4\n",
    "for i in range(n):\n",
    "    for j in range(i+1):\n",
    "        print(j+1, end=\" \")\n",
    "    print()"
   ]
  },
  {
   "source": [
    "## File Handling"
   ],
   "cell_type": "markdown",
   "metadata": {}
  },
  {
   "cell_type": "code",
   "execution_count": 10,
   "metadata": {},
   "outputs": [
    {
     "output_type": "stream",
     "name": "stdout",
     "text": [
      "<class '_io.TextIOWrapper'>\n"
     ]
    }
   ],
   "source": [
    "# open  the file\n",
    "# Mode:\n",
    "# read: \"r\"\n",
    "# write: \"w\"\n",
    "# append: \"a\"\n",
    "f = open(\"myfile.txt\", \"r\")\n",
    "print(type(f))"
   ]
  },
  {
   "cell_type": "code",
   "execution_count": 17,
   "metadata": {},
   "outputs": [
    {
     "output_type": "stream",
     "name": "stdout",
     "text": [
      "<class 'str'>\nThis is statement 1\nThis is statement 2\nThis is statement 3\n\n"
     ]
    }
   ],
   "source": [
    "# to read the content\n",
    "f = open(\"myfile.txt\", \"r\")\n",
    "content = f.read()\n",
    "print(type(content))\n",
    "print(content)\n",
    "f.close()"
   ]
  },
  {
   "cell_type": "code",
   "execution_count": 18,
   "metadata": {},
   "outputs": [
    {
     "output_type": "stream",
     "name": "stdout",
     "text": [
      "This is statement 1\n\n"
     ]
    }
   ],
   "source": [
    "f = open(\"myfile.txt\", \"r\")\n",
    "first_line = f.readline()\n",
    "print(first_line)"
   ]
  },
  {
   "cell_type": "code",
   "execution_count": 19,
   "metadata": {},
   "outputs": [
    {
     "output_type": "stream",
     "name": "stdout",
     "text": [
      "This is statement 2\n\n"
     ]
    }
   ],
   "source": [
    "line = f.readline()\n",
    "print(line)"
   ]
  },
  {
   "cell_type": "code",
   "execution_count": 20,
   "metadata": {},
   "outputs": [
    {
     "output_type": "stream",
     "name": "stdout",
     "text": [
      "This is statement 3\n\n"
     ]
    }
   ],
   "source": [
    "line = f.readline()\n",
    "print(line)"
   ]
  },
  {
   "cell_type": "code",
   "execution_count": 24,
   "metadata": {},
   "outputs": [
    {
     "output_type": "stream",
     "name": "stdout",
     "text": [
      "\n"
     ]
    }
   ],
   "source": [
    "line = f.readline()\n",
    "print(line)\n",
    "f.close()"
   ]
  },
  {
   "cell_type": "code",
   "execution_count": 25,
   "metadata": {},
   "outputs": [
    {
     "output_type": "stream",
     "name": "stdout",
     "text": [
      "tatement 1\nThis is statement 2\nThis is statement 3\n\n"
     ]
    }
   ],
   "source": [
    "f = open(\"myfile.txt\", \"r\")\n",
    "f.seek(9)\n",
    "content = f.read()\n",
    "print(content)"
   ]
  },
  {
   "cell_type": "code",
   "execution_count": 38,
   "metadata": {},
   "outputs": [
    {
     "output_type": "stream",
     "name": "stdout",
     "text": [
      "This is statement 1\n\n"
     ]
    }
   ],
   "source": [
    "f.seek(0)\n",
    "print(f.readline())"
   ]
  },
  {
   "cell_type": "code",
   "execution_count": 54,
   "metadata": {},
   "outputs": [
    {
     "output_type": "stream",
     "name": "stdout",
     "text": [
      "b'This is statement 1\\r\\nThis is statement 2\\r\\nThis is statement 3\\r\\n'\n"
     ]
    }
   ],
   "source": [
    "f = open(\"myfile.txt\", \"rb\")\n",
    "\n",
    "print(f.read())"
   ]
  },
  {
   "cell_type": "code",
   "execution_count": 57,
   "metadata": {},
   "outputs": [
    {
     "output_type": "stream",
     "name": "stdout",
     "text": [
      "b'ement 2\\r\\n'\n"
     ]
    }
   ],
   "source": [
    "f.seek(-30, 2)\n",
    "print(f.readline())"
   ]
  },
  {
   "cell_type": "code",
   "execution_count": 58,
   "metadata": {},
   "outputs": [
    {
     "output_type": "stream",
     "name": "stdout",
     "text": [
      "b'tement 2\\r\\n'\n"
     ]
    }
   ],
   "source": [
    "f.seek(-10, 1)\n",
    "print(f.readline())"
   ]
  },
  {
   "cell_type": "code",
   "execution_count": 60,
   "metadata": {},
   "outputs": [],
   "source": [
    "f.close()"
   ]
  },
  {
   "cell_type": "code",
   "execution_count": 61,
   "metadata": {},
   "outputs": [
    {
     "output_type": "execute_result",
     "data": {
      "text/plain": [
       "28"
      ]
     },
     "metadata": {},
     "execution_count": 61
    }
   ],
   "source": [
    "f = open(\"demo.txt\", \"w\")\n",
    "f.write(\"This is an example statement\")"
   ]
  },
  {
   "cell_type": "code",
   "execution_count": 62,
   "metadata": {},
   "outputs": [],
   "source": [
    "f.close()"
   ]
  },
  {
   "cell_type": "code",
   "execution_count": 63,
   "metadata": {},
   "outputs": [],
   "source": [
    "f = open(\"demo.txt\", \"w\")\n",
    "f.write(\"This is new statement.\")\n",
    "f.close()"
   ]
  },
  {
   "cell_type": "code",
   "execution_count": 64,
   "metadata": {},
   "outputs": [],
   "source": [
    "f = open(\"demo.txt\", \"a\")\n",
    "f.write(\"This is another statement.\")\n",
    "f.close()"
   ]
  },
  {
   "cell_type": "code",
   "execution_count": 65,
   "metadata": {},
   "outputs": [],
   "source": [
    "f = open(\"demo.txt\", \"a\")\n",
    "f.write(\"\\nThis is another statement.\\n\")\n",
    "f.close()"
   ]
  },
  {
   "cell_type": "code",
   "execution_count": 71,
   "metadata": {},
   "outputs": [],
   "source": [
    "names = [\"Ankit\", \"Harsh\", \"Suchi\"]\n",
    "age = [10, 10, 12]\n",
    "gender = [\"m\", \"m\", \"f\"]\n",
    "\n",
    "with open(\"file1.txt\", \"w\") as f:\n",
    "    f.write(\"Names, Age, Gender,\\n\")\n",
    "    for i in range(len(names)):\n",
    "        f.write(f\"{names[i]}, {age[i]}, {gender[i]}\"+\"\\n\")\n"
   ]
  },
  {
   "source": [
    "## Error Handling"
   ],
   "cell_type": "markdown",
   "metadata": {}
  },
  {
   "cell_type": "code",
   "execution_count": 76,
   "metadata": {},
   "outputs": [
    {
     "output_type": "stream",
     "name": "stdout",
     "text": [
      "Some error occurred!\n"
     ]
    }
   ],
   "source": [
    "a = int(input())\n",
    "b = int(input())\n",
    "\n",
    "try:\n",
    "    ans = a/b\n",
    "    print(ans)\n",
    "except:\n",
    "    print(\"Some error occurred!\")"
   ]
  },
  {
   "cell_type": "code",
   "execution_count": 83,
   "metadata": {},
   "outputs": [
    {
     "output_type": "stream",
     "name": "stdout",
     "text": [
      "Enter integer values only.\n"
     ]
    }
   ],
   "source": [
    "a = input()\n",
    "b = input()\n",
    "\n",
    "try:\n",
    "    ans = int(a)/int(b)\n",
    "    print(ans)\n",
    "except ZeroDivisionError:\n",
    "    print(\"Please enter a non zero value for the second number\")\n",
    "\n",
    "except ValueError:\n",
    "    print(\"Enter integer values only.\")\n",
    "except:\n",
    "    print(\"Some error occured!\")"
   ]
  },
  {
   "cell_type": "code",
   "execution_count": 85,
   "metadata": {},
   "outputs": [
    {
     "output_type": "stream",
     "name": "stdout",
     "text": [
      "Please enter a non zero value for the second number\nAlways gets executed irrespectiveof error came or not\n"
     ]
    }
   ],
   "source": [
    "a = input()\n",
    "b = input()\n",
    "try:\n",
    "    ans = int(a)/int(b)\n",
    "    print(ans)\n",
    "except ZeroDivisionError:\n",
    "    print(\"Please enter a non zero value for the second number\")\n",
    "except ValueError:\n",
    "    print(\"Enter integer values only.\")\n",
    "except:\n",
    "    print(\"Some error occured!\")\n",
    "finally:\n",
    "    print(\"Always gets executed irrespectiveof error came or not\")"
   ]
  },
  {
   "source": [
    "# OOP"
   ],
   "cell_type": "markdown",
   "metadata": {}
  },
  {
   "cell_type": "code",
   "execution_count": 105,
   "metadata": {},
   "outputs": [],
   "source": [
    "class Dog:\n",
    "\n",
    "    # class variable\n",
    "    num_of_legs = 4\n",
    "\n",
    "    # constructor\n",
    "    def __init__(self, name, age, breed):\n",
    "        self.name = name # instance variable\n",
    "        self.age = age\n",
    "        self.breed = breed\n",
    "\n",
    "    def bark(self):\n",
    "        print(f\"{self.name} barks\")"
   ]
  },
  {
   "cell_type": "code",
   "execution_count": 106,
   "metadata": {},
   "outputs": [
    {
     "output_type": "stream",
     "name": "stdout",
     "text": [
      "<__main__.Dog object at 0x000001EAA82C8FD0>\n<__main__.Dog object at 0x000001EAA82C85B0>\n"
     ]
    }
   ],
   "source": [
    "# Instantiate a class/ creating objects of a class\n",
    "d1 = Dog(\"Tyson\", 4, \"GS\")\n",
    "print(d1)\n",
    "\n",
    "d2 = Dog(\"Spike\", 3, \"Labrador\")\n",
    "print(d2)"
   ]
  },
  {
   "cell_type": "code",
   "execution_count": 107,
   "metadata": {},
   "outputs": [
    {
     "output_type": "stream",
     "name": "stdout",
     "text": [
      "Spike 3 Labrador\nTyson 4 GS\n"
     ]
    }
   ],
   "source": [
    "print(d2.name, d2.age, d2.breed)\n",
    "print(d1.name, d1.age, d1.breed)\n"
   ]
  },
  {
   "cell_type": "code",
   "execution_count": 102,
   "metadata": {},
   "outputs": [
    {
     "output_type": "stream",
     "name": "stdout",
     "text": [
      "German Shepherd\n"
     ]
    }
   ],
   "source": [
    "d1.breed = \"German Shepherd\"\n",
    "print(d1.breed)"
   ]
  },
  {
   "cell_type": "code",
   "execution_count": 108,
   "metadata": {},
   "outputs": [
    {
     "output_type": "stream",
     "name": "stdout",
     "text": [
      "Tyson barks\n"
     ]
    }
   ],
   "source": [
    "d1.bark()"
   ]
  },
  {
   "cell_type": "code",
   "execution_count": 111,
   "metadata": {},
   "outputs": [
    {
     "output_type": "stream",
     "name": "stdout",
     "text": [
      "4\n4\n4\n"
     ]
    }
   ],
   "source": [
    "print(d1.num_of_legs)\n",
    "print(d2.num_of_legs)\n",
    "print(Dog.num_of_legs)"
   ]
  },
  {
   "source": [
    "## Inheritance"
   ],
   "cell_type": "markdown",
   "metadata": {}
  },
  {
   "cell_type": "code",
   "execution_count": 142,
   "metadata": {},
   "outputs": [],
   "source": [
    "class Shape:\n",
    "\n",
    "    def __init__(self, side):\n",
    "        print(\"Shape class constructor\")\n",
    "        self.side = side\n",
    "\n",
    "    def display_attributes(self):\n",
    "        return f\"side: {self.side}, area: {self.get_area()}\"\n",
    "    \n",
    "\n",
    "class Circle(Shape):\n",
    "\n",
    "    def __init__(self, side):\n",
    "        print(\"Circle constructor\")\n",
    "        # super().__init__(side)\n",
    "        Shape.__init__(self, side)\n",
    "        self.area = self.get_area()\n",
    "\n",
    "\n",
    "    def get_area(self):\n",
    "        return 3.14*(self.side**2)\n",
    "\n",
    "class Square(Shape):\n",
    "\n",
    "    def get_area(self):\n",
    "        return self.side**2\n",
    "\n",
    "class Rectangle(Shape):\n",
    "\n",
    "    def __init__(self, length, breadth):\n",
    "        self.length = length\n",
    "        self.breadth = breadth\n",
    "\n",
    "    def get_area(self):\n",
    "        return self.length*self.breadth\n",
    "\n",
    "    def display_attributes(self):\n",
    "\n",
    "        print(\"inside rectangle's display_attribute\")\n",
    "        return f\"sides: {self.length}, {self.breadth}, area: {self.get_area()}\""
   ]
  },
  {
   "cell_type": "code",
   "execution_count": 143,
   "metadata": {},
   "outputs": [
    {
     "output_type": "stream",
     "name": "stdout",
     "text": [
      "Circle constructor\nShape class constructor\n20 1256.0\n"
     ]
    }
   ],
   "source": [
    "c = Circle(20)\n",
    "\n",
    "print(c.side, c.area)"
   ]
  },
  {
   "cell_type": "code",
   "execution_count": 137,
   "metadata": {},
   "outputs": [
    {
     "output_type": "stream",
     "name": "stdout",
     "text": [
      "10\n314.0\nside: 10, area: 314.0\n\n4\n16\nside: 4, area: 16\n\n12\ninside rectangle's display_attribute\nside: 0, area: 12\n"
     ]
    }
   ],
   "source": [
    "c1 = Circle(10) # Shape class constructor called\n",
    "print(c1.side)\n",
    "print(c1.get_area())\n",
    "print(c1.display_attributes())\n",
    "\n",
    "\n",
    "print()\n",
    "s = Square(4) # base class: (Shape) constructor called\n",
    "print(s.side)\n",
    "print(s.get_area())\n",
    "print(s.display_attributes())\n",
    "\n",
    "\n",
    "print()\n",
    "\n",
    "r = Rectangle(3, 4)\n",
    "print(r.get_area())\n",
    "print(r.display_attributes())\n"
   ]
  },
  {
   "cell_type": "code",
   "execution_count": 144,
   "metadata": {},
   "outputs": [
    {
     "output_type": "execute_result",
     "data": {
      "text/plain": [
       "['__class__',\n",
       " '__delattr__',\n",
       " '__dict__',\n",
       " '__dir__',\n",
       " '__doc__',\n",
       " '__eq__',\n",
       " '__format__',\n",
       " '__ge__',\n",
       " '__getattribute__',\n",
       " '__gt__',\n",
       " '__hash__',\n",
       " '__init__',\n",
       " '__init_subclass__',\n",
       " '__le__',\n",
       " '__lt__',\n",
       " '__module__',\n",
       " '__ne__',\n",
       " '__new__',\n",
       " '__reduce__',\n",
       " '__reduce_ex__',\n",
       " '__repr__',\n",
       " '__setattr__',\n",
       " '__sizeof__',\n",
       " '__str__',\n",
       " '__subclasshook__',\n",
       " '__weakref__',\n",
       " 'area',\n",
       " 'display_attributes',\n",
       " 'get_area',\n",
       " 'side']"
      ]
     },
     "metadata": {},
     "execution_count": 144
    }
   ],
   "source": [
    "dir(c)"
   ]
  }
 ]
}