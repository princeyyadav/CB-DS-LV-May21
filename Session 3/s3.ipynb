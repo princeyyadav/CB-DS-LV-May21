{
 "metadata": {
  "language_info": {
   "codemirror_mode": {
    "name": "ipython",
    "version": 3
   },
   "file_extension": ".py",
   "mimetype": "text/x-python",
   "name": "python",
   "nbconvert_exporter": "python",
   "pygments_lexer": "ipython3",
   "version": "3.9.4"
  },
  "orig_nbformat": 2,
  "kernelspec": {
   "name": "python394jvsc74a57bd0d62006d1f3422635846181a997a61e8ec3049f797e5d7dfe0cd1bb84092b7c19",
   "display_name": "Python 3.9.4 64-bit"
  },
  "metadata": {
   "interpreter": {
    "hash": "d62006d1f3422635846181a997a61e8ec3049f797e5d7dfe0cd1bb84092b7c19"
   }
  }
 },
 "nbformat": 4,
 "nbformat_minor": 2,
 "cells": [
  {
   "cell_type": "code",
   "execution_count": 4,
   "metadata": {},
   "outputs": [
    {
     "output_type": "stream",
     "name": "stdout",
     "text": [
      "hello world\nhello\n\n This is an\nexample of \nmultiline\nstring \n"
     ]
    }
   ],
   "source": [
    "s = 'hello world'\n",
    "print(s)\n",
    "s = \"hello\"\n",
    "print(s)\n",
    "print()\n",
    "\n",
    "s2 = \"\"\" This is an\n",
    "example of \n",
    "multiline\n",
    "string \"\"\"\n",
    "print(s2)"
   ]
  },
  {
   "cell_type": "code",
   "execution_count": 5,
   "metadata": {},
   "outputs": [
    {
     "output_type": "error",
     "ename": "SyntaxError",
     "evalue": "EOL while scanning string literal (<ipython-input-5-7f50e5bd9f92>, line 1)",
     "traceback": [
      "\u001b[1;36m  File \u001b[1;32m\"<ipython-input-5-7f50e5bd9f92>\"\u001b[1;36m, line \u001b[1;32m1\u001b[0m\n\u001b[1;33m    s = 'hello\u001b[0m\n\u001b[1;37m              ^\u001b[0m\n\u001b[1;31mSyntaxError\u001b[0m\u001b[1;31m:\u001b[0m EOL while scanning string literal\n"
     ]
    }
   ],
   "source": [
    "s = 'hello\n",
    "world'\n",
    "print(s)"
   ]
  },
  {
   "cell_type": "code",
   "execution_count": 10,
   "metadata": {},
   "outputs": [
    {
     "output_type": "stream",
     "name": "stdout",
     "text": [
      "h\ne\no\no\n5\n"
     ]
    }
   ],
   "source": [
    "# accessing elements in a string\n",
    "s = \"hello\"\n",
    "print(s[0])\n",
    "print(s[1])\n",
    "print(s[4])\n",
    "\n",
    "print(s[-1])\n",
    "\n",
    "print(len(s))"
   ]
  },
  {
   "cell_type": "code",
   "execution_count": 14,
   "metadata": {},
   "outputs": [
    {
     "output_type": "stream",
     "name": "stdout",
     "text": [
      "google google\nhi hi\n"
     ]
    }
   ],
   "source": [
    "# string slicing\n",
    "s = \"hi google\"\n",
    "print(s[3:], s[3:len(s)])\n",
    "\n",
    "print(s[0:2], s[:2])"
   ]
  },
  {
   "cell_type": "code",
   "execution_count": 15,
   "metadata": {},
   "outputs": [
    {
     "output_type": "stream",
     "name": "stdout",
     "text": [
      "elgoog ih\n"
     ]
    }
   ],
   "source": [
    "# Reversing a string\n",
    "s = \"hi google\"\n",
    "i = len(s) - 1\n",
    "rev_s = \"\"\n",
    "while i >= 0:\n",
    "    rev_s = rev_s + s[i]\n",
    "    i -= 1\n",
    "print(rev_s) "
   ]
  },
  {
   "cell_type": "code",
   "execution_count": 18,
   "metadata": {},
   "outputs": [
    {
     "output_type": "stream",
     "name": "stdout",
     "text": [
      "elgoog ih\n[1, 2, 3, 4, 5]\n[5, 4, 3, 2, 1]\n"
     ]
    }
   ],
   "source": [
    "# reverse your string\n",
    "print(s[::-1])\n",
    "\n",
    "# reverse a list\n",
    "l = [1, 2, 3, 4, 5]\n",
    "print(l)\n",
    "print(l[::-1])"
   ]
  },
  {
   "cell_type": "code",
   "execution_count": 22,
   "metadata": {},
   "outputs": [
    {
     "output_type": "stream",
     "name": "stdout",
     "text": [
      "8\n"
     ]
    },
    {
     "output_type": "execute_result",
     "data": {
      "text/plain": [
       "'eca'"
      ]
     },
     "metadata": {},
     "execution_count": 22
    }
   ],
   "source": [
    "# reverse a subpart of my string (ace)\n",
    "s = \"facebook\"\n",
    "print(len(s))\n",
    "\n",
    "s[3:0:-1]"
   ]
  },
  {
   "cell_type": "code",
   "execution_count": 23,
   "metadata": {},
   "outputs": [
    {
     "output_type": "execute_result",
     "data": {
      "text/plain": [
       "''"
      ]
     },
     "metadata": {},
     "execution_count": 23
    }
   ],
   "source": [
    "s = \"hi\"\n",
    "s[1:1]"
   ]
  },
  {
   "cell_type": "code",
   "execution_count": 25,
   "metadata": {},
   "outputs": [
    {
     "output_type": "error",
     "ename": "TypeError",
     "evalue": "'str' object does not support item assignment",
     "traceback": [
      "\u001b[1;31m---------------------------------------------------------------------------\u001b[0m",
      "\u001b[1;31mTypeError\u001b[0m                                 Traceback (most recent call last)",
      "\u001b[1;32m<ipython-input-25-b91bf108776f>\u001b[0m in \u001b[0;36m<module>\u001b[1;34m\u001b[0m\n\u001b[0;32m      1\u001b[0m \u001b[0ms\u001b[0m \u001b[1;33m=\u001b[0m \u001b[1;34m\"hello\"\u001b[0m\u001b[1;33m\u001b[0m\u001b[1;33m\u001b[0m\u001b[0m\n\u001b[1;32m----> 2\u001b[1;33m \u001b[0ms\u001b[0m\u001b[1;33m[\u001b[0m\u001b[1;36m0\u001b[0m\u001b[1;33m]\u001b[0m \u001b[1;33m=\u001b[0m \u001b[0mi\u001b[0m\u001b[1;33m\u001b[0m\u001b[1;33m\u001b[0m\u001b[0m\n\u001b[0m",
      "\u001b[1;31mTypeError\u001b[0m: 'str' object does not support item assignment"
     ]
    }
   ],
   "source": [
    "s = \"hello\"\n",
    "s[0] = i  # string is immutable "
   ]
  },
  {
   "cell_type": "code",
   "execution_count": 27,
   "metadata": {},
   "outputs": [
    {
     "output_type": "stream",
     "name": "stdout",
     "text": [
      "hi\nthere\nhi\tthere\n"
     ]
    }
   ],
   "source": [
    "# Escape sequences: \n",
    "# \\n: new line\n",
    "# \\t: tab\n",
    "\n",
    "s = \"hi\\nthere\"\n",
    "print(s)\n",
    "\n",
    "s = \"hi\\tthere\"\n",
    "print(s)"
   ]
  },
  {
   "source": [
    "#### Raw strings"
   ],
   "cell_type": "markdown",
   "metadata": {}
  },
  {
   "cell_type": "code",
   "execution_count": 29,
   "metadata": {},
   "outputs": [
    {
     "output_type": "stream",
     "name": "stdout",
     "text": [
      "hi\\tthere\nhi\\nhere\n"
     ]
    }
   ],
   "source": [
    "# Aim: to suppress the special behaviour of my escape sequences. My string should be read as it is \n",
    "s = r\"hi\\tthere\" # raw string\n",
    "print(s)\n",
    "\n",
    "s = r\"hi\\nhere\" # raw string\n",
    "print(s)"
   ]
  },
  {
   "cell_type": "code",
   "execution_count": null,
   "metadata": {},
   "outputs": [],
   "source": [
    "path = r\"D:\\new\\myfile.txt\""
   ]
  },
  {
   "cell_type": "code",
   "execution_count": 34,
   "metadata": {},
   "outputs": [
    {
     "output_type": "stream",
     "name": "stdout",
     "text": [
      "5\n5\n7\n"
     ]
    }
   ],
   "source": [
    "s = \"hello\"\n",
    "print(len(s))\n",
    "\n",
    "s1 = \"hel\\tlo\"\n",
    "print(len(s))\n",
    "\n",
    "s1 = r\"hel\\nlo\"\n",
    "print(len(s1))"
   ]
  },
  {
   "source": [
    "## String formatting"
   ],
   "cell_type": "markdown",
   "metadata": {}
  },
  {
   "cell_type": "code",
   "execution_count": 36,
   "metadata": {},
   "outputs": [
    {
     "output_type": "stream",
     "name": "stdout",
     "text": [
      "Ruchi is a doctor\nRuchi is 25 years  old \n"
     ]
    }
   ],
   "source": [
    "name = \"Ruchi\"\n",
    "profile = \"doctor\"\n",
    "\n",
    "s = name + \" is a \" + profile\n",
    "print(s)\n",
    "\n",
    "age = 25\n",
    "s = name + \" is \" + str(age) +\" years  old \"\n",
    "print(s)"
   ]
  },
  {
   "cell_type": "code",
   "execution_count": 38,
   "metadata": {},
   "outputs": [
    {
     "output_type": "stream",
     "name": "stdout",
     "text": [
      "Ruchi is a doctor\nRuchi is 25 years old\n"
     ]
    }
   ],
   "source": [
    "# .format()\n",
    "\n",
    "s = \"{} is a {}\".format(name, profile)\n",
    "print(s)\n",
    "\n",
    "\n",
    "s = \"{} is {} years old\".format(name, age)\n",
    "print(s)"
   ]
  },
  {
   "cell_type": "code",
   "execution_count": 40,
   "metadata": {},
   "outputs": [
    {
     "output_type": "stream",
     "name": "stdout",
     "text": [
      "Ruchi is a doctor. She is 25 years old\n"
     ]
    },
    {
     "output_type": "error",
     "ename": "IndexError",
     "evalue": "Replacement index 2 out of range for positional args tuple",
     "traceback": [
      "\u001b[1;31m---------------------------------------------------------------------------\u001b[0m",
      "\u001b[1;31mIndexError\u001b[0m                                Traceback (most recent call last)",
      "\u001b[1;32m<ipython-input-40-c56badc4ed59>\u001b[0m in \u001b[0;36m<module>\u001b[1;34m\u001b[0m\n\u001b[0;32m      2\u001b[0m \u001b[0mprint\u001b[0m\u001b[1;33m(\u001b[0m\u001b[0ms\u001b[0m\u001b[1;33m)\u001b[0m\u001b[1;33m\u001b[0m\u001b[1;33m\u001b[0m\u001b[0m\n\u001b[0;32m      3\u001b[0m \u001b[1;33m\u001b[0m\u001b[0m\n\u001b[1;32m----> 4\u001b[1;33m \u001b[0ms\u001b[0m \u001b[1;33m=\u001b[0m \u001b[1;34m\"{0} is a {1}. She is {2} years old\"\u001b[0m\u001b[1;33m.\u001b[0m\u001b[0mformat\u001b[0m\u001b[1;33m(\u001b[0m\u001b[0mname\u001b[0m\u001b[1;33m,\u001b[0m \u001b[0mprofile\u001b[0m\u001b[1;33m)\u001b[0m\u001b[1;33m\u001b[0m\u001b[1;33m\u001b[0m\u001b[0m\n\u001b[0m\u001b[0;32m      5\u001b[0m \u001b[0mprint\u001b[0m\u001b[1;33m(\u001b[0m\u001b[0ms\u001b[0m\u001b[1;33m)\u001b[0m\u001b[1;33m\u001b[0m\u001b[1;33m\u001b[0m\u001b[0m\n",
      "\u001b[1;31mIndexError\u001b[0m: Replacement index 2 out of range for positional args tuple"
     ]
    }
   ],
   "source": [
    "s = \"{0} is a {1}. She is {2} years old\".format(name, profile, age)\n",
    "print(s)\n",
    "\n",
    "s = \"{0} is a {1}. She is {2} years old\".format(name, profile) # gives an error\n",
    "print(s)"
   ]
  },
  {
   "cell_type": "code",
   "execution_count": 42,
   "metadata": {},
   "outputs": [
    {
     "output_type": "stream",
     "name": "stdout",
     "text": [
      "Ruchi is a doctor\n"
     ]
    }
   ],
   "source": [
    "s = \"{n} is a {p}\".format(p=profile, n=name) # keyword arguments in format function; order of arguments doesn't matter\n",
    "print(s)"
   ]
  },
  {
   "cell_type": "code",
   "execution_count": 44,
   "metadata": {},
   "outputs": [
    {
     "output_type": "stream",
     "name": "stdout",
     "text": [
      "Siya is a Professor. She is 34 years old.\n"
     ]
    }
   ],
   "source": [
    "# f strings\n",
    "name = \"Siya\"\n",
    "profile = \"Professor\"\n",
    "age = 34\n",
    "s = f\"{name} is a {profile}. She is {age} years old.\"\n",
    "print(s)"
   ]
  },
  {
   "cell_type": "code",
   "execution_count": 50,
   "metadata": {},
   "outputs": [
    {
     "output_type": "stream",
     "name": "stdout",
     "text": [
      "2 Princey 3.5 Siya is a Professor\n2, Princey, 3.5, Siya is a Professor\n2\nPrincey\n3.5\nSiya is a Professor\n"
     ]
    }
   ],
   "source": [
    "n = 2\n",
    "n1 = \"Princey\"\n",
    "n3 = 3.5\n",
    "s = f\"{name} is a {profile}\"\n",
    "print(n, n1, n3, s)\n",
    "print(n, n1, n3, s, sep=\", \")\n",
    "print(n, n1, n3, s, sep=\"\\n\")"
   ]
  },
  {
   "cell_type": "code",
   "execution_count": 55,
   "metadata": {},
   "outputs": [
    {
     "output_type": "stream",
     "name": "stdout",
     "text": [
      "1\n2\n3\n4\n5\n\n1, 1\t2, 1\t3, 1\t4, 1\t5, 1\t"
     ]
    }
   ],
   "source": [
    "# print numbers upto 5\n",
    "i = 1\n",
    "while i<= 5:\n",
    "    print(i, end=\"\\n\")\n",
    "    i += 1\n",
    "print()\n",
    "\n",
    "# I want to end line with tab\n",
    "i = 1\n",
    "j = 1\n",
    "while i<= 5:\n",
    "    print(i, j, sep=\", \", end=\"\\t\")\n",
    "    i += 1"
   ]
  },
  {
   "source": [
    "# For Loop"
   ],
   "cell_type": "markdown",
   "metadata": {}
  },
  {
   "cell_type": "code",
   "execution_count": 62,
   "metadata": {},
   "outputs": [
    {
     "output_type": "stream",
     "name": "stdout",
     "text": [
      "10 20 30 40 50 \n1 3 Hi 2.4 \n 2.4\n34\n"
     ]
    }
   ],
   "source": [
    "# Iterate over list elements\n",
    "l = [10, 20, 30, 40, 50]\n",
    "\n",
    "for i in l:\n",
    "    print(i, end=\" \")\n",
    "\n",
    "print()\n",
    "\n",
    "for el in [1, 3, \"Hi\", 2.4]:\n",
    "    print(el, end=\" \")\n",
    "\n",
    "print(\"\\n\", el)\n",
    "\n",
    "el = 34\n",
    "print(el)"
   ]
  },
  {
   "cell_type": "code",
   "execution_count": 64,
   "metadata": {},
   "outputs": [
    {
     "output_type": "stream",
     "name": "stdout",
     "text": [
      "1 3 Hi 2.4 \n 40\n"
     ]
    }
   ],
   "source": [
    "for el in [1, 3, \"Hi\", 2.4]:\n",
    "    print(el, end=\" \")\n",
    "    var = 40\n",
    "print(\"\\n\", var)"
   ]
  },
  {
   "cell_type": "code",
   "execution_count": 65,
   "metadata": {},
   "outputs": [
    {
     "output_type": "stream",
     "name": "stdout",
     "text": [
      "3\n(1, 1)\n(1, 1), (2, 2), (3, 3), "
     ]
    }
   ],
   "source": [
    "l = [(1,1), (2,2), (3,3)]\n",
    "print(len(l))\n",
    "\n",
    "print(l[0])\n",
    "\n",
    "for el in l:\n",
    "    print(el, end=\", \")"
   ]
  },
  {
   "cell_type": "code",
   "execution_count": 66,
   "metadata": {},
   "outputs": [
    {
     "output_type": "stream",
     "name": "stdout",
     "text": [
      "[0, 1]\n[2, 2]\n[2, 4]\n"
     ]
    }
   ],
   "source": [
    "l = [[0,1], [2,2], [2, 4]]\n",
    "for el in l:\n",
    "    print(el)"
   ]
  },
  {
   "cell_type": "code",
   "execution_count": 72,
   "metadata": {},
   "outputs": [
    {
     "output_type": "stream",
     "name": "stdout",
     "text": [
      "1\n2\n3\n4\n5\n\n1 2 3 4 5 \n1 4 \n"
     ]
    }
   ],
   "source": [
    "l = [1, 2, 3, 4, 5]\n",
    "for x in l:\n",
    "    print(x)\n",
    "\n",
    "print()\n",
    "\n",
    "for x in range(1, 6):\n",
    "    print(x, end=\" \")\n",
    "\n",
    "print()\n",
    "\n",
    "for x in range(1, 6, 3):\n",
    "    print(x, end=\" \")\n",
    "\n",
    "print()"
   ]
  },
  {
   "cell_type": "code",
   "execution_count": 74,
   "metadata": {},
   "outputs": [
    {
     "output_type": "stream",
     "name": "stdout",
     "text": [
      "5 4 3 2 1 "
     ]
    }
   ],
   "source": [
    "for x in range(5, 0, -1):\n",
    "    print(x, end=\" \")"
   ]
  },
  {
   "cell_type": "code",
   "execution_count": 75,
   "metadata": {},
   "outputs": [
    {
     "output_type": "stream",
     "name": "stdout",
     "text": [
      "1 2 3 4 5 6 7 8 9 10 "
     ]
    }
   ],
   "source": [
    "for i in range(1, 11):\n",
    "    print(i, end=\" \")\n",
    "    i = 5"
   ]
  },
  {
   "cell_type": "code",
   "execution_count": 76,
   "metadata": {},
   "outputs": [
    {
     "output_type": "stream",
     "name": "stdout",
     "text": [
      "10\n20\n30\n40\n"
     ]
    }
   ],
   "source": [
    "# iterate over list using index \n",
    "l = [10, 20, 30, 40]\n",
    "for idx in range(len(l)): \n",
    "    print(l[idx])"
   ]
  },
  {
   "cell_type": "code",
   "execution_count": 118,
   "metadata": {},
   "outputs": [
    {
     "output_type": "stream",
     "name": "stdout",
     "text": [
      "agct\naggg\nggcc\ntttt\naaaa\nggcc\nttgc\ntttc\ngggt\nccgt\nt\n"
     ]
    }
   ],
   "source": [
    "s = \"agctagggggccttttaaaaggccttgctttcgggtccgtt\"\n",
    "step = 4\n",
    "for i in range(0, len(s), step):\n",
    "    print(s[i:i+4])"
   ]
  },
  {
   "cell_type": "code",
   "execution_count": 89,
   "metadata": {},
   "outputs": [
    {
     "output_type": "stream",
     "name": "stdout",
     "text": [
      "i:1 start:0 end:4 s:agct\ni:2 start:4 end:8 s:aggg\ni:3 start:8 end:12 s:ggcc\ni:4 start:12 end:16 s:tttt\ni:5 start:16 end:20 s:aaaa\ni:6 start:20 end:24 s:ggcc\ni:7 start:24 end:28 s:ttgc\ni:8 start:28 end:32 s:tttc\ni:9 start:32 end:36 s:gggt\ni:10 start:36 end:40 s:ccgt\ni:11 start:40 end:44 s:t\n0 41\n"
     ]
    }
   ],
   "source": [
    "s = \"agctagggggccttttaaaaggccttgctttcgggtccgtt\"\n",
    "start = 0\n",
    "step = 4\n",
    "count = 0\n",
    "i = 1\n",
    "for start in range(start, len(s), step):\n",
    "    end = start + step\n",
    "    print(f\"i:{i} start:{start} end:{end} s:{s[start:end]}\")\n",
    "    i += 1\n",
    "    \n",
    "print(count, len(s))"
   ]
  },
  {
   "source": [
    "## Dictionary"
   ],
   "cell_type": "markdown",
   "metadata": {}
  },
  {
   "cell_type": "code",
   "execution_count": 91,
   "metadata": {},
   "outputs": [
    {
     "output_type": "stream",
     "name": "stdout",
     "text": [
      "{} <class 'dict'>\n"
     ]
    }
   ],
   "source": [
    "# empty dictionary\n",
    "d = {}\n",
    "print(d, type(d))"
   ]
  },
  {
   "cell_type": "code",
   "execution_count": 92,
   "metadata": {},
   "outputs": [
    {
     "output_type": "stream",
     "name": "stdout",
     "text": [
      "{'apple': 25, 'banana': 50, 'watermelon': 100}\n"
     ]
    }
   ],
   "source": [
    "# create a dictionary with some data\n",
    "d = {\n",
    "    \"apple\": 25,\n",
    "    \"banana\": 50,\n",
    "    \"watermelon\": 100\n",
    "}\n",
    "print(d)"
   ]
  },
  {
   "cell_type": "code",
   "execution_count": 93,
   "metadata": {},
   "outputs": [
    {
     "output_type": "stream",
     "name": "stdout",
     "text": [
      "3\n"
     ]
    }
   ],
   "source": [
    "print(len(d))"
   ]
  },
  {
   "cell_type": "code",
   "execution_count": 95,
   "metadata": {},
   "outputs": [
    {
     "output_type": "stream",
     "name": "stdout",
     "text": [
      "10 20\n25\n100\n"
     ]
    }
   ],
   "source": [
    "# Access an item of a dictionary: Access through key\n",
    "l = [10, 20, 30]\n",
    "print(l[0], l[1])\n",
    "\n",
    "print(d[\"apple\"])\n",
    "print(d['watermelon'])"
   ]
  },
  {
   "cell_type": "code",
   "execution_count": 97,
   "metadata": {},
   "outputs": [
    {
     "output_type": "error",
     "ename": "KeyError",
     "evalue": "'mango'",
     "traceback": [
      "\u001b[1;31m---------------------------------------------------------------------------\u001b[0m",
      "\u001b[1;31mKeyError\u001b[0m                                  Traceback (most recent call last)",
      "\u001b[1;32m<ipython-input-97-7352c047f90b>\u001b[0m in \u001b[0;36m<module>\u001b[1;34m\u001b[0m\n\u001b[1;32m----> 1\u001b[1;33m \u001b[0md\u001b[0m\u001b[1;33m[\u001b[0m\u001b[1;34m'mango'\u001b[0m\u001b[1;33m]\u001b[0m\u001b[1;33m\u001b[0m\u001b[1;33m\u001b[0m\u001b[0m\n\u001b[0m",
      "\u001b[1;31mKeyError\u001b[0m: 'mango'"
     ]
    }
   ],
   "source": [
    "d['mango']"
   ]
  },
  {
   "cell_type": "code",
   "execution_count": 98,
   "metadata": {},
   "outputs": [
    {
     "output_type": "stream",
     "name": "stdout",
     "text": [
      "{'apple': 25, 'banana': 50, 'watermelon': 100, 'mango': 40}\n"
     ]
    }
   ],
   "source": [
    "# adding items to dictionary\n",
    "d['mango'] = 40\n",
    "print(d)"
   ]
  },
  {
   "cell_type": "code",
   "execution_count": 99,
   "metadata": {},
   "outputs": [
    {
     "output_type": "stream",
     "name": "stdout",
     "text": [
      "{0: 'a', 1: [10, 20], 'bc': {0: 0, 3: 3}}\n"
     ]
    }
   ],
   "source": [
    "d = {0:'a', 1:[10,20], 'bc':{0:0, 3:3}} # dict can store heterogenous data\n",
    "print(d)"
   ]
  },
  {
   "cell_type": "code",
   "execution_count": 107,
   "metadata": {},
   "outputs": [
    {
     "output_type": "stream",
     "name": "stdout",
     "text": [
      "a\n[10, 20] <class 'list'>\n\n10\n\n3\n"
     ]
    }
   ],
   "source": [
    "print(d[0])\n",
    "print(d[1], type(d[1]))\n",
    "print()\n",
    "print(d[1][0])\n",
    "\n",
    "print()\n",
    "print(d['bc'][3])"
   ]
  },
  {
   "cell_type": "code",
   "execution_count": 113,
   "metadata": {},
   "outputs": [
    {
     "output_type": "error",
     "ename": "TypeError",
     "evalue": "unhashable type: 'list'",
     "traceback": [
      "\u001b[1;31m---------------------------------------------------------------------------\u001b[0m",
      "\u001b[1;31mTypeError\u001b[0m                                 Traceback (most recent call last)",
      "\u001b[1;32m<ipython-input-113-d93adc2bb542>\u001b[0m in \u001b[0;36m<module>\u001b[1;34m\u001b[0m\n\u001b[1;32m----> 1\u001b[1;33m \u001b[0md\u001b[0m\u001b[1;33m[\u001b[0m\u001b[1;33m[\u001b[0m\u001b[1;36m1\u001b[0m\u001b[1;33m,\u001b[0m\u001b[1;36m2\u001b[0m\u001b[1;33m]\u001b[0m\u001b[1;33m]\u001b[0m \u001b[1;33m=\u001b[0m \u001b[1;36m0\u001b[0m \u001b[1;31m# key cannot be a mutable data type, list is mutable\u001b[0m\u001b[1;33m\u001b[0m\u001b[1;33m\u001b[0m\u001b[0m\n\u001b[0m\u001b[0;32m      2\u001b[0m \u001b[0mprint\u001b[0m\u001b[1;33m(\u001b[0m\u001b[0md\u001b[0m\u001b[1;33m)\u001b[0m\u001b[1;33m\u001b[0m\u001b[1;33m\u001b[0m\u001b[0m\n",
      "\u001b[1;31mTypeError\u001b[0m: unhashable type: 'list'"
     ]
    }
   ],
   "source": [
    "d[[1,2]] = 0 # key cannot be a mutable data type, list is mutable\n",
    "print(d)"
   ]
  },
  {
   "cell_type": "code",
   "execution_count": 115,
   "metadata": {},
   "outputs": [
    {
     "output_type": "error",
     "ename": "TypeError",
     "evalue": "unhashable type: 'dict'",
     "traceback": [
      "\u001b[1;31m---------------------------------------------------------------------------\u001b[0m",
      "\u001b[1;31mTypeError\u001b[0m                                 Traceback (most recent call last)",
      "\u001b[1;32m<ipython-input-115-0bf69778d3e1>\u001b[0m in \u001b[0;36m<module>\u001b[1;34m\u001b[0m\n\u001b[0;32m      1\u001b[0m \u001b[0mkey\u001b[0m \u001b[1;33m=\u001b[0m \u001b[1;33m{\u001b[0m\u001b[1;34m'a'\u001b[0m\u001b[1;33m:\u001b[0m\u001b[1;36m0\u001b[0m\u001b[1;33m,\u001b[0m \u001b[1;34m'b'\u001b[0m\u001b[1;33m:\u001b[0m\u001b[1;36m1\u001b[0m\u001b[1;33m}\u001b[0m\u001b[1;33m\u001b[0m\u001b[1;33m\u001b[0m\u001b[0m\n\u001b[1;32m----> 2\u001b[1;33m \u001b[0md\u001b[0m\u001b[1;33m[\u001b[0m\u001b[0mkey\u001b[0m\u001b[1;33m]\u001b[0m \u001b[1;33m=\u001b[0m \u001b[1;36m123\u001b[0m\u001b[1;33m\u001b[0m\u001b[1;33m\u001b[0m\u001b[0m\n\u001b[0m\u001b[0;32m      3\u001b[0m \u001b[0mprint\u001b[0m\u001b[1;33m(\u001b[0m\u001b[0md\u001b[0m\u001b[1;33m)\u001b[0m\u001b[1;33m\u001b[0m\u001b[1;33m\u001b[0m\u001b[0m\n",
      "\u001b[1;31mTypeError\u001b[0m: unhashable type: 'dict'"
     ]
    }
   ],
   "source": [
    "key = {'a':0, 'b':1} # dictionary is mutable data type\n",
    "d[key] = 123 # gives error because keys cannot be mutable data type\n",
    "print(d)"
   ]
  },
  {
   "cell_type": "code",
   "execution_count": 112,
   "metadata": {},
   "outputs": [
    {
     "output_type": "stream",
     "name": "stdout",
     "text": [
      "{0: 'a', 1: [10, 20], 'bc': {0: 0, 3: 3}, (1, 2): 0}\n"
     ]
    }
   ],
   "source": [
    "d[(1,2)] = 0 # tuple as key is allowed because it is immutable data type\n",
    "print(d)"
   ]
  }
 ]
}