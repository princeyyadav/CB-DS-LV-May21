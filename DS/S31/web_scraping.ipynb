{
 "cells": [
  {
   "cell_type": "code",
   "execution_count": null,
   "source": [
    "# !pip install beautifulsoup4\r\n",
    "#!pip install requests"
   ],
   "outputs": [],
   "metadata": {}
  },
  {
   "cell_type": "code",
   "execution_count": 3,
   "source": [
    "from bs4 import BeautifulSoup\r\n",
    "import requests "
   ],
   "outputs": [],
   "metadata": {}
  },
  {
   "cell_type": "code",
   "execution_count": 5,
   "source": [
    "html = requests.get(\"https://webscraper.io/test-sites/tables\")"
   ],
   "outputs": [],
   "metadata": {}
  },
  {
   "cell_type": "code",
   "execution_count": 6,
   "source": [
    "type(html)"
   ],
   "outputs": [
    {
     "output_type": "execute_result",
     "data": {
      "text/plain": [
       "requests.models.Response"
      ]
     },
     "metadata": {},
     "execution_count": 6
    }
   ],
   "metadata": {}
  },
  {
   "cell_type": "code",
   "execution_count": 8,
   "source": [
    "html.status_code"
   ],
   "outputs": [
    {
     "output_type": "execute_result",
     "data": {
      "text/plain": [
       "200"
      ]
     },
     "metadata": {},
     "execution_count": 8
    }
   ],
   "metadata": {}
  },
  {
   "cell_type": "code",
   "execution_count": 10,
   "source": [
    "soup = BeautifulSoup(html.content)"
   ],
   "outputs": [],
   "metadata": {}
  },
  {
   "cell_type": "code",
   "execution_count": 11,
   "source": [
    "type(soup)"
   ],
   "outputs": [
    {
     "output_type": "execute_result",
     "data": {
      "text/plain": [
       "bs4.BeautifulSoup"
      ]
     },
     "metadata": {},
     "execution_count": 11
    }
   ],
   "metadata": {}
  },
  {
   "cell_type": "code",
   "execution_count": 15,
   "source": [
    "tables = soup.find_all(name=\"table\")"
   ],
   "outputs": [],
   "metadata": {}
  },
  {
   "cell_type": "code",
   "execution_count": 16,
   "source": [
    "len(tables)"
   ],
   "outputs": [
    {
     "output_type": "execute_result",
     "data": {
      "text/plain": [
       "4"
      ]
     },
     "metadata": {},
     "execution_count": 16
    }
   ],
   "metadata": {}
  },
  {
   "cell_type": "code",
   "execution_count": 17,
   "source": [
    "tables[0]"
   ],
   "outputs": [
    {
     "output_type": "execute_result",
     "data": {
      "text/plain": [
       "<table class=\"table table-bordered\">\n",
       "<thead>\n",
       "<tr>\n",
       "<th>#</th>\n",
       "<th>First Name</th>\n",
       "<th>Last Name</th>\n",
       "<th>Username</th>\n",
       "</tr>\n",
       "</thead>\n",
       "<tbody>\n",
       "<tr>\n",
       "<td>1</td>\n",
       "<td>Mark</td>\n",
       "<td>Otto</td>\n",
       "<td>@mdo</td>\n",
       "</tr>\n",
       "<tr>\n",
       "<td>2</td>\n",
       "<td>Jacob</td>\n",
       "<td>Thornton</td>\n",
       "<td>@fat</td>\n",
       "</tr>\n",
       "<tr>\n",
       "<td>3</td>\n",
       "<td>Larry</td>\n",
       "<td>the Bird</td>\n",
       "<td>@twitter</td>\n",
       "</tr>\n",
       "</tbody>\n",
       "</table>"
      ]
     },
     "metadata": {},
     "execution_count": 17
    }
   ],
   "metadata": {}
  },
  {
   "cell_type": "code",
   "execution_count": 51,
   "source": [
    "heads = tables[0].find(\"thead\").find_all(\"th\")"
   ],
   "outputs": [],
   "metadata": {}
  },
  {
   "cell_type": "code",
   "execution_count": 52,
   "source": [
    "for th in heads:\r\n",
    "    print(th.text)"
   ],
   "outputs": [
    {
     "output_type": "stream",
     "name": "stdout",
     "text": [
      "#\n",
      "First Name\n",
      "Last Name\n",
      "Username\n"
     ]
    }
   ],
   "metadata": {}
  },
  {
   "cell_type": "code",
   "execution_count": 68,
   "source": [
    "for i in range(len(tables)):\r\n",
    "    print(\"+\"*50)\r\n",
    "    head = tables[i].find_all(\"th\")\r\n",
    "    if head:\r\n",
    "        for th in head:\r\n",
    "            print(th.text, \" | \", end=\"\")\r\n",
    "        print()\r\n",
    "    for row in tables[i].find(\"tbody\").find_all(\"tr\"):\r\n",
    "        for col in row.find_all(\"td\"):\r\n",
    "            print(col.text, \" | \", end=\"\")\r\n",
    "        print()\r\n"
   ],
   "outputs": [
    {
     "output_type": "stream",
     "name": "stdout",
     "text": [
      "++++++++++++++++++++++++++++++++++++++++++++++++++\n",
      "#  | First Name  | Last Name  | Username  | \n",
      "1  | Mark  | Otto  | @mdo  | \n",
      "2  | Jacob  | Thornton  | @fat  | \n",
      "3  | Larry  | the Bird  | @twitter  | \n",
      "++++++++++++++++++++++++++++++++++++++++++++++++++\n",
      "#  | First Name  | Last Name  | Username  | \n",
      "4  | Harry  | Potter  | @hp  | \n",
      "5  | John  | Snow  | @dunno  | \n",
      "6  | Tim  | Bean  | @timbean  | \n",
      "++++++++++++++++++++++++++++++++++++++++++++++++++\n",
      "#  | First Name  | Last Name  | Username  | \n",
      "\n",
      "1  | Mark  | Otto  | @mdo  | \n",
      "2  | Jacob  | Thornton  | @fat  | \n",
      "3  | Larry  | the Bird  | @twitter  | \n",
      "++++++++++++++++++++++++++++++++++++++++++++++++++\n",
      "  | Person  | User data  | #  | First Name  | Last Name  | Username  | \n",
      "\n",
      "\n",
      "-  | -  | -  | -  | \n",
      "1  | Mark  | Otto  | @mdo  | \n",
      "2  | Jacob  | Thornton  | @fat  | \n",
      "3  | Larry  | the Bird  | @twitter  | \n"
     ]
    }
   ],
   "metadata": {}
  },
  {
   "cell_type": "code",
   "execution_count": 47,
   "source": [
    "for h2 in soup.find_all(\"h2\"):\r\n",
    "    print(h2.text)"
   ],
   "outputs": [
    {
     "output_type": "stream",
     "name": "stdout",
     "text": [
      "Semantically correct table with thead and tbody\n",
      "Table without thead tag\n",
      "Table with multiple header rows and an empty data row\n"
     ]
    }
   ],
   "metadata": {}
  },
  {
   "cell_type": "code",
   "execution_count": 48,
   "source": [
    "soup.find_all(\"table\", attrs={\"class\":\"princey\"})"
   ],
   "outputs": [
    {
     "output_type": "execute_result",
     "data": {
      "text/plain": [
       "[]"
      ]
     },
     "metadata": {},
     "execution_count": 48
    }
   ],
   "metadata": {}
  },
  {
   "cell_type": "code",
   "execution_count": 50,
   "source": [
    "len(soup.find_all(\"table\", attrs={\"class\":\"table-bordered\"}))"
   ],
   "outputs": [
    {
     "output_type": "execute_result",
     "data": {
      "text/plain": [
       "4"
      ]
     },
     "metadata": {},
     "execution_count": 50
    }
   ],
   "metadata": {}
  },
  {
   "cell_type": "code",
   "execution_count": 66,
   "source": [
    "# can also access all th from tr tag only \r\n",
    "for i in range(len(tables)):\r\n",
    "    print(\"\\n\",\"-\"*50)\r\n",
    "    for row in tables[i].find_all(\"tr\"):\r\n",
    "        for th in row.find_all(\"th\"):\r\n",
    "            print(th.text, \" | \", end=\"\")\r\n",
    "        for col in row.find_all(\"td\"):\r\n",
    "            print(col.text, \" | \", end=\"\")\r\n",
    "        print()"
   ],
   "outputs": [
    {
     "output_type": "stream",
     "name": "stdout",
     "text": [
      "\n",
      " --------------------------------------------------\n",
      "#  | First Name  | Last Name  | Username  | \n",
      "1  | Mark  | Otto  | @mdo  | \n",
      "2  | Jacob  | Thornton  | @fat  | \n",
      "3  | Larry  | the Bird  | @twitter  | \n",
      "\n",
      " --------------------------------------------------\n",
      "#  | First Name  | Last Name  | Username  | \n",
      "4  | Harry  | Potter  | @hp  | \n",
      "5  | John  | Snow  | @dunno  | \n",
      "6  | Tim  | Bean  | @timbean  | \n",
      "\n",
      " --------------------------------------------------\n",
      "#  | First Name  | Last Name  | Username  | \n",
      "1  | Mark  | Otto  | @mdo  | \n",
      "2  | Jacob  | Thornton  | @fat  | \n",
      "3  | Larry  | the Bird  | @twitter  | \n",
      "\n",
      " --------------------------------------------------\n",
      "  | Person  | User data  | \n",
      "#  | First Name  | Last Name  | Username  | \n",
      "-  | -  | -  | -  | \n",
      "1  | Mark  | Otto  | @mdo  | \n",
      "2  | Jacob  | Thornton  | @fat  | \n",
      "3  | Larry  | the Bird  | @twitter  | \n"
     ]
    }
   ],
   "metadata": {}
  },
  {
   "cell_type": "code",
   "execution_count": null,
   "source": [
    "# https://pypi.org/project/beautifulsoup4/"
   ],
   "outputs": [],
   "metadata": {}
  }
 ],
 "metadata": {
  "orig_nbformat": 4,
  "language_info": {
   "name": "python",
   "version": "3.9.4",
   "mimetype": "text/x-python",
   "codemirror_mode": {
    "name": "ipython",
    "version": 3
   },
   "pygments_lexer": "ipython3",
   "nbconvert_exporter": "python",
   "file_extension": ".py"
  },
  "kernelspec": {
   "name": "python3",
   "display_name": "Python 3.9.4 64-bit"
  },
  "interpreter": {
   "hash": "d62006d1f3422635846181a997a61e8ec3049f797e5d7dfe0cd1bb84092b7c19"
  }
 },
 "nbformat": 4,
 "nbformat_minor": 2
}