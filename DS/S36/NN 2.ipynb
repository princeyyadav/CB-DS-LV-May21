{
 "cells": [
  {
   "cell_type": "markdown",
   "metadata": {},
   "source": [
    "## Session 42 \n",
    "Aug 27, 2021\n",
    "### Neural Net for Multiple instances"
   ]
  },
  {
   "cell_type": "code",
   "execution_count": 1,
   "metadata": {},
   "outputs": [],
   "source": [
    "import numpy as np"
   ]
  },
  {
   "cell_type": "code",
   "execution_count": 244,
   "metadata": {},
   "outputs": [],
   "source": [
    "class BinaryCrossEntropy:\n",
    "\n",
    "    def __call__(self, ytrue, ypred):\n",
    "        \"\"\" \n",
    "        ytrue: column vector (m,1)\n",
    "        ypred: column vector (m,1)\n",
    "        Returns: Loss (1,1)\n",
    "        \"\"\"\n",
    "        assert ytrue.shape == ypred.shape, f\"shape mismatch ytrue {ytrue.shape} != ypred {ypred.shape}\"\n",
    "        return -np.sum( ytrue*np.log(ypred + 1e-10) + (1-ytrue)*np.log(1-ypred + 1e-10) )\n",
    "\n",
    "    def grad_input(self, y, ypred):\n",
    "        grad = np.zeros(ypred.shape)\n",
    "        ix0 = (y==0).reshape(-1,)\n",
    "        ix1 = (y==1).reshape(-1,)\n",
    "        grad[ix0,:] = 1/(1-ypred[ix0,:])\n",
    "        grad[ix1,:] = -1/ypred[ix1,:]\n",
    "        return grad.reshape(-1,1,1)"
   ]
  },
  {
   "cell_type": "code",
   "execution_count": 2,
   "metadata": {},
   "outputs": [],
   "source": [
    "class Sigmoid:\n",
    "\n",
    "    def __call__(self, X):\n",
    "        return self.eval(X)\n",
    "\n",
    "    def eval(self, X):\n",
    "        return 1/((np.e**-X) + 1)\n",
    "\n",
    "    def grad_input(self, X):\n",
    "#         return np.identity(X.shape[1]) * self.eval(X)*(1-self.eval(X))\n",
    "        I = np.identity(X.shape[1])\n",
    "        b = self.eval(X)*(1-self.eval(X)) # same shape as X\n",
    "        return np.einsum('ij,mi->mij', I, b)"
   ]
  },
  {
   "cell_type": "code",
   "execution_count": 12,
   "metadata": {},
   "outputs": [
    {
     "name": "stdout",
     "output_type": "stream",
     "text": [
      "[[1 2]\n",
      " [3 4]\n",
      " [5 6]] (3, 2)\n",
      "identity shape: (2, 2)\n",
      "[[1. 0.]\n",
      " [0. 1.]]\n",
      "[[0.19661193 0.10499359]\n",
      " [0.04517666 0.01766271]\n",
      " [0.00664806 0.00246651]]\n",
      "[[[0.19661193 0.        ]\n",
      "  [0.         0.10499359]]\n",
      "\n",
      " [[0.04517666 0.        ]\n",
      "  [0.         0.01766271]]\n",
      "\n",
      " [[0.00664806 0.        ]\n",
      "  [0.         0.00246651]]]\n",
      "(3, 2, 2)\n"
     ]
    }
   ],
   "source": [
    "# m = 2, no_of_features=2\n",
    "X = np.arange(1,7).reshape(3,2)\n",
    "print(X, X.shape)\n",
    "\n",
    "I = np.identity(X.shape[1])\n",
    "print(\"identity shape:\", I.shape)\n",
    "print(I)\n",
    "\n",
    "s = Sigmoid()\n",
    "b = s.eval(X)*(1-s.eval(X))\n",
    "print(b) # same shape as X\n",
    "\n",
    "ans = np.einsum('ij,mi->mij', I, b)\n",
    "print(ans)\n",
    "print(ans.shape)"
   ]
  },
  {
   "cell_type": "code",
   "execution_count": 14,
   "metadata": {},
   "outputs": [],
   "source": [
    "class Dot:\n",
    "\n",
    "    def __init__(self, input_size, units):\n",
    "        self.W = np.random.randn(input_size, units)\n",
    "        self.b = np.random.randn(1, units)\n",
    "\n",
    "    def __call__(self, X):\n",
    "        return self.eval(X)\n",
    "\n",
    "    def eval(self, X):\n",
    "        return X.dot(self.W) + self.b\n",
    "\n",
    "    def grad_input(self, X):\n",
    "        return np.stack([self.W.T]*X.shape[0], axis=0) \n",
    "        #return self.W.T\n",
    "\n",
    "    def grad_w(self, X):\n",
    "        I = np.identity(self.b.shape[1])\n",
    "        m1 = np.stack([I]*self.W.shape[0], axis=1)\n",
    "        #print(g.shape)\n",
    "        #for i in range(g.shape[0]):\n",
    "        #    g[i] *= X[0][i]\n",
    "        #return np.transpose(g, [1,0,2])\n",
    "        return np.einsum('ijk,mj->mijk', m1, X)\n",
    "\n",
    "    def grad_b(self):\n",
    "        return np.stack([np.identity(self.b.shape[1])]*X.shape[0], axis=0)\n",
    "        #return np.identity(self.b.shape[1])\n",
    "    \n",
    "    def get_parameter_shape(self):\n",
    "        return self.W.shape, self.b.shape\n"
   ]
  },
  {
   "cell_type": "code",
   "execution_count": 24,
   "metadata": {},
   "outputs": [
    {
     "name": "stdout",
     "output_type": "stream",
     "text": [
      "(2, 3) (1, 3)\n",
      "(3, 2, 3)\n",
      "(2, 2)\n",
      "[[[[1. 0. 0.]\n",
      "   [2. 0. 0.]]\n",
      "\n",
      "  [[0. 1. 0.]\n",
      "   [0. 2. 0.]]\n",
      "\n",
      "  [[0. 0. 1.]\n",
      "   [0. 0. 2.]]]\n",
      "\n",
      "\n",
      " [[[3. 0. 0.]\n",
      "   [4. 0. 0.]]\n",
      "\n",
      "  [[0. 3. 0.]\n",
      "   [0. 4. 0.]]\n",
      "\n",
      "  [[0. 0. 3.]\n",
      "   [0. 0. 4.]]]]\n",
      "(2, 3, 2, 3)\n"
     ]
    }
   ],
   "source": [
    "# layer 1 # grad_w\n",
    "d = Dot(2,3)\n",
    "print(d.W.shape, d.b.shape)\n",
    "I = np.identity(d.b.shape[1])\n",
    "m1 = np.stack([I]*d.W.shape[0], axis=1)\n",
    "\n",
    "print(m1.shape)\n",
    "# print(m1)\n",
    "\n",
    "X = np.arange(1,5).reshape(-1,2)\n",
    "print(X.shape)\n",
    "\n",
    "dI_dw = np.einsum('ijk,mj->mijk', m1, X)\n",
    "print(dI_dw)\n",
    "print(dI_dw.shape)"
   ]
  },
  {
   "cell_type": "code",
   "execution_count": 247,
   "metadata": {},
   "outputs": [
    {
     "name": "stdout",
     "output_type": "stream",
     "text": [
      "(5, 3)\n"
     ]
    },
    {
     "data": {
      "text/plain": [
       "(5, 3, 2, 3)"
      ]
     },
     "execution_count": 247,
     "metadata": {},
     "output_type": "execute_result"
    }
   ],
   "source": [
    "I = np.identity(3) \n",
    "X = np.stack( [np.array([2, 3, 4])]*5 )\n",
    "m1 = np.stack([I]*2, axis=1)\n",
    "\n",
    "print(X.shape)\n",
    "ans = []\n",
    "for x in X:\n",
    "    ans.append(m1*x)\n",
    "ans = np.array(ans)\n",
    "ans.shape"
   ]
  },
  {
   "cell_type": "code",
   "execution_count": 29,
   "metadata": {},
   "outputs": [],
   "source": [
    "class Dense:\n",
    "\n",
    "    def __init__(self, input_size, activation, units):\n",
    "        \"\"\"\n",
    "        input_size: no. of neurons in previous layer\n",
    "        activation: some activation funtion\n",
    "        units: no. of neurons in current layer \n",
    "        \"\"\"\n",
    "        self.activation = activation\n",
    "        self.units = units\n",
    "        self.dot = Dot(input_size, units)\n",
    "\n",
    "    def eval(self, X):\n",
    "        return self.activation(self.dot(X))\n",
    "\n",
    "    def grad_input(self, X):\n",
    "        g1 = self.activation.grad_input( self.dot(X) )\n",
    "        g2 = self.dot.grad_input(X)\n",
    "        #return g1.dot(g2)\n",
    "        return np.einsum('mij,mjk->mik', g1, g2)\n",
    "\n",
    "    def grad_parameters(self, X):\n",
    "        da_dI = self.activation.grad_input(self.dot(X))\n",
    "        dI_dw = self.dot.grad_w(X)\n",
    "        #da_dw = da_dI.dot(dI_dw)\n",
    "        da_dw = np.einsum('mij,mjkl->mikl', da_dI, dI_dw)\n",
    "\n",
    "        dI_db = self.dot.grad_b()\n",
    "        #da_db = da_dI.dot(dI_db)\n",
    "        print(da_dI.shape, dI_dw.shape, dI_db.shape)\n",
    "        da_db = np.einsum('mij,mjk->mik',  da_dI, dI_db)\n",
    "        return da_dw, da_db\n",
    "        \n",
    "    def update(self, grad, optimizer):\n",
    "        \"\"\" grad: (dL_dwi, dL_dbi)\"\"\"\n",
    "        self.dot.W = optimizer.minimize(self.dot.W, grad[0])\n",
    "        self.dot.b = optimizer.minimize(self.dot.b, grad[1])\n",
    "        \n",
    "    def get_parameter_shape(self):\n",
    "        return self.dot.get_parameter_shape()\n",
    "    \n",
    "    def get_total_parameters(self):\n",
    "        w_shape, b_shape = self.dot.get_parameter_shape()\n",
    "        return np.prod(w_shape) + np.prod(b_shape)"
   ]
  },
  {
   "cell_type": "code",
   "execution_count": 31,
   "metadata": {},
   "outputs": [
    {
     "name": "stdout",
     "output_type": "stream",
     "text": [
      "(2, 3, 3) (2, 3, 2, 3) (2, 3, 3)\n",
      "(2, 3, 2, 3) (2, 3, 3)\n",
      "[[[[0.24999903 0.         0.        ]\n",
      "   [0.49999805 0.         0.        ]]\n",
      "\n",
      "  [[0.         0.10802761 0.        ]\n",
      "   [0.         0.21605521 0.        ]]\n",
      "\n",
      "  [[0.         0.         0.17976398]\n",
      "   [0.         0.         0.35952796]]]\n",
      "\n",
      "\n",
      " [[[0.7375204  0.         0.        ]\n",
      "   [0.98336053 0.         0.        ]]\n",
      "\n",
      "  [[0.         0.74563211 0.        ]\n",
      "   [0.         0.99417615 0.        ]]\n",
      "\n",
      "  [[0.         0.         0.66954043]\n",
      "   [0.         0.         0.89272057]]]]\n"
     ]
    }
   ],
   "source": [
    "\n",
    "layer1 = Dense(2, Sigmoid(), 3)\n",
    "dl1_dw, dl1_db = layer1.grad_parameters(X)\n",
    "print(dl1_dw.shape, dl1_db.shape)\n",
    "# print(dl1_db)\n",
    "print(dl1_dw)"
   ]
  },
  {
   "cell_type": "code",
   "execution_count": 36,
   "metadata": {},
   "outputs": [
    {
     "name": "stdout",
     "output_type": "stream",
     "text": [
      "(2, 1)\n",
      "[[1]\n",
      " [2]]\n",
      "[[[1]\n",
      "  [2]]] (1, 2, 1)\n"
     ]
    },
    {
     "data": {
      "text/plain": [
       "array([[1],\n",
       "       [2]])"
      ]
     },
     "execution_count": 36,
     "metadata": {},
     "output_type": "execute_result"
    }
   ],
   "source": [
    "w3 = np.arange(1,3).reshape(2,1)\n",
    "print(w3.shape)\n",
    "print(w3)\n",
    "dL_dw = w3.reshape(1,2,1)\n",
    "print(dL_dw, dL_dw.shape)\n",
    "dL_dw[0]"
   ]
  },
  {
   "cell_type": "code",
   "execution_count": 249,
   "metadata": {},
   "outputs": [],
   "source": [
    "class GradientDescentOptimizer:\n",
    "\n",
    "    def __init__(self, lr):\n",
    "        self.lr = lr\n",
    "\n",
    "    def minimize(self, w, grad):\n",
    "        assert w.shape == grad.shape, f\"Shape mismatch w shape {w.shape} != grad shape {grad.shape}\"\n",
    "        w = w-self.lr*grad\n",
    "        return w"
   ]
  },
  {
   "cell_type": "code",
   "execution_count": 216,
   "metadata": {},
   "outputs": [],
   "source": [
    "class Sequential:\n",
    "\n",
    "    def __init__(self, loss):\n",
    "        self.layers = []\n",
    "        self.loss = loss\n",
    "\n",
    "    def add(self, layer):\n",
    "        self.layers.append(layer)\n",
    "\n",
    "    def forward_propagation(self, X):\n",
    "        output = X\n",
    "        outputs = []\n",
    "        grads = []\n",
    "        for layer in self.layers:\n",
    "            g = {}\n",
    "            g['input'] = layer.grad_input(output)\n",
    "            g['w'], g['b'] = layer.grad_parameters(output)\n",
    "            grads.append(g)\n",
    "            output = layer.eval(output)\n",
    "            outputs.append(output)\n",
    "        return outputs, grads\n",
    "\n",
    "    def back_propagate(self, grads, outputs, y):\n",
    "        grad_loss = self.loss.grad_input(y, outputs[-1]) # dL/dlast_layer_output\n",
    "        for layer, grad in list(zip(self.layers, grads))[::-1]:\n",
    "#             dL_dwi, dL_dbi = grad_loss.dot(grad['w']), grad_loss.dot(grad['b'])\n",
    "#             print(grad_loss.shape, grad['w'].shape, grad['b'].shape, grad['input'].shape)\n",
    "            dL_dwi = np.einsum('mij,mjkl->mikl', grad_loss, grad['w']).sum(axis=0)\n",
    "            dL_dbi = np.einsum('mij,mjk->mik', grad_loss, grad['b']).sum(axis=0)\n",
    "#             print(dL_dwi.shape, dL_dbi.shape)\n",
    "            \n",
    "            layer.update((dL_dwi[0], dL_dbi), self.optimizer)\n",
    "#             grad_loss = grad_loss.dot(grad['input'])\n",
    "            grad_loss = np.einsum('mij,mjk->mik', grad_loss, grad['input'])\n",
    "            \n",
    "\n",
    "    def fit(self, X, y, epochs, optimizer, learning_rate, verbose=1):\n",
    "        self.optimizer = optimizer(learning_rate)\n",
    "        for i in range(epochs):\n",
    "            outputs, grads = self.forward_propagation(X)\n",
    "            self.back_propagate(grads, outputs, y)\n",
    "            if verbose==1:\n",
    "                print(f\"\\rEpoch: {i+1} Loss: {self.loss(y, outputs[-1])}\", end=\"\")\n",
    "        if verbose==0:\n",
    "            print(f\"Epoch: {i} Loss: {self.loss(y, outputs[-1])}\")\n",
    "\n",
    "    def eval(self, X):\n",
    "        return self.forward_propagation(X)[0][-1]\n",
    "    \n",
    "    def summary(self):\n",
    "        from tabulate import tabulate\n",
    "        headers = [\"#\", \"Layer Type\", \"W.shape\", \"b.shape\", \"Total parameters\"]\n",
    "        table = []\n",
    "        total_p = 0\n",
    "        for i, layer in enumerate(self.layers):\n",
    "            w_shape, b_shape = layer.get_parameter_shape()\n",
    "            p = layer.get_total_parameters() # total parameters of a layer\n",
    "            table.append([i+1, layer.__class__.__name__, w_shape, b_shape, p])\n",
    "            total_p += p\n",
    "        print(tabulate(table, headers, tablefmt=\"pretty\"))\n",
    "        print(\"Total no. of model parameters\", total_p)\n",
    "        \n",
    "    def predict(self, X):\n",
    "        output = X\n",
    "        for layer in self.layers:\n",
    "            output = layer.eval(output)\n",
    "        return output\n",
    "    \n",
    "    def accuracy(self, y, ypred):\n",
    "        return (y==(ypred>0.5).astype('int')).mean()\n",
    "            "
   ]
  },
  {
   "cell_type": "markdown",
   "metadata": {},
   "source": [
    "## Data Generation"
   ]
  },
  {
   "cell_type": "code",
   "execution_count": 210,
   "metadata": {},
   "outputs": [],
   "source": [
    "from sklearn.datasets import make_gaussian_quantiles\n",
    "import matplotlib.pyplot as plt"
   ]
  },
  {
   "cell_type": "code",
   "execution_count": 250,
   "metadata": {},
   "outputs": [
    {
     "name": "stdout",
     "output_type": "stream",
     "text": [
      "X (200, 2) y: (200, 1)\n"
     ]
    },
    {
     "data": {
      "image/png": "[encoded data removed]",
      "text/plain": [
       "<Figure size 432x288 with 1 Axes>"
      ]
     },
     "metadata": {
      "needs_background": "light"
     },
     "output_type": "display_data"
    }
   ],
   "source": [
    "X, y = make_gaussian_quantiles(n_samples=200,n_classes=2)\n",
    "y = y.reshape(-1,1)\n",
    "print(\"X\", X.shape, \"y:\", y.shape)\n",
    "\n",
    "plt.scatter(X[:,0], X[:,1], c=y)\n",
    "plt.show()"
   ]
  },
  {
   "cell_type": "markdown",
   "metadata": {},
   "source": [
    "## Model Creation"
   ]
  },
  {
   "cell_type": "code",
   "execution_count": 251,
   "metadata": {},
   "outputs": [],
   "source": [
    "model = Sequential(BinaryCrossEntropy())\n",
    "model.add(Dense(input_size = 2, activation=Sigmoid(), units=3))\n",
    "model.add(Dense(input_size = 3, activation=Sigmoid(), units=2))\n",
    "model.add(Dense(input_size = 2, activation=Sigmoid(), units=1))"
   ]
  },
  {
   "cell_type": "code",
   "execution_count": 252,
   "metadata": {},
   "outputs": [
    {
     "name": "stdout",
     "output_type": "stream",
     "text": [
      "+---+------------+---------+---------+------------------+\n",
      "| # | Layer Type | W.shape | b.shape | Total parameters |\n",
      "+---+------------+---------+---------+------------------+\n",
      "| 1 |   Dense    | (2, 3)  | (1, 3)  |        9         |\n",
      "| 2 |   Dense    | (3, 2)  | (1, 2)  |        8         |\n",
      "| 3 |   Dense    | (2, 1)  | (1, 1)  |        3         |\n",
      "+---+------------+---------+---------+------------------+\n",
      "Total no. of model parameters 20\n"
     ]
    }
   ],
   "source": [
    "model.summary()"
   ]
  },
  {
   "cell_type": "code",
   "execution_count": 253,
   "metadata": {},
   "outputs": [
    {
     "name": "stdout",
     "output_type": "stream",
     "text": [
      "Ypred (200, 1)\n",
      "Loss 150.28302650867514\n",
      "Accuracy 0.5\n"
     ]
    }
   ],
   "source": [
    "ypred = model.predict(X)\n",
    "print(\"Ypred\", ypred.shape)\n",
    "print(\"Loss\", model.loss(y, ypred))\n",
    "print(\"Accuracy\", model.accuracy(y, ypred))"
   ]
  },
  {
   "cell_type": "code",
   "execution_count": 258,
   "metadata": {},
   "outputs": [
    {
     "name": "stdout",
     "output_type": "stream",
     "text": [
      "Epoch: 100 Loss: 18.898655733862157"
     ]
    }
   ],
   "source": [
    "model.fit(X, y, epochs=100, optimizer=GradientDescentOptimizer, learning_rate=0.005, verbose=1)"
   ]
  },
  {
   "cell_type": "code",
   "execution_count": 259,
   "metadata": {},
   "outputs": [
    {
     "data": {
      "text/plain": [
       "0.98"
      ]
     },
     "execution_count": 259,
     "metadata": {},
     "output_type": "execute_result"
    }
   ],
   "source": [
    "ypred = model.predict(X)\n",
    "model.accuracy(y,ypred)"
   ]
  },
  {
   "cell_type": "code",
   "execution_count": null,
   "metadata": {},
   "outputs": [],
   "source": []
  }
 ],
 "metadata": {
  "interpreter": {
   "hash": "d62006d1f3422635846181a997a61e8ec3049f797e5d7dfe0cd1bb84092b7c19"
  },
  "kernelspec": {
   "display_name": "Python 3",
   "language": "python",
   "name": "python3"
  },
  "language_info": {
   "codemirror_mode": {
    "name": "ipython",
    "version": 3
   },
   "file_extension": ".py",
   "mimetype": "text/x-python",
   "name": "python",
   "nbconvert_exporter": "python",
   "pygments_lexer": "ipython3",
   "version": "3.9.4"
  }
 },
 "nbformat": 4,
 "nbformat_minor": 2
}
